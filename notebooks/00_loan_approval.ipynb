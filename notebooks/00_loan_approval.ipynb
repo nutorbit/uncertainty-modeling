{
 "cells": [
  {
   "cell_type": "code",
   "execution_count": 1,
   "id": "3247bab3-23a5-4b66-a27c-b65da09c89c4",
   "metadata": {},
   "outputs": [],
   "source": [
    "import scipy\n",
    "import numpy as np\n",
    "import pandas as pd\n",
    "import seaborn as sns\n",
    "import matplotlib.pyplot as plt\n",
    "\n",
    "from typing import List, Union, Callable, Tuple, Any\n",
    "from IPython.core.interactiveshell import InteractiveShell\n",
    "\n",
    "InteractiveShell.ast_node_interactivity = \"all\""
   ]
  },
  {
   "cell_type": "markdown",
   "id": "73652af1-2b35-4d44-a6e3-f610415c47ef",
   "metadata": {},
   "source": [
    "# Motivation\n",
    "\n",
    "Effective decision-making is key to streamlining the loan underwriting process for banks. According to [[1]](), providing the right information to a model can lead to high performance in determining whether to approve a loan. However, there are certain variables, such as income, that may not be immediately accessible and require additional time to verify. As banks seek to optimize the underwriting process, it is important for them to anticipate this uncertainty and weigh the potential risks and profits.\n",
    "\n",
    "In this series, we will explore different techniques for managing uncertainty in machine learning models when making predictions. In this first chapter, I will demonstrate the impact of the income feature when building the loan approval model. "
   ]
  },
  {
   "cell_type": "code",
   "execution_count": 2,
   "id": "bf468b52-9f61-4909-ad79-17ee2ed5c125",
   "metadata": {},
   "outputs": [
    {
     "data": {
      "text/html": [
       "<div>\n",
       "<style scoped>\n",
       "    .dataframe tbody tr th:only-of-type {\n",
       "        vertical-align: middle;\n",
       "    }\n",
       "\n",
       "    .dataframe tbody tr th {\n",
       "        vertical-align: top;\n",
       "    }\n",
       "\n",
       "    .dataframe thead th {\n",
       "        text-align: right;\n",
       "    }\n",
       "</style>\n",
       "<table border=\"1\" class=\"dataframe\">\n",
       "  <thead>\n",
       "    <tr style=\"text-align: right;\">\n",
       "      <th></th>\n",
       "      <th>Loan_ID</th>\n",
       "      <th>Gender</th>\n",
       "      <th>Married</th>\n",
       "      <th>Dependents</th>\n",
       "      <th>Education</th>\n",
       "      <th>Self_Employed</th>\n",
       "      <th>ApplicantIncome</th>\n",
       "      <th>CoapplicantIncome</th>\n",
       "      <th>LoanAmount</th>\n",
       "      <th>Loan_Amount_Term</th>\n",
       "      <th>Credit_History</th>\n",
       "      <th>Property_Area</th>\n",
       "      <th>Loan_Status</th>\n",
       "    </tr>\n",
       "  </thead>\n",
       "  <tbody>\n",
       "    <tr>\n",
       "      <th>0</th>\n",
       "      <td>LP001002</td>\n",
       "      <td>Male</td>\n",
       "      <td>No</td>\n",
       "      <td>0</td>\n",
       "      <td>Graduate</td>\n",
       "      <td>No</td>\n",
       "      <td>5849</td>\n",
       "      <td>0.0</td>\n",
       "      <td>NaN</td>\n",
       "      <td>360.0</td>\n",
       "      <td>1.0</td>\n",
       "      <td>Urban</td>\n",
       "      <td>Y</td>\n",
       "    </tr>\n",
       "    <tr>\n",
       "      <th>1</th>\n",
       "      <td>LP001003</td>\n",
       "      <td>Male</td>\n",
       "      <td>Yes</td>\n",
       "      <td>1</td>\n",
       "      <td>Graduate</td>\n",
       "      <td>No</td>\n",
       "      <td>4583</td>\n",
       "      <td>1508.0</td>\n",
       "      <td>128.0</td>\n",
       "      <td>360.0</td>\n",
       "      <td>1.0</td>\n",
       "      <td>Rural</td>\n",
       "      <td>N</td>\n",
       "    </tr>\n",
       "    <tr>\n",
       "      <th>2</th>\n",
       "      <td>LP001005</td>\n",
       "      <td>Male</td>\n",
       "      <td>Yes</td>\n",
       "      <td>0</td>\n",
       "      <td>Graduate</td>\n",
       "      <td>Yes</td>\n",
       "      <td>3000</td>\n",
       "      <td>0.0</td>\n",
       "      <td>66.0</td>\n",
       "      <td>360.0</td>\n",
       "      <td>1.0</td>\n",
       "      <td>Urban</td>\n",
       "      <td>Y</td>\n",
       "    </tr>\n",
       "    <tr>\n",
       "      <th>3</th>\n",
       "      <td>LP001006</td>\n",
       "      <td>Male</td>\n",
       "      <td>Yes</td>\n",
       "      <td>0</td>\n",
       "      <td>Not Graduate</td>\n",
       "      <td>No</td>\n",
       "      <td>2583</td>\n",
       "      <td>2358.0</td>\n",
       "      <td>120.0</td>\n",
       "      <td>360.0</td>\n",
       "      <td>1.0</td>\n",
       "      <td>Urban</td>\n",
       "      <td>Y</td>\n",
       "    </tr>\n",
       "    <tr>\n",
       "      <th>4</th>\n",
       "      <td>LP001008</td>\n",
       "      <td>Male</td>\n",
       "      <td>No</td>\n",
       "      <td>0</td>\n",
       "      <td>Graduate</td>\n",
       "      <td>No</td>\n",
       "      <td>6000</td>\n",
       "      <td>0.0</td>\n",
       "      <td>141.0</td>\n",
       "      <td>360.0</td>\n",
       "      <td>1.0</td>\n",
       "      <td>Urban</td>\n",
       "      <td>Y</td>\n",
       "    </tr>\n",
       "  </tbody>\n",
       "</table>\n",
       "</div>"
      ],
      "text/plain": [
       "    Loan_ID Gender Married Dependents     Education Self_Employed  \\\n",
       "0  LP001002   Male      No          0      Graduate            No   \n",
       "1  LP001003   Male     Yes          1      Graduate            No   \n",
       "2  LP001005   Male     Yes          0      Graduate           Yes   \n",
       "3  LP001006   Male     Yes          0  Not Graduate            No   \n",
       "4  LP001008   Male      No          0      Graduate            No   \n",
       "\n",
       "   ApplicantIncome  CoapplicantIncome  LoanAmount  Loan_Amount_Term  \\\n",
       "0             5849                0.0         NaN             360.0   \n",
       "1             4583             1508.0       128.0             360.0   \n",
       "2             3000                0.0        66.0             360.0   \n",
       "3             2583             2358.0       120.0             360.0   \n",
       "4             6000                0.0       141.0             360.0   \n",
       "\n",
       "   Credit_History Property_Area Loan_Status  \n",
       "0             1.0         Urban           Y  \n",
       "1             1.0         Rural           N  \n",
       "2             1.0         Urban           Y  \n",
       "3             1.0         Urban           Y  \n",
       "4             1.0         Urban           Y  "
      ]
     },
     "execution_count": 2,
     "metadata": {},
     "output_type": "execute_result"
    },
    {
     "data": {
      "text/plain": [
       "(614, 13)"
      ]
     },
     "execution_count": 2,
     "metadata": {},
     "output_type": "execute_result"
    }
   ],
   "source": [
    "df = pd.read_csv(\"../data/loan-train.csv\")\n",
    "df.head()\n",
    "df.shape"
   ]
  },
  {
   "cell_type": "code",
   "execution_count": 3,
   "id": "6d26c7dc-f79b-49b6-831d-a12d018de50a",
   "metadata": {},
   "outputs": [],
   "source": [
    "df[\"Loan_Status\"] = (df[\"Loan_Status\"] == \"Y\").astype(int)"
   ]
  },
  {
   "cell_type": "markdown",
   "id": "f0038b49-fd57-4692-9517-18234fc1e73d",
   "metadata": {},
   "source": [
    "## Feature engineering"
   ]
  },
  {
   "cell_type": "markdown",
   "id": "bfa8fda3-2389-47b0-bdda-bfd73dc5df05",
   "metadata": {},
   "source": [
    "**Total income**\n",
    "\n",
    "Applicant income and Coapplicant income can determine the loan amount that customer can take."
   ]
  },
  {
   "cell_type": "code",
   "execution_count": 4,
   "id": "22ebe840-40b2-4d34-9360-99bae61d6cef",
   "metadata": {},
   "outputs": [],
   "source": [
    "df[\"TotalIncome\"] = df[\"ApplicantIncome\"] + df[\"CoapplicantIncome\"]"
   ]
  },
  {
   "cell_type": "markdown",
   "id": "eea78694-7891-45be-a22e-2034c5c7eac6",
   "metadata": {},
   "source": [
    "**Income Bin**"
   ]
  },
  {
   "cell_type": "code",
   "execution_count": 5,
   "id": "d1ce9ad0-8805-4b27-8e3e-80f437384d23",
   "metadata": {},
   "outputs": [],
   "source": [
    "total_income_bin_names = [\"<= 3500\", \"(3500, 5000]\", \"(5000, 9000]\", \"(9000, 17000]\", \"> 17000\"]\n",
    "\n",
    "df[\"TotalIncomeBin\"] = pd.cut(\n",
    "    df[\"TotalIncome\"], \n",
    "    bins=[-np.inf, 3500, 5000, 9000, 17000, np.inf],\n",
    "    labels=total_income_bin_names\n",
    ")  # .astype(str)\n",
    "\n",
    "# _ = sns.histplot(df[\"TotalIncomeBin\"])\n",
    "\n",
    "df[\"TotalIncomeBin\"] = df[\"TotalIncomeBin\"].astype(str)"
   ]
  },
  {
   "cell_type": "code",
   "execution_count": 6,
   "id": "5a70c40d-3640-404e-b021-9608e0db0e5e",
   "metadata": {},
   "outputs": [
    {
     "data": {
      "image/png": "[encoded data removed]",
      "text/plain": [
       "<Figure size 640x480 with 1 Axes>"
      ]
     },
     "metadata": {},
     "output_type": "display_data"
    }
   ],
   "source": [
    "applicant_income_bin_names = [\"<= 2500\", \"(2500, 3500]\", \"(3500, 6000]\", \"(6000, 10000]\", \"> 10000\"]\n",
    "\n",
    "df[\"ApplicantIncomeBin\"] = pd.cut(\n",
    "    df[\"ApplicantIncome\"], \n",
    "    bins=[-np.inf, 2500, 3500, 6000, 10000, np.inf],\n",
    "    labels=applicant_income_bin_names\n",
    ")  # .astype(str)\n",
    "\n",
    "_ = sns.histplot(df[\"ApplicantIncomeBin\"], stat=\"density\")\n",
    "\n",
    "df[\"ApplicantIncomeBin\"] = df[\"ApplicantIncomeBin\"].astype(str)"
   ]
  },
  {
   "cell_type": "markdown",
   "id": "d9c972a2-cbca-46c6-b829-065d1980ad26",
   "metadata": {},
   "source": [
    "**Monthly payment** [[2]]()\n",
    "\n",
    "If bank approve the loan, what is the minimum monthly payment?\n",
    "\n",
    "$$\n",
    "M = P\\frac{r(1+r)^n}{(1+r)^n - 1}\n",
    "$$\n",
    "\n",
    "Where, \n",
    "\n",
    "$M$ is the monthly payment\n",
    "\n",
    "$P$ is the mortgage amount\n",
    "\n",
    "$r$ is the monthly interest rate\n",
    "\n",
    "$n$ is the number of payment\n",
    "\n",
    "</br>"
   ]
  },
  {
   "cell_type": "code",
   "execution_count": 7,
   "id": "f8e10216-5113-4f12-82cc-f00ef2e3a3f9",
   "metadata": {},
   "outputs": [],
   "source": [
    "from calculations import calculate_mortgage_payment_per_month"
   ]
  },
  {
   "cell_type": "code",
   "execution_count": 8,
   "id": "1c879df9-2045-4a11-8f5d-f3de8dd66d51",
   "metadata": {},
   "outputs": [],
   "source": [
    "df[\"MonthlyPayment\"] = list(map(\n",
    "    lambda p: calculate_mortgage_payment_per_month(p * 1_000), df[\"LoanAmount\"]\n",
    "))"
   ]
  },
  {
   "cell_type": "markdown",
   "id": "e689ed48-380d-4235-96e3-295d41a6158f",
   "metadata": {},
   "source": [
    "**Expected profit**"
   ]
  },
  {
   "cell_type": "code",
   "execution_count": 9,
   "id": "52a1095c-9468-4ed5-b310-4e3858900b39",
   "metadata": {},
   "outputs": [],
   "source": [
    "df[\"TotalPay\"] = df[\"MonthlyPayment\"] * 360\n",
    "df[\"ExpectedProfit\"] = df[\"TotalPay\"] - (df[\"LoanAmount\"] * 1_000)"
   ]
  },
  {
   "cell_type": "code",
   "execution_count": 10,
   "id": "0dc8fa71-71be-4952-9a61-7268bdeeb2bb",
   "metadata": {},
   "outputs": [
    {
     "data": {
      "text/html": [
       "<div>\n",
       "<style scoped>\n",
       "    .dataframe tbody tr th:only-of-type {\n",
       "        vertical-align: middle;\n",
       "    }\n",
       "\n",
       "    .dataframe tbody tr th {\n",
       "        vertical-align: top;\n",
       "    }\n",
       "\n",
       "    .dataframe thead th {\n",
       "        text-align: right;\n",
       "    }\n",
       "</style>\n",
       "<table border=\"1\" class=\"dataframe\">\n",
       "  <thead>\n",
       "    <tr style=\"text-align: right;\">\n",
       "      <th></th>\n",
       "      <th>Loan_ID</th>\n",
       "      <th>Gender</th>\n",
       "      <th>Married</th>\n",
       "      <th>Dependents</th>\n",
       "      <th>Education</th>\n",
       "      <th>Self_Employed</th>\n",
       "      <th>ApplicantIncome</th>\n",
       "      <th>CoapplicantIncome</th>\n",
       "      <th>LoanAmount</th>\n",
       "      <th>Loan_Amount_Term</th>\n",
       "      <th>Credit_History</th>\n",
       "      <th>Property_Area</th>\n",
       "      <th>Loan_Status</th>\n",
       "      <th>TotalIncome</th>\n",
       "      <th>TotalIncomeBin</th>\n",
       "      <th>ApplicantIncomeBin</th>\n",
       "      <th>MonthlyPayment</th>\n",
       "      <th>TotalPay</th>\n",
       "      <th>ExpectedProfit</th>\n",
       "    </tr>\n",
       "  </thead>\n",
       "  <tbody>\n",
       "    <tr>\n",
       "      <th>0</th>\n",
       "      <td>LP001002</td>\n",
       "      <td>Male</td>\n",
       "      <td>No</td>\n",
       "      <td>0</td>\n",
       "      <td>Graduate</td>\n",
       "      <td>No</td>\n",
       "      <td>5849</td>\n",
       "      <td>0.0</td>\n",
       "      <td>NaN</td>\n",
       "      <td>360.0</td>\n",
       "      <td>1.0</td>\n",
       "      <td>Urban</td>\n",
       "      <td>1</td>\n",
       "      <td>5849.0</td>\n",
       "      <td>(5000, 9000]</td>\n",
       "      <td>(3500, 6000]</td>\n",
       "      <td>NaN</td>\n",
       "      <td>NaN</td>\n",
       "      <td>NaN</td>\n",
       "    </tr>\n",
       "    <tr>\n",
       "      <th>1</th>\n",
       "      <td>LP001003</td>\n",
       "      <td>Male</td>\n",
       "      <td>Yes</td>\n",
       "      <td>1</td>\n",
       "      <td>Graduate</td>\n",
       "      <td>No</td>\n",
       "      <td>4583</td>\n",
       "      <td>1508.0</td>\n",
       "      <td>128.0</td>\n",
       "      <td>360.0</td>\n",
       "      <td>1.0</td>\n",
       "      <td>Rural</td>\n",
       "      <td>0</td>\n",
       "      <td>6091.0</td>\n",
       "      <td>(5000, 9000]</td>\n",
       "      <td>(3500, 6000]</td>\n",
       "      <td>767.424672</td>\n",
       "      <td>276272.881990</td>\n",
       "      <td>148272.881990</td>\n",
       "    </tr>\n",
       "    <tr>\n",
       "      <th>2</th>\n",
       "      <td>LP001005</td>\n",
       "      <td>Male</td>\n",
       "      <td>Yes</td>\n",
       "      <td>0</td>\n",
       "      <td>Graduate</td>\n",
       "      <td>Yes</td>\n",
       "      <td>3000</td>\n",
       "      <td>0.0</td>\n",
       "      <td>66.0</td>\n",
       "      <td>360.0</td>\n",
       "      <td>1.0</td>\n",
       "      <td>Urban</td>\n",
       "      <td>1</td>\n",
       "      <td>3000.0</td>\n",
       "      <td>&lt;= 3500</td>\n",
       "      <td>(2500, 3500]</td>\n",
       "      <td>395.703347</td>\n",
       "      <td>142453.204776</td>\n",
       "      <td>76453.204776</td>\n",
       "    </tr>\n",
       "    <tr>\n",
       "      <th>3</th>\n",
       "      <td>LP001006</td>\n",
       "      <td>Male</td>\n",
       "      <td>Yes</td>\n",
       "      <td>0</td>\n",
       "      <td>Not Graduate</td>\n",
       "      <td>No</td>\n",
       "      <td>2583</td>\n",
       "      <td>2358.0</td>\n",
       "      <td>120.0</td>\n",
       "      <td>360.0</td>\n",
       "      <td>1.0</td>\n",
       "      <td>Urban</td>\n",
       "      <td>1</td>\n",
       "      <td>4941.0</td>\n",
       "      <td>(3500, 5000]</td>\n",
       "      <td>(2500, 3500]</td>\n",
       "      <td>719.460630</td>\n",
       "      <td>259005.826866</td>\n",
       "      <td>139005.826866</td>\n",
       "    </tr>\n",
       "    <tr>\n",
       "      <th>4</th>\n",
       "      <td>LP001008</td>\n",
       "      <td>Male</td>\n",
       "      <td>No</td>\n",
       "      <td>0</td>\n",
       "      <td>Graduate</td>\n",
       "      <td>No</td>\n",
       "      <td>6000</td>\n",
       "      <td>0.0</td>\n",
       "      <td>141.0</td>\n",
       "      <td>360.0</td>\n",
       "      <td>1.0</td>\n",
       "      <td>Urban</td>\n",
       "      <td>1</td>\n",
       "      <td>6000.0</td>\n",
       "      <td>(5000, 9000]</td>\n",
       "      <td>(3500, 6000]</td>\n",
       "      <td>845.366240</td>\n",
       "      <td>304331.846568</td>\n",
       "      <td>163331.846568</td>\n",
       "    </tr>\n",
       "  </tbody>\n",
       "</table>\n",
       "</div>"
      ],
      "text/plain": [
       "    Loan_ID Gender Married Dependents     Education Self_Employed  \\\n",
       "0  LP001002   Male      No          0      Graduate            No   \n",
       "1  LP001003   Male     Yes          1      Graduate            No   \n",
       "2  LP001005   Male     Yes          0      Graduate           Yes   \n",
       "3  LP001006   Male     Yes          0  Not Graduate            No   \n",
       "4  LP001008   Male      No          0      Graduate            No   \n",
       "\n",
       "   ApplicantIncome  CoapplicantIncome  LoanAmount  Loan_Amount_Term  \\\n",
       "0             5849                0.0         NaN             360.0   \n",
       "1             4583             1508.0       128.0             360.0   \n",
       "2             3000                0.0        66.0             360.0   \n",
       "3             2583             2358.0       120.0             360.0   \n",
       "4             6000                0.0       141.0             360.0   \n",
       "\n",
       "   Credit_History Property_Area  Loan_Status  TotalIncome TotalIncomeBin  \\\n",
       "0             1.0         Urban            1       5849.0   (5000, 9000]   \n",
       "1             1.0         Rural            0       6091.0   (5000, 9000]   \n",
       "2             1.0         Urban            1       3000.0        <= 3500   \n",
       "3             1.0         Urban            1       4941.0   (3500, 5000]   \n",
       "4             1.0         Urban            1       6000.0   (5000, 9000]   \n",
       "\n",
       "  ApplicantIncomeBin  MonthlyPayment       TotalPay  ExpectedProfit  \n",
       "0       (3500, 6000]             NaN            NaN             NaN  \n",
       "1       (3500, 6000]      767.424672  276272.881990   148272.881990  \n",
       "2       (2500, 3500]      395.703347  142453.204776    76453.204776  \n",
       "3       (2500, 3500]      719.460630  259005.826866   139005.826866  \n",
       "4       (3500, 6000]      845.366240  304331.846568   163331.846568  "
      ]
     },
     "execution_count": 10,
     "metadata": {},
     "output_type": "execute_result"
    }
   ],
   "source": [
    "df.head()"
   ]
  },
  {
   "cell_type": "code",
   "execution_count": 27,
   "id": "b7a20c65-901d-440d-9d30-54896d1d4081",
   "metadata": {},
   "outputs": [],
   "source": [
    "# df.to_csv(\"../data/00_enriched_data.csv\", index=False)"
   ]
  },
  {
   "cell_type": "markdown",
   "id": "fd11cc84-70b0-4c5b-8cde-a9b846b74ae9",
   "metadata": {},
   "source": [
    "## Baseline loan model\n",
    "\n",
    "Let's build the baseline for loan approval model."
   ]
  },
  {
   "cell_type": "code",
   "execution_count": 11,
   "id": "cb645db5-cd0f-420c-b8dd-dc1b407b5928",
   "metadata": {},
   "outputs": [],
   "source": [
    "from modeling import encode_categorical_features, encode_categorical_features_v2, encode_all, apply_encoders, rollout_result, encode_numerical_features\n",
    "\n",
    "from catboost import CatBoostClassifier\n",
    "from xgboost import XGBClassifier\n",
    "from sklearn.ensemble import RandomForestClassifier\n",
    "from sklearn.linear_model import LogisticRegression\n",
    "from lightgbm import LGBMClassifier\n",
    "\n",
    "from sklearn.metrics import accuracy_score, recall_score, precision_score, classification_report, confusion_matrix\n",
    "from sklearn.model_selection import train_test_split"
   ]
  },
  {
   "cell_type": "code",
   "execution_count": 12,
   "id": "a2bebce1-d26e-4a1a-990e-077745fe7187",
   "metadata": {},
   "outputs": [],
   "source": [
    "df_copy = df.dropna().copy()"
   ]
  },
  {
   "cell_type": "code",
   "execution_count": 13,
   "id": "6759c00f-6d05-4a06-a5ec-d01a212314e4",
   "metadata": {
    "tags": []
   },
   "outputs": [
    {
     "name": "stderr",
     "output_type": "stream",
     "text": [
      "/Users/nutorbit/Library/Caches/pypoetry/virtualenvs/uncertainty-modeling-6RgNMiVj-py3.8/lib/python3.8/site-packages/category_encoders/target_encoder.py:122: FutureWarning: Default parameter min_samples_leaf will change in version 2.6.See https://github.com/scikit-learn-contrib/category_encoders/issues/327\n",
      "  warnings.warn(\"Default parameter min_samples_leaf will change in version 2.6.\"\n",
      "/Users/nutorbit/Library/Caches/pypoetry/virtualenvs/uncertainty-modeling-6RgNMiVj-py3.8/lib/python3.8/site-packages/category_encoders/target_encoder.py:127: FutureWarning: Default parameter smoothing will change in version 2.6.See https://github.com/scikit-learn-contrib/category_encoders/issues/327\n",
      "  warnings.warn(\"Default parameter smoothing will change in version 2.6.\"\n",
      "/Users/nutorbit/Library/Caches/pypoetry/virtualenvs/uncertainty-modeling-6RgNMiVj-py3.8/lib/python3.8/site-packages/category_encoders/target_encoder.py:122: FutureWarning: Default parameter min_samples_leaf will change in version 2.6.See https://github.com/scikit-learn-contrib/category_encoders/issues/327\n",
      "  warnings.warn(\"Default parameter min_samples_leaf will change in version 2.6.\"\n",
      "/Users/nutorbit/Library/Caches/pypoetry/virtualenvs/uncertainty-modeling-6RgNMiVj-py3.8/lib/python3.8/site-packages/category_encoders/target_encoder.py:127: FutureWarning: Default parameter smoothing will change in version 2.6.See https://github.com/scikit-learn-contrib/category_encoders/issues/327\n",
      "  warnings.warn(\"Default parameter smoothing will change in version 2.6.\"\n",
      "/Users/nutorbit/Library/Caches/pypoetry/virtualenvs/uncertainty-modeling-6RgNMiVj-py3.8/lib/python3.8/site-packages/category_encoders/target_encoder.py:122: FutureWarning: Default parameter min_samples_leaf will change in version 2.6.See https://github.com/scikit-learn-contrib/category_encoders/issues/327\n",
      "  warnings.warn(\"Default parameter min_samples_leaf will change in version 2.6.\"\n",
      "/Users/nutorbit/Library/Caches/pypoetry/virtualenvs/uncertainty-modeling-6RgNMiVj-py3.8/lib/python3.8/site-packages/category_encoders/target_encoder.py:127: FutureWarning: Default parameter smoothing will change in version 2.6.See https://github.com/scikit-learn-contrib/category_encoders/issues/327\n",
      "  warnings.warn(\"Default parameter smoothing will change in version 2.6.\"\n",
      "/Users/nutorbit/Library/Caches/pypoetry/virtualenvs/uncertainty-modeling-6RgNMiVj-py3.8/lib/python3.8/site-packages/category_encoders/target_encoder.py:122: FutureWarning: Default parameter min_samples_leaf will change in version 2.6.See https://github.com/scikit-learn-contrib/category_encoders/issues/327\n",
      "  warnings.warn(\"Default parameter min_samples_leaf will change in version 2.6.\"\n",
      "/Users/nutorbit/Library/Caches/pypoetry/virtualenvs/uncertainty-modeling-6RgNMiVj-py3.8/lib/python3.8/site-packages/category_encoders/target_encoder.py:127: FutureWarning: Default parameter smoothing will change in version 2.6.See https://github.com/scikit-learn-contrib/category_encoders/issues/327\n",
      "  warnings.warn(\"Default parameter smoothing will change in version 2.6.\"\n",
      "/Users/nutorbit/Library/Caches/pypoetry/virtualenvs/uncertainty-modeling-6RgNMiVj-py3.8/lib/python3.8/site-packages/category_encoders/target_encoder.py:122: FutureWarning: Default parameter min_samples_leaf will change in version 2.6.See https://github.com/scikit-learn-contrib/category_encoders/issues/327\n",
      "  warnings.warn(\"Default parameter min_samples_leaf will change in version 2.6.\"\n",
      "/Users/nutorbit/Library/Caches/pypoetry/virtualenvs/uncertainty-modeling-6RgNMiVj-py3.8/lib/python3.8/site-packages/category_encoders/target_encoder.py:127: FutureWarning: Default parameter smoothing will change in version 2.6.See https://github.com/scikit-learn-contrib/category_encoders/issues/327\n",
      "  warnings.warn(\"Default parameter smoothing will change in version 2.6.\"\n"
     ]
    }
   ],
   "source": [
    "mean_scores, best_model = rollout_result(\n",
    "    model_fn=lambda: CatBoostClassifier(iterations=1e3, depth=5, verbose=0),\n",
    "    df=df_copy,\n",
    "    cat_features=[\n",
    "        \"Gender\", \"Married\", \"Dependents\", \"Education\", \n",
    "        \"Self_Employed\", \"Property_Area\", \"Credit_History\"\n",
    "    ],\n",
    "    num_features=[\n",
    "        \"ApplicantIncome\", \"TotalIncome\", \"LoanAmount\", \"Loan_Amount_Term\", \n",
    "        \"MonthlyPayment\",\n",
    "    ],\n",
    "    target=\"Loan_Status\"\n",
    ")"
   ]
  },
  {
   "cell_type": "code",
   "execution_count": 14,
   "id": "78bea7e3-66ac-4b49-a487-21ac8d036b01",
   "metadata": {},
   "outputs": [
    {
     "data": {
      "text/plain": [
       "0.80625"
      ]
     },
     "execution_count": 14,
     "metadata": {},
     "output_type": "execute_result"
    }
   ],
   "source": [
    "mean_scores"
   ]
  },
  {
   "cell_type": "code",
   "execution_count": 15,
   "id": "358db057-2f1d-467a-96fa-cd7c2d02412b",
   "metadata": {},
   "outputs": [
    {
     "data": {
      "image/png": "[encoded data removed]",
      "text/plain": [
       "<Figure size 640x480 with 1 Axes>"
      ]
     },
     "metadata": {},
     "output_type": "display_data"
    }
   ],
   "source": [
    "idx = np.argsort(best_model.feature_importances_)\n",
    "_ = plt.barh(np.array(best_model.feature_names_)[idx], np.array(best_model.feature_importances_)[idx])"
   ]
  },
  {
   "cell_type": "markdown",
   "id": "56a5a914-bab3-4b7f-9b78-fe4eea5d931e",
   "metadata": {},
   "source": [
    "This shows the accuracy of the model is around 80%. However, we don't just want to know how accurate it is but we also want to know the opportunity loss when using this model."
   ]
  },
  {
   "cell_type": "code",
   "execution_count": 16,
   "id": "2fdfdf18-0c89-45da-b5f8-f43d2b9f6919",
   "metadata": {},
   "outputs": [
    {
     "name": "stderr",
     "output_type": "stream",
     "text": [
      "/Users/nutorbit/Library/Caches/pypoetry/virtualenvs/uncertainty-modeling-6RgNMiVj-py3.8/lib/python3.8/site-packages/category_encoders/target_encoder.py:122: FutureWarning: Default parameter min_samples_leaf will change in version 2.6.See https://github.com/scikit-learn-contrib/category_encoders/issues/327\n",
      "  warnings.warn(\"Default parameter min_samples_leaf will change in version 2.6.\"\n",
      "/Users/nutorbit/Library/Caches/pypoetry/virtualenvs/uncertainty-modeling-6RgNMiVj-py3.8/lib/python3.8/site-packages/category_encoders/target_encoder.py:127: FutureWarning: Default parameter smoothing will change in version 2.6.See https://github.com/scikit-learn-contrib/category_encoders/issues/327\n",
      "  warnings.warn(\"Default parameter smoothing will change in version 2.6.\"\n"
     ]
    }
   ],
   "source": [
    "train, test = train_test_split(df_copy, test_size=0.2, random_state=123)\n",
    "\n",
    "train_encoded, encoder = encode_all(\n",
    "    df=train, \n",
    "    cat_encoder_fn=encode_categorical_features, \n",
    "    num_encoder_fn=encode_numerical_features,\n",
    "    cat_features=[\n",
    "        \"Gender\", \"Married\", \"Dependents\", \"Education\", \n",
    "        \"Self_Employed\", \"Property_Area\", \"Credit_History\"\n",
    "    ],\n",
    "    num_features=[\n",
    "        \"ApplicantIncome\", \"TotalIncome\", \"LoanAmount\", \"Loan_Amount_Term\", \n",
    "        \"MonthlyPayment\",\n",
    "    ],\n",
    "    target=\"Loan_Status\"\n",
    ")"
   ]
  },
  {
   "cell_type": "code",
   "execution_count": 17,
   "id": "93eb1c1c-155c-4db0-a034-e83fc28dd345",
   "metadata": {},
   "outputs": [],
   "source": [
    "model = CatBoostClassifier(iterations=1e3, depth=5, verbose=0)\n",
    "_ = model.fit(\n",
    "    train_encoded.drop(\"Loan_Status\", axis=1), \n",
    "    train_encoded[\"Loan_Status\"]\n",
    ")"
   ]
  },
  {
   "cell_type": "code",
   "execution_count": 18,
   "id": "d30af7e1-52f1-4e8b-80ad-a2517c20fa0e",
   "metadata": {},
   "outputs": [],
   "source": [
    "test_encoded = apply_encoders(\n",
    "    df=test,\n",
    "    encoder=encoder,\n",
    "    cat_features=[\n",
    "        \"Gender\", \"Married\", \"Dependents\", \"Education\", \n",
    "        \"Self_Employed\", \"Property_Area\", \"Credit_History\"\n",
    "    ],\n",
    "    num_features=[\n",
    "        \"ApplicantIncome\", \"TotalIncome\", \"LoanAmount\", \"Loan_Amount_Term\", \n",
    "        \"MonthlyPayment\",\n",
    "    ],\n",
    "    target=\"Loan_Status\"\n",
    ")"
   ]
  },
  {
   "cell_type": "code",
   "execution_count": 19,
   "id": "7209f316-5c80-4b9d-9ae1-b2ee86495f9b",
   "metadata": {},
   "outputs": [],
   "source": [
    "test.reset_index(drop=True, inplace=True)\n",
    "\n",
    "test[\"pred\"] = model.predict(test_encoded.drop(\"Loan_Status\", axis=1))"
   ]
  },
  {
   "cell_type": "code",
   "execution_count": 20,
   "id": "259e3352-9312-4619-9392-f5906eee3953",
   "metadata": {},
   "outputs": [
    {
     "data": {
      "text/html": [
       "<div>\n",
       "<style scoped>\n",
       "    .dataframe tbody tr th:only-of-type {\n",
       "        vertical-align: middle;\n",
       "    }\n",
       "\n",
       "    .dataframe tbody tr th {\n",
       "        vertical-align: top;\n",
       "    }\n",
       "\n",
       "    .dataframe thead th {\n",
       "        text-align: right;\n",
       "    }\n",
       "</style>\n",
       "<table border=\"1\" class=\"dataframe\">\n",
       "  <thead>\n",
       "    <tr style=\"text-align: right;\">\n",
       "      <th></th>\n",
       "      <th>1</th>\n",
       "      <th>0</th>\n",
       "    </tr>\n",
       "  </thead>\n",
       "  <tbody>\n",
       "    <tr>\n",
       "      <th>1</th>\n",
       "      <td>58</td>\n",
       "      <td>2</td>\n",
       "    </tr>\n",
       "    <tr>\n",
       "      <th>0</th>\n",
       "      <td>16</td>\n",
       "      <td>20</td>\n",
       "    </tr>\n",
       "  </tbody>\n",
       "</table>\n",
       "</div>"
      ],
      "text/plain": [
       "    1   0\n",
       "1  58   2\n",
       "0  16  20"
      ]
     },
     "execution_count": 20,
     "metadata": {},
     "output_type": "execute_result"
    }
   ],
   "source": [
    "pd.DataFrame(\n",
    "    confusion_matrix(\n",
    "        test_encoded[\"Loan_Status\"],\n",
    "        test[\"pred\"],\n",
    "        labels=[1, 0]\n",
    "    ),\n",
    "    index=[1, 0],\n",
    "    columns=[1, 0]\n",
    ")"
   ]
  },
  {
   "cell_type": "markdown",
   "id": "d72f4ad5-a906-4129-b0a9-f1ceaff308b7",
   "metadata": {},
   "source": [
    "The above table is a confusion matrix, where $i^{th}$ row represents the actual loan status and $j^{th}$ column represents the predicted outcome. \n",
    "\n",
    "In the banking context, we don't want False Positive (FP) to be high because this means we give the loan to borrowers who might not be able to payback, which can result in an opportunity loss for the bank.\n",
    "\n",
    "**Opportunity loss = (cost of false positives * number of false positives) + (cost of false negatives * number of false negatives)**\n",
    "\n",
    "Assuming the cost of false positive is equal to the loan amount and cost of false negative is zero."
   ]
  },
  {
   "cell_type": "code",
   "execution_count": 21,
   "id": "4eb0e2e4-956b-4111-986d-0afb9d8bf583",
   "metadata": {},
   "outputs": [],
   "source": [
    "FP = test[\n",
    "    (test[\"Loan_Status\"] == 0) &\n",
    "    (test[\"pred\"] == 1)\n",
    "]\n",
    "\n",
    "TP = test[\n",
    "    (test[\"Loan_Status\"] == 1) & \n",
    "    (test[\"pred\"] == 1)\n",
    "]"
   ]
  },
  {
   "cell_type": "code",
   "execution_count": 22,
   "id": "d290c0d3-b5ea-430e-bade-14218ca8d829",
   "metadata": {},
   "outputs": [
    {
     "data": {
      "text/plain": [
       "2554000.0"
      ]
     },
     "execution_count": 22,
     "metadata": {},
     "output_type": "execute_result"
    }
   ],
   "source": [
    "opportunity_loss = FP[\"LoanAmount\"].sum() * 1_000\n",
    "opportunity_loss"
   ]
  },
  {
   "cell_type": "code",
   "execution_count": 23,
   "id": "97f31631-14f2-4bc1-a21b-48c72f44bb48",
   "metadata": {},
   "outputs": [
    {
     "data": {
      "text/plain": [
       "8320657.119820111"
      ]
     },
     "execution_count": 23,
     "metadata": {},
     "output_type": "execute_result"
    }
   ],
   "source": [
    "expected_profit = TP[\"ExpectedProfit\"].sum()\n",
    "expected_profit"
   ]
  },
  {
   "cell_type": "markdown",
   "id": "0058084d-c978-40e6-b482-2bd988e364a0",
   "metadata": {},
   "source": [
    "Where, **Accept rate** is around 77%"
   ]
  },
  {
   "cell_type": "markdown",
   "id": "8ef7335c-3f65-4066-bca5-14c1ee6faa31",
   "metadata": {},
   "source": [
    "Let's see if we drop all income-related features out."
   ]
  },
  {
   "cell_type": "code",
   "execution_count": 24,
   "id": "7992907a-a21e-414c-b4cb-90a5790c4149",
   "metadata": {},
   "outputs": [
    {
     "name": "stderr",
     "output_type": "stream",
     "text": [
      "/Users/nutorbit/Library/Caches/pypoetry/virtualenvs/uncertainty-modeling-6RgNMiVj-py3.8/lib/python3.8/site-packages/category_encoders/target_encoder.py:122: FutureWarning: Default parameter min_samples_leaf will change in version 2.6.See https://github.com/scikit-learn-contrib/category_encoders/issues/327\n",
      "  warnings.warn(\"Default parameter min_samples_leaf will change in version 2.6.\"\n",
      "/Users/nutorbit/Library/Caches/pypoetry/virtualenvs/uncertainty-modeling-6RgNMiVj-py3.8/lib/python3.8/site-packages/category_encoders/target_encoder.py:127: FutureWarning: Default parameter smoothing will change in version 2.6.See https://github.com/scikit-learn-contrib/category_encoders/issues/327\n",
      "  warnings.warn(\"Default parameter smoothing will change in version 2.6.\"\n",
      "/Users/nutorbit/Library/Caches/pypoetry/virtualenvs/uncertainty-modeling-6RgNMiVj-py3.8/lib/python3.8/site-packages/category_encoders/target_encoder.py:122: FutureWarning: Default parameter min_samples_leaf will change in version 2.6.See https://github.com/scikit-learn-contrib/category_encoders/issues/327\n",
      "  warnings.warn(\"Default parameter min_samples_leaf will change in version 2.6.\"\n",
      "/Users/nutorbit/Library/Caches/pypoetry/virtualenvs/uncertainty-modeling-6RgNMiVj-py3.8/lib/python3.8/site-packages/category_encoders/target_encoder.py:127: FutureWarning: Default parameter smoothing will change in version 2.6.See https://github.com/scikit-learn-contrib/category_encoders/issues/327\n",
      "  warnings.warn(\"Default parameter smoothing will change in version 2.6.\"\n",
      "/Users/nutorbit/Library/Caches/pypoetry/virtualenvs/uncertainty-modeling-6RgNMiVj-py3.8/lib/python3.8/site-packages/category_encoders/target_encoder.py:122: FutureWarning: Default parameter min_samples_leaf will change in version 2.6.See https://github.com/scikit-learn-contrib/category_encoders/issues/327\n",
      "  warnings.warn(\"Default parameter min_samples_leaf will change in version 2.6.\"\n",
      "/Users/nutorbit/Library/Caches/pypoetry/virtualenvs/uncertainty-modeling-6RgNMiVj-py3.8/lib/python3.8/site-packages/category_encoders/target_encoder.py:127: FutureWarning: Default parameter smoothing will change in version 2.6.See https://github.com/scikit-learn-contrib/category_encoders/issues/327\n",
      "  warnings.warn(\"Default parameter smoothing will change in version 2.6.\"\n",
      "/Users/nutorbit/Library/Caches/pypoetry/virtualenvs/uncertainty-modeling-6RgNMiVj-py3.8/lib/python3.8/site-packages/category_encoders/target_encoder.py:122: FutureWarning: Default parameter min_samples_leaf will change in version 2.6.See https://github.com/scikit-learn-contrib/category_encoders/issues/327\n",
      "  warnings.warn(\"Default parameter min_samples_leaf will change in version 2.6.\"\n",
      "/Users/nutorbit/Library/Caches/pypoetry/virtualenvs/uncertainty-modeling-6RgNMiVj-py3.8/lib/python3.8/site-packages/category_encoders/target_encoder.py:127: FutureWarning: Default parameter smoothing will change in version 2.6.See https://github.com/scikit-learn-contrib/category_encoders/issues/327\n",
      "  warnings.warn(\"Default parameter smoothing will change in version 2.6.\"\n",
      "/Users/nutorbit/Library/Caches/pypoetry/virtualenvs/uncertainty-modeling-6RgNMiVj-py3.8/lib/python3.8/site-packages/category_encoders/target_encoder.py:122: FutureWarning: Default parameter min_samples_leaf will change in version 2.6.See https://github.com/scikit-learn-contrib/category_encoders/issues/327\n",
      "  warnings.warn(\"Default parameter min_samples_leaf will change in version 2.6.\"\n",
      "/Users/nutorbit/Library/Caches/pypoetry/virtualenvs/uncertainty-modeling-6RgNMiVj-py3.8/lib/python3.8/site-packages/category_encoders/target_encoder.py:127: FutureWarning: Default parameter smoothing will change in version 2.6.See https://github.com/scikit-learn-contrib/category_encoders/issues/327\n",
      "  warnings.warn(\"Default parameter smoothing will change in version 2.6.\"\n"
     ]
    }
   ],
   "source": [
    "mean_scores, best_model = rollout_result(\n",
    "    model_fn=lambda: CatBoostClassifier(iterations=1e3, depth=5, verbose=0),\n",
    "    df=df_copy,\n",
    "    cat_features=[\n",
    "        \"Gender\", \"Married\", \"Dependents\", \"Education\", \n",
    "        \"Self_Employed\", \"Property_Area\", \"Credit_History\"\n",
    "    ],\n",
    "    num_features=[],\n",
    "    target=\"Loan_Status\"\n",
    ")"
   ]
  },
  {
   "cell_type": "code",
   "execution_count": 25,
   "id": "14d519d3-17d8-4322-98ae-661eed89c1a1",
   "metadata": {},
   "outputs": [
    {
     "data": {
      "text/plain": [
       "0.7770833333333333"
      ]
     },
     "execution_count": 25,
     "metadata": {},
     "output_type": "execute_result"
    }
   ],
   "source": [
    "mean_scores"
   ]
  },
  {
   "cell_type": "code",
   "execution_count": 26,
   "id": "0e3c1eeb-d588-4143-98b4-d497c5254a06",
   "metadata": {},
   "outputs": [],
   "source": [
    "# idx = np.argsort(best_model.feature_importances_)\n",
    "# _ = plt.barh(np.array(best_model.feature_names_)[idx], np.array(best_model.feature_importances_)[idx])"
   ]
  },
  {
   "cell_type": "markdown",
   "id": "00dd4a07-b70f-452d-9775-9f2bfe03cbae",
   "metadata": {},
   "source": [
    "Obviously, removing the income-related features affects the performance of the model. "
   ]
  },
  {
   "cell_type": "markdown",
   "id": "8d4043f9-c993-48ef-9726-5576f6114449",
   "metadata": {},
   "source": [
    "# References\n",
    "\n",
    "1. [Loan Prediction w/ Various ML Models](https://www.kaggle.com/code/caesarmario/loan-prediction-w-various-ml-models/notebook)\n",
    "2. [Mortgage Calculator](https://www.bankrate.com/mortgages/mortgage-calculator/)"
   ]
  }
 ],
 "metadata": {
  "kernelspec": {
   "display_name": "Python 3 (ipykernel)",
   "language": "python",
   "name": "python3"
  },
  "language_info": {
   "codemirror_mode": {
    "name": "ipython",
    "version": 3
   },
   "file_extension": ".py",
   "mimetype": "text/x-python",
   "name": "python",
   "nbconvert_exporter": "python",
   "pygments_lexer": "ipython3",
   "version": "3.8.11"
  },
  "toc-autonumbering": false
 },
 "nbformat": 4,
 "nbformat_minor": 5
}
