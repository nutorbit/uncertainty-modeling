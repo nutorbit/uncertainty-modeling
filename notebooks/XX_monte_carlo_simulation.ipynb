{
 "cells": [
  {
   "cell_type": "markdown",
   "metadata": {
    "tags": []
   },
   "source": [
    "# Table of content\n",
    "\n",
    "* [Motivation](#motivation)\n",
    "* [Simulation-based estimation](#simulation-based)\n",
    "    * [Decision making assumption](#decision-making-assumption)\n",
    "    * [Data assumption](#data-assumption)\n",
    "    * [Run experiment](#run-experiment)\n",
    "* [References](#references)"
   ]
  },
  {
   "cell_type": "markdown",
   "metadata": {},
   "source": [
    "## Motivation <a class=\"anchor\" id=\"motivation\"></a>"
   ]
  },
  {
   "cell_type": "markdown",
   "metadata": {},
   "source": [
    "People live in a world where many things are uncertain - i.e., the number of cars on the road at a particular time. As humans, we usually take uncertainty into account when making any decision. In addition, awaring the uncertainty helps people to make better decisions. In this notebook, we want to show how we can make better decisions with uncertainty.\n",
    "\n",
    "Firstly, we will use **mortgage loan** as an use case to work on. Ultimately, we want to see the benefit of taking some risk; how much the expected profits would be? how much the uplift in terms of market size is?."
   ]
  },
  {
   "cell_type": "markdown",
   "metadata": {
    "tags": []
   },
   "source": [
    "## Simulation-based approach <a class=\"anchor\" id=\"simulation-based\"></a>\n",
    "\n",
    "Before simulating the outcome, we firstly need to make some assumptions about the data and how the decision maker make a decision."
   ]
  },
  {
   "cell_type": "code",
   "execution_count": 1,
   "metadata": {},
   "outputs": [
    {
     "name": "stdout",
     "output_type": "stream",
     "text": [
      "INFO: Pandarallel will run on 8 workers.\n",
      "INFO: Pandarallel will use standard multiprocessing data transfer (pipe) to transfer data between the main process and workers.\n"
     ]
    }
   ],
   "source": [
    "import numpy as np\n",
    "import pandas as pd\n",
    "import seaborn as sns\n",
    "import matplotlib.pyplot as plt\n",
    "\n",
    "from scipy import stats\n",
    "from tqdm import tqdm\n",
    "from typing import Dict, Tuple, List\n",
    "from IPython.core.interactiveshell import InteractiveShell\n",
    "from pandarallel import pandarallel\n",
    "\n",
    "pandarallel.initialize()\n",
    "InteractiveShell.ast_node_interactivity = \"all\""
   ]
  },
  {
   "cell_type": "code",
   "execution_count": 2,
   "metadata": {
    "tags": []
   },
   "outputs": [],
   "source": [
    "# hyperparameter\n",
    "\n",
    "SEED = 123\n",
    "\n",
    "N_USER = 1_000\n",
    "N_YEAR = 30\n",
    "INTEREST_RATE = 0.06  # 6% per year\n",
    "DEFAULT_RATE = 0.005  # 0.5%"
   ]
  },
  {
   "cell_type": "markdown",
   "metadata": {},
   "source": [
    "### Decision making assumption <a class=\"anchor\" id=\"decision-making-assumption\"></a>\n",
    "\n",
    "Let's say all customers **are not holding any debt**, and come to the bank intending to get loan with 30 years contract (Mortgage).\n",
    "\n",
    "This is how the decision logic works:\n",
    "\n",
    "* The customer has monthly salary $S$, and the maximum holding debt per customer is 40% of their salary [[4]](https://www.sansiri.com/content/view/%E0%B8%84%E0%B8%B3%E0%B9%81%E0%B8%99%E0%B8%B0%E0%B8%99%E0%B8%B3%E0%B8%81%E0%B8%B9%E0%B9%89%E0%B8%9A%E0%B9%89%E0%B8%B2%E0%B8%99-%E0%B9%80%E0%B8%87%E0%B8%B4%E0%B8%99%E0%B9%80%E0%B8%94%E0%B8%B7%E0%B8%AD%E0%B8%99-20,000-%E0%B8%A1%E0%B8%99%E0%B8%B8%E0%B8%A9%E0%B8%A2%E0%B9%8C%E0%B9%80%E0%B8%87%E0%B8%B4%E0%B8%99%E0%B9%80%E0%B8%94%E0%B8%B7%E0%B8%AD%E0%B8%99%E0%B8%81%E0%B8%B9%E0%B9%89%E0%B9%80%E0%B8%87%E0%B8%B4%E0%B8%99%E0%B8%8B%E0%B8%B7%E0%B9%89%E0%B8%AD%E0%B8%9A%E0%B9%89%E0%B8%B2%E0%B8%99%E0%B9%84%E0%B8%94%E0%B9%89%E0%B8%81%E0%B8%B5%E0%B9%88%E0%B8%A5%E0%B9%89%E0%B8%B2%E0%B8%99/th).\n",
    "\n",
    "* As we assume the customer are not holding any debt, the installment will be $I = S * 0.4$.\n",
    "\n",
    "* If installment is less than minimum mortgage payment, deny the loan."
   ]
  },
  {
   "cell_type": "markdown",
   "metadata": {},
   "source": [
    "**Mortgage payment per month** [[9]](https://www.bankrate.com/mortgages/mortgage-calculator/)\n",
    "\n",
    "$$\n",
    "M = P\\frac{r(1+r)^n}{(1+r)^n - 1}\n",
    "$$\n",
    "\n",
    "Where, \n",
    "\n",
    "$M$ is the monthly payment\n",
    "\n",
    "$P$ is the mortgage amount\n",
    "\n",
    "$r$ is the monthly interest rate\n",
    "\n",
    "$n$ is the number of payment\n",
    "\n",
    "</br>\n",
    "\n",
    "**Maximum mortgage amount**\n",
    "\n",
    "$$\n",
    "P = M\\frac{(1+r)^n - 1}{r(1+r)^n}\n",
    "$$\n",
    "\n",
    "where, $M = I = S * 0.4$"
   ]
  },
  {
   "cell_type": "code",
   "execution_count": 3,
   "metadata": {},
   "outputs": [],
   "source": [
    "def calculate_mortgage_payment_per_month(p: float, r: float, n: int = 360) -> float:\n",
    "    \"\"\"\n",
    "    Calcuate the mortgage payment per month\n",
    "    \n",
    "    Args:\n",
    "        p: mortgage amount\n",
    "        r: monthly interest rate\n",
    "        n: number of payment (default 360)\n",
    "        \n",
    "    Returns:\n",
    "        monthly per month\n",
    "    \"\"\"\n",
    "    \n",
    "    numerator = r * (1 + r) ** n\n",
    "    denominator = (1 + r) ** n - 1\n",
    "    res = p * numerator / denominator\n",
    "    return res\n",
    "\n",
    "\n",
    "def calculate_maximum_mortgage_amount(s: float, r: float, n: int = 360) -> float:\n",
    "    \"\"\"\n",
    "    Calculate the maximum mortgage allowance\n",
    "    \n",
    "    Args:\n",
    "        s: salary/income\n",
    "        r: monthly interest rate\n",
    "        n: number of payment (default 360)\n",
    "        \n",
    "    Returns:\n",
    "        the maximum mortgage allowance\n",
    "    \"\"\"\n",
    "    \n",
    "    numerator = (1 + r) ** n - 1\n",
    "    denominator = r * (1 + r) ** n\n",
    "    m = s * 0.4\n",
    "    res = m * numerator / denominator\n",
    "    return res"
   ]
  },
  {
   "cell_type": "markdown",
   "metadata": {},
   "source": [
    "### Data assumption <a class=\"anchor\" id=\"data-assumption\"></a>"
   ]
  },
  {
   "cell_type": "markdown",
   "metadata": {
    "tags": []
   },
   "source": [
    "#### Customer income\n",
    "\n",
    "In this variable, we assume the distribution of the income is come from one of the postively skewed distribution family - e.g., log-normal, gamma, skewed-normal distribution. In addition, we assume the mean of the income is around 20,000 THB based on [[8]](https://www.wongnai.com/articles/cost-of-living?ref=ct) blog. "
   ]
  },
  {
   "cell_type": "code",
   "execution_count": 4,
   "metadata": {
    "tags": []
   },
   "outputs": [],
   "source": [
    "def generate_income(n: int, seed: int = SEED, method: str = \"lognorm\") -> np.ndarray:\n",
    "    dist = None\n",
    "    if method == \"lognorm\":\n",
    "        dist = stats.lognorm(0.7)\n",
    "    elif method == \"gamma\":\n",
    "        dist = stats.gamma(1)\n",
    "    elif method == \"skewnorm\":\n",
    "        dist = stats.skewnorm(10)\n",
    "    else:\n",
    "        raise NotImplementedError(f\"{method} method is not implemented.\")\n",
    "    \n",
    "    rvs = dist.rvs(size=n, random_state=seed)\n",
    "    \n",
    "    # scale up the random samples\n",
    "    res = rvs * 20_000 / np.mean(rvs)\n",
    "    \n",
    "    return res"
   ]
  },
  {
   "cell_type": "code",
   "execution_count": 5,
   "metadata": {
    "tags": []
   },
   "outputs": [],
   "source": [
    "# fig, ax = plt.subplots(figsize=(10, 7))\n",
    "\n",
    "# for dist_name in [\"gamma\", \"skewnorm\", \"lognorm\"]:\n",
    "#     _ = sns.distplot(generate_income(N_USER, SEED, dist_name), ax=ax, label=dist_name)\n",
    "# _ = plt.legend()\n",
    "# _ = plt.xlabel(\"Income\")"
   ]
  },
  {
   "cell_type": "code",
   "execution_count": 6,
   "metadata": {
    "tags": []
   },
   "outputs": [],
   "source": [
    "# assume the customer's income distribution is the log-normal distribution.\n",
    "cust_income = generate_income(N_USER, SEED, \"lognorm\")\n",
    "\n",
    "# bining the income\n",
    "income_bin_names = [\"<= 8,000\", \"(8,000 -> 15,000]\", \"(15,000 -> 30,000]\", \"(30,000 -> 50,000]\", \"> 50,000\"]\n",
    "cust_income_bin = pd.cut(cust_income, bins=[-np.inf, 8_000, 15_000, 30_000, 50_000, np.inf], labels=income_bin_names)"
   ]
  },
  {
   "cell_type": "code",
   "execution_count": 7,
   "metadata": {},
   "outputs": [
    {
     "name": "stderr",
     "output_type": "stream",
     "text": [
      "/var/folders/sc/ms13ry7x46nd59scs4hqmj2r0000gn/T/ipykernel_58500/4291546690.py:2: UserWarning: \n",
      "\n",
      "`distplot` is a deprecated function and will be removed in seaborn v0.14.0.\n",
      "\n",
      "Please adapt your code to use either `displot` (a figure-level function with\n",
      "similar flexibility) or `histplot` (an axes-level function for histograms).\n",
      "\n",
      "For a guide to updating your code to use the new functions, please see\n",
      "https://gist.github.com/mwaskom/de44147ed2974457ad6372750bbe5751\n",
      "\n",
      "  _ = sns.distplot(cust_income, ax=ax[0])\n"
     ]
    },
    {
     "data": {
      "image/png": "[encoded data removed]",
      "text/plain": [
       "<Figure size 1000x700 with 2 Axes>"
      ]
     },
     "metadata": {},
     "output_type": "display_data"
    }
   ],
   "source": [
    "fig, ax = plt.subplots(nrows=2, figsize=(10, 7))\n",
    "_ = sns.distplot(cust_income, ax=ax[0])\n",
    "_ = sns.histplot(cust_income_bin, ax=ax[1], stat='density')\n",
    "_ = plt.xlabel(\"Income\")"
   ]
  },
  {
   "cell_type": "markdown",
   "metadata": {},
   "source": [
    "#### Interest rate"
   ]
  },
  {
   "cell_type": "code",
   "execution_count": 8,
   "metadata": {},
   "outputs": [],
   "source": [
    "interest_rate_strategies = [\n",
    "    [0.06, 0.05, 0.045, 0.042, 0.040],\n",
    "    [0.06, 0.05, 0.04,  0.03,  0.02],\n",
    "    [0.1 , 0.09, 0.08,  0.04,  0.035],\n",
    "    [0.05, 0.05, 0.04,  0.04,  0.03],\n",
    "    [0.06, 0.06, 0.06,  0.06,  0.06]\n",
    "]"
   ]
  },
  {
   "cell_type": "code",
   "execution_count": 9,
   "metadata": {},
   "outputs": [],
   "source": [
    "interest_rates = dict(zip(income_bin_names, interest_rate_strategies[0]))"
   ]
  },
  {
   "cell_type": "code",
   "execution_count": 10,
   "metadata": {},
   "outputs": [
    {
     "data": {
      "text/plain": [
       "{'<= 8,000': 0.06,\n",
       " '(8,000 -> 15,000]': 0.05,\n",
       " '(15,000 -> 30,000]': 0.045,\n",
       " '(30,000 -> 50,000]': 0.042,\n",
       " '> 50,000': 0.04}"
      ]
     },
     "execution_count": 10,
     "metadata": {},
     "output_type": "execute_result"
    }
   ],
   "source": [
    "interest_rates"
   ]
  },
  {
   "cell_type": "code",
   "execution_count": 11,
   "metadata": {},
   "outputs": [],
   "source": [
    "cust_interest_rates = cust_income_bin.map(interest_rates)"
   ]
  },
  {
   "cell_type": "markdown",
   "metadata": {
    "tags": []
   },
   "source": [
    "#### Default rate\n",
    "\n",
    "In order to make the assumption simpler, we assume all the income buckets use the same default rate."
   ]
  },
  {
   "cell_type": "code",
   "execution_count": 12,
   "metadata": {},
   "outputs": [],
   "source": [
    "cust_default = stats.bernoulli(DEFAULT_RATE).rvs(size=N_USER, random_state=SEED)"
   ]
  },
  {
   "cell_type": "markdown",
   "metadata": {},
   "source": [
    "#### Construct the customer data"
   ]
  },
  {
   "cell_type": "code",
   "execution_count": 13,
   "metadata": {},
   "outputs": [
    {
     "data": {
      "text/html": [
       "<div>\n",
       "<style scoped>\n",
       "    .dataframe tbody tr th:only-of-type {\n",
       "        vertical-align: middle;\n",
       "    }\n",
       "\n",
       "    .dataframe tbody tr th {\n",
       "        vertical-align: top;\n",
       "    }\n",
       "\n",
       "    .dataframe thead th {\n",
       "        text-align: right;\n",
       "    }\n",
       "</style>\n",
       "<table border=\"1\" class=\"dataframe\">\n",
       "  <thead>\n",
       "    <tr style=\"text-align: right;\">\n",
       "      <th></th>\n",
       "      <th>income</th>\n",
       "      <th>income_bin</th>\n",
       "      <th>default</th>\n",
       "      <th>interest_rate</th>\n",
       "    </tr>\n",
       "  </thead>\n",
       "  <tbody>\n",
       "    <tr>\n",
       "      <th>0</th>\n",
       "      <td>7536.551066</td>\n",
       "      <td>&lt;= 8,000</td>\n",
       "      <td>0</td>\n",
       "      <td>0.060</td>\n",
       "    </tr>\n",
       "    <tr>\n",
       "      <th>1</th>\n",
       "      <td>32389.940430</td>\n",
       "      <td>(30,000 -&gt; 50,000]</td>\n",
       "      <td>0</td>\n",
       "      <td>0.042</td>\n",
       "    </tr>\n",
       "    <tr>\n",
       "      <th>2</th>\n",
       "      <td>19644.374848</td>\n",
       "      <td>(15,000 -&gt; 30,000]</td>\n",
       "      <td>0</td>\n",
       "      <td>0.045</td>\n",
       "    </tr>\n",
       "    <tr>\n",
       "      <th>3</th>\n",
       "      <td>5614.203813</td>\n",
       "      <td>&lt;= 8,000</td>\n",
       "      <td>0</td>\n",
       "      <td>0.060</td>\n",
       "    </tr>\n",
       "    <tr>\n",
       "      <th>4</th>\n",
       "      <td>10747.636877</td>\n",
       "      <td>(8,000 -&gt; 15,000]</td>\n",
       "      <td>0</td>\n",
       "      <td>0.050</td>\n",
       "    </tr>\n",
       "  </tbody>\n",
       "</table>\n",
       "</div>"
      ],
      "text/plain": [
       "         income          income_bin  default interest_rate\n",
       "0   7536.551066            <= 8,000        0         0.060\n",
       "1  32389.940430  (30,000 -> 50,000]        0         0.042\n",
       "2  19644.374848  (15,000 -> 30,000]        0         0.045\n",
       "3   5614.203813            <= 8,000        0         0.060\n",
       "4  10747.636877   (8,000 -> 15,000]        0         0.050"
      ]
     },
     "execution_count": 13,
     "metadata": {},
     "output_type": "execute_result"
    }
   ],
   "source": [
    "cust_df = pd.DataFrame({\n",
    "    \"income\": cust_income,\n",
    "    \"income_bin\": cust_income_bin,\n",
    "    \"default\": cust_default,\n",
    "    \"interest_rate\": cust_interest_rates,\n",
    "})\n",
    "\n",
    "cust_df.head()"
   ]
  },
  {
   "cell_type": "markdown",
   "metadata": {
    "tags": []
   },
   "source": [
    "#### Expected profit \n",
    "\n",
    "We assume that customer will take the maximum mortgage allowance. So, profit is the different between total payment and maximum mortgage allowance."
   ]
  },
  {
   "cell_type": "code",
   "execution_count": 14,
   "metadata": {},
   "outputs": [],
   "source": [
    "def get_expected_profit(mortgage_amount: pd.Series, interest_rate: pd.Series) -> pd.DataFrame:\n",
    "    tmp = pd.DataFrame({\n",
    "        \"mortgage_amount\": mortgage_amount, \n",
    "        \"interest_rate\": interest_rate\n",
    "    })\n",
    "    \n",
    "    tmp[\"monthly_payment\"] = tmp.parallel_apply(\n",
    "        lambda row: calculate_mortgage_payment_per_month(row[\"mortgage_amount\"], row[\"interest_rate\"] / 12)\n",
    "    , axis=1)\n",
    "    \n",
    "    tmp[\"total_to_pay\"] = tmp[\"monthly_payment\"] * N_YEAR * 12\n",
    "    \n",
    "    tmp[\"expected_profit\"] = tmp[\"total_to_pay\"] - tmp[\"mortgage_amount\"]\n",
    "    \n",
    "    return tmp.drop([\"mortgage_amount\", \"interest_rate\"], axis=1)"
   ]
  },
  {
   "cell_type": "code",
   "execution_count": 15,
   "metadata": {},
   "outputs": [
    {
     "data": {
      "text/html": [
       "<div>\n",
       "<style scoped>\n",
       "    .dataframe tbody tr th:only-of-type {\n",
       "        vertical-align: middle;\n",
       "    }\n",
       "\n",
       "    .dataframe tbody tr th {\n",
       "        vertical-align: top;\n",
       "    }\n",
       "\n",
       "    .dataframe thead th {\n",
       "        text-align: right;\n",
       "    }\n",
       "</style>\n",
       "<table border=\"1\" class=\"dataframe\">\n",
       "  <thead>\n",
       "    <tr style=\"text-align: right;\">\n",
       "      <th></th>\n",
       "      <th>income</th>\n",
       "      <th>income_bin</th>\n",
       "      <th>default</th>\n",
       "      <th>interest_rate</th>\n",
       "    </tr>\n",
       "  </thead>\n",
       "  <tbody>\n",
       "    <tr>\n",
       "      <th>0</th>\n",
       "      <td>7536.551066</td>\n",
       "      <td>&lt;= 8,000</td>\n",
       "      <td>0</td>\n",
       "      <td>0.060</td>\n",
       "    </tr>\n",
       "    <tr>\n",
       "      <th>1</th>\n",
       "      <td>32389.940430</td>\n",
       "      <td>(30,000 -&gt; 50,000]</td>\n",
       "      <td>0</td>\n",
       "      <td>0.042</td>\n",
       "    </tr>\n",
       "    <tr>\n",
       "      <th>2</th>\n",
       "      <td>19644.374848</td>\n",
       "      <td>(15,000 -&gt; 30,000]</td>\n",
       "      <td>0</td>\n",
       "      <td>0.045</td>\n",
       "    </tr>\n",
       "    <tr>\n",
       "      <th>3</th>\n",
       "      <td>5614.203813</td>\n",
       "      <td>&lt;= 8,000</td>\n",
       "      <td>0</td>\n",
       "      <td>0.060</td>\n",
       "    </tr>\n",
       "    <tr>\n",
       "      <th>4</th>\n",
       "      <td>10747.636877</td>\n",
       "      <td>(8,000 -&gt; 15,000]</td>\n",
       "      <td>0</td>\n",
       "      <td>0.050</td>\n",
       "    </tr>\n",
       "    <tr>\n",
       "      <th>...</th>\n",
       "      <td>...</td>\n",
       "      <td>...</td>\n",
       "      <td>...</td>\n",
       "      <td>...</td>\n",
       "    </tr>\n",
       "    <tr>\n",
       "      <th>995</th>\n",
       "      <td>25129.445185</td>\n",
       "      <td>(15,000 -&gt; 30,000]</td>\n",
       "      <td>0</td>\n",
       "      <td>0.045</td>\n",
       "    </tr>\n",
       "    <tr>\n",
       "      <th>996</th>\n",
       "      <td>34077.900692</td>\n",
       "      <td>(30,000 -&gt; 50,000]</td>\n",
       "      <td>0</td>\n",
       "      <td>0.042</td>\n",
       "    </tr>\n",
       "    <tr>\n",
       "      <th>997</th>\n",
       "      <td>8526.484729</td>\n",
       "      <td>(8,000 -&gt; 15,000]</td>\n",
       "      <td>0</td>\n",
       "      <td>0.050</td>\n",
       "    </tr>\n",
       "    <tr>\n",
       "      <th>998</th>\n",
       "      <td>22396.186632</td>\n",
       "      <td>(15,000 -&gt; 30,000]</td>\n",
       "      <td>0</td>\n",
       "      <td>0.045</td>\n",
       "    </tr>\n",
       "    <tr>\n",
       "      <th>999</th>\n",
       "      <td>7401.663468</td>\n",
       "      <td>&lt;= 8,000</td>\n",
       "      <td>0</td>\n",
       "      <td>0.060</td>\n",
       "    </tr>\n",
       "  </tbody>\n",
       "</table>\n",
       "<p>1000 rows × 4 columns</p>\n",
       "</div>"
      ],
      "text/plain": [
       "           income          income_bin  default interest_rate\n",
       "0     7536.551066            <= 8,000        0         0.060\n",
       "1    32389.940430  (30,000 -> 50,000]        0         0.042\n",
       "2    19644.374848  (15,000 -> 30,000]        0         0.045\n",
       "3     5614.203813            <= 8,000        0         0.060\n",
       "4    10747.636877   (8,000 -> 15,000]        0         0.050\n",
       "..            ...                 ...      ...           ...\n",
       "995  25129.445185  (15,000 -> 30,000]        0         0.045\n",
       "996  34077.900692  (30,000 -> 50,000]        0         0.042\n",
       "997   8526.484729   (8,000 -> 15,000]        0         0.050\n",
       "998  22396.186632  (15,000 -> 30,000]        0         0.045\n",
       "999   7401.663468            <= 8,000        0         0.060\n",
       "\n",
       "[1000 rows x 4 columns]"
      ]
     },
     "execution_count": 15,
     "metadata": {},
     "output_type": "execute_result"
    }
   ],
   "source": [
    "cust_df"
   ]
  },
  {
   "cell_type": "code",
   "execution_count": 16,
   "metadata": {},
   "outputs": [],
   "source": [
    "cust_df[\"mortgage_amount\"] = cust_df.parallel_apply(\n",
    "    lambda row: calculate_maximum_mortgage_amount(row[\"income\"], row[\"interest_rate\"] / 12)\n",
    ", axis=1)\n",
    "\n",
    "# cust_df[\"total_to_pay\"] = cust_df.parallel_apply(\n",
    "#     lambda row: calculate_mortgage_payment_per_month(row[\"mortgage_amount\"], row[\"cust_interest_rate\"] / 12) * N_YEAR * 12\n",
    "# , axis=1)\n",
    "\n",
    "# cust_df[\"expected_profit\"] = cust_df[\"total_to_pay\"] - cust_df[\"mortgage_amount\"]"
   ]
  },
  {
   "cell_type": "code",
   "execution_count": 17,
   "metadata": {},
   "outputs": [
    {
     "data": {
      "text/html": [
       "<div>\n",
       "<style scoped>\n",
       "    .dataframe tbody tr th:only-of-type {\n",
       "        vertical-align: middle;\n",
       "    }\n",
       "\n",
       "    .dataframe tbody tr th {\n",
       "        vertical-align: top;\n",
       "    }\n",
       "\n",
       "    .dataframe thead th {\n",
       "        text-align: right;\n",
       "    }\n",
       "</style>\n",
       "<table border=\"1\" class=\"dataframe\">\n",
       "  <thead>\n",
       "    <tr style=\"text-align: right;\">\n",
       "      <th></th>\n",
       "      <th>monthly_payment</th>\n",
       "      <th>total_to_pay</th>\n",
       "      <th>expected_profit</th>\n",
       "    </tr>\n",
       "  </thead>\n",
       "  <tbody>\n",
       "    <tr>\n",
       "      <th>0</th>\n",
       "      <td>3014.620427</td>\n",
       "      <td>1.085263e+06</td>\n",
       "      <td>5.824499e+05</td>\n",
       "    </tr>\n",
       "    <tr>\n",
       "      <th>1</th>\n",
       "      <td>12955.976172</td>\n",
       "      <td>4.664151e+06</td>\n",
       "      <td>2.014761e+06</td>\n",
       "    </tr>\n",
       "    <tr>\n",
       "      <th>2</th>\n",
       "      <td>7857.749939</td>\n",
       "      <td>2.828790e+06</td>\n",
       "      <td>1.277975e+06</td>\n",
       "    </tr>\n",
       "    <tr>\n",
       "      <th>3</th>\n",
       "      <td>2245.681525</td>\n",
       "      <td>8.084453e+05</td>\n",
       "      <td>4.338845e+05</td>\n",
       "    </tr>\n",
       "    <tr>\n",
       "      <th>4</th>\n",
       "      <td>4299.054751</td>\n",
       "      <td>1.547660e+06</td>\n",
       "      <td>7.468248e+05</td>\n",
       "    </tr>\n",
       "    <tr>\n",
       "      <th>...</th>\n",
       "      <td>...</td>\n",
       "      <td>...</td>\n",
       "      <td>...</td>\n",
       "    </tr>\n",
       "    <tr>\n",
       "      <th>995</th>\n",
       "      <td>10051.778074</td>\n",
       "      <td>3.618640e+06</td>\n",
       "      <td>1.634810e+06</td>\n",
       "    </tr>\n",
       "    <tr>\n",
       "      <th>996</th>\n",
       "      <td>13631.160277</td>\n",
       "      <td>4.907218e+06</td>\n",
       "      <td>2.119757e+06</td>\n",
       "    </tr>\n",
       "    <tr>\n",
       "      <th>997</th>\n",
       "      <td>3410.593892</td>\n",
       "      <td>1.227814e+06</td>\n",
       "      <td>5.924829e+05</td>\n",
       "    </tr>\n",
       "    <tr>\n",
       "      <th>998</th>\n",
       "      <td>8958.474653</td>\n",
       "      <td>3.225051e+06</td>\n",
       "      <td>1.456996e+06</td>\n",
       "    </tr>\n",
       "    <tr>\n",
       "      <th>999</th>\n",
       "      <td>2960.665387</td>\n",
       "      <td>1.065840e+06</td>\n",
       "      <td>5.720254e+05</td>\n",
       "    </tr>\n",
       "  </tbody>\n",
       "</table>\n",
       "<p>1000 rows × 3 columns</p>\n",
       "</div>"
      ],
      "text/plain": [
       "     monthly_payment  total_to_pay  expected_profit\n",
       "0        3014.620427  1.085263e+06     5.824499e+05\n",
       "1       12955.976172  4.664151e+06     2.014761e+06\n",
       "2        7857.749939  2.828790e+06     1.277975e+06\n",
       "3        2245.681525  8.084453e+05     4.338845e+05\n",
       "4        4299.054751  1.547660e+06     7.468248e+05\n",
       "..               ...           ...              ...\n",
       "995     10051.778074  3.618640e+06     1.634810e+06\n",
       "996     13631.160277  4.907218e+06     2.119757e+06\n",
       "997      3410.593892  1.227814e+06     5.924829e+05\n",
       "998      8958.474653  3.225051e+06     1.456996e+06\n",
       "999      2960.665387  1.065840e+06     5.720254e+05\n",
       "\n",
       "[1000 rows x 3 columns]"
      ]
     },
     "execution_count": 17,
     "metadata": {},
     "output_type": "execute_result"
    }
   ],
   "source": [
    "get_expected_profit(cust_df[\"mortgage_amount\"], cust_df[\"interest_rate\"])"
   ]
  },
  {
   "cell_type": "code",
   "execution_count": 18,
   "metadata": {},
   "outputs": [
    {
     "data": {
      "text/html": [
       "<div>\n",
       "<style scoped>\n",
       "    .dataframe tbody tr th:only-of-type {\n",
       "        vertical-align: middle;\n",
       "    }\n",
       "\n",
       "    .dataframe tbody tr th {\n",
       "        vertical-align: top;\n",
       "    }\n",
       "\n",
       "    .dataframe thead th {\n",
       "        text-align: right;\n",
       "    }\n",
       "</style>\n",
       "<table border=\"1\" class=\"dataframe\">\n",
       "  <thead>\n",
       "    <tr style=\"text-align: right;\">\n",
       "      <th></th>\n",
       "      <th>income</th>\n",
       "      <th>income_bin</th>\n",
       "      <th>default</th>\n",
       "      <th>interest_rate</th>\n",
       "      <th>mortgage_amount</th>\n",
       "    </tr>\n",
       "  </thead>\n",
       "  <tbody>\n",
       "    <tr>\n",
       "      <th>0</th>\n",
       "      <td>7536.551066</td>\n",
       "      <td>&lt;= 8,000</td>\n",
       "      <td>0</td>\n",
       "      <td>0.060</td>\n",
       "      <td>5.028134e+05</td>\n",
       "    </tr>\n",
       "    <tr>\n",
       "      <th>1</th>\n",
       "      <td>32389.940430</td>\n",
       "      <td>(30,000 -&gt; 50,000]</td>\n",
       "      <td>0</td>\n",
       "      <td>0.042</td>\n",
       "      <td>2.649391e+06</td>\n",
       "    </tr>\n",
       "    <tr>\n",
       "      <th>2</th>\n",
       "      <td>19644.374848</td>\n",
       "      <td>(15,000 -&gt; 30,000]</td>\n",
       "      <td>0</td>\n",
       "      <td>0.045</td>\n",
       "      <td>1.550815e+06</td>\n",
       "    </tr>\n",
       "    <tr>\n",
       "      <th>3</th>\n",
       "      <td>5614.203813</td>\n",
       "      <td>&lt;= 8,000</td>\n",
       "      <td>0</td>\n",
       "      <td>0.060</td>\n",
       "      <td>3.745608e+05</td>\n",
       "    </tr>\n",
       "    <tr>\n",
       "      <th>4</th>\n",
       "      <td>10747.636877</td>\n",
       "      <td>(8,000 -&gt; 15,000]</td>\n",
       "      <td>0</td>\n",
       "      <td>0.050</td>\n",
       "      <td>8.008349e+05</td>\n",
       "    </tr>\n",
       "  </tbody>\n",
       "</table>\n",
       "</div>"
      ],
      "text/plain": [
       "         income          income_bin  default interest_rate  mortgage_amount\n",
       "0   7536.551066            <= 8,000        0         0.060     5.028134e+05\n",
       "1  32389.940430  (30,000 -> 50,000]        0         0.042     2.649391e+06\n",
       "2  19644.374848  (15,000 -> 30,000]        0         0.045     1.550815e+06\n",
       "3   5614.203813            <= 8,000        0         0.060     3.745608e+05\n",
       "4  10747.636877   (8,000 -> 15,000]        0         0.050     8.008349e+05"
      ]
     },
     "execution_count": 18,
     "metadata": {},
     "output_type": "execute_result"
    }
   ],
   "source": [
    "cust_df.head()"
   ]
  },
  {
   "cell_type": "code",
   "execution_count": 19,
   "metadata": {},
   "outputs": [],
   "source": [
    "# # calculate the maximum mortgage allowance\n",
    "# cust_max_mortgage_allowance = np.array(list(map(lambda inc: calculate_maximum_mortgage_amount(inc, INTEREST_RATE / 12), cust_income)))\n",
    "\n",
    "# cust_total_payment = np.array(list(map(lambda p: calculate_mortgage_payment_per_month(p, INTEREST_RATE / 12), cust_max_mortgage_allowance))) * N_YEAR * 12\n",
    "\n",
    "# expected_profit = cust_total_payment - cust_max_mortgage_allowance"
   ]
  },
  {
   "cell_type": "markdown",
   "metadata": {
    "tags": []
   },
   "source": [
    "#### Model confidence\n",
    "\n",
    "We use recall to indicate the model confidence for each class."
   ]
  },
  {
   "cell_type": "code",
   "execution_count": 20,
   "metadata": {},
   "outputs": [
    {
     "data": {
      "text/plain": [
       "{'<= 8,000': 0.1,\n",
       " '(8,000 -> 15,000]': 0.5,\n",
       " '(15,000 -> 30,000]': 0.5,\n",
       " '(30,000 -> 50,000]': 0.1,\n",
       " '> 50,000': 0.5}"
      ]
     },
     "execution_count": 20,
     "metadata": {},
     "output_type": "execute_result"
    }
   ],
   "source": [
    "model_conf_levels = {\n",
    "    bin_name: conf for bin_name, conf in zip(income_bin_names, [0.1, 0.5, 0.5, 0.1, 0.5])\n",
    "}\n",
    "\n",
    "model_conf_levels"
   ]
  },
  {
   "cell_type": "code",
   "execution_count": 21,
   "metadata": {},
   "outputs": [],
   "source": [
    "model_conf = cust_income_bin.map(model_conf_levels)"
   ]
  },
  {
   "cell_type": "markdown",
   "metadata": {},
   "source": [
    "#### Model prediction"
   ]
  },
  {
   "cell_type": "code",
   "execution_count": 22,
   "metadata": {},
   "outputs": [],
   "source": [
    "def norm_output(xs: np.ndarray) -> np.ndarray:\n",
    "    \"\"\"\n",
    "    Normalize the vector to sum up to 1\n",
    "    \n",
    "    Args:\n",
    "        xs: logits output\n",
    "        \n",
    "    Returns:\n",
    "        normalized output\n",
    "    \"\"\"\n",
    "    \n",
    "    norm_xs = xs / xs.sum()\n",
    "    return norm_xs\n",
    "\n",
    "\n",
    "def calculate_entropy(xs: np.ndarray) -> float:\n",
    "    \"\"\"\n",
    "    Calculate entropy of the prediction.\n",
    "    \n",
    "    Args:\n",
    "        xs: normalized output\n",
    "        \n",
    "    Returns:\n",
    "        the entropy\n",
    "    \"\"\"\n",
    "    \n",
    "    ent = - (xs * np.log2(xs)).sum()\n",
    "    return ent"
   ]
  },
  {
   "cell_type": "code",
   "execution_count": 23,
   "metadata": {},
   "outputs": [],
   "source": [
    "def random_prediction_wrt_entropy(upper_ent: float) -> Tuple[np.ndarray, int]:\n",
    "    \"\"\"\n",
    "    Random model prediction with respect to entropy.\n",
    "    \n",
    "    Args:\n",
    "        upper_ent: upper bound of entropy\n",
    "        \n",
    "    Returns:\n",
    "        model probability and number of sample time.\n",
    "    \"\"\"\n",
    "    \n",
    "    i = 0\n",
    "    while True:\n",
    "        pred = np.random.uniform(size=5)\n",
    "        norm_pred = norm_output(pred)\n",
    "        ent = calculate_entropy(norm_pred)\n",
    "        i += 1\n",
    "        if ent < upper_ent:\n",
    "            return norm_pred, i\n",
    "\n",
    "        \n",
    "def get_probs_from_target_class(class_idx: int, upper_ent: float) -> np.ndarray:\n",
    "    probs, _ = random_prediction_wrt_entropy(upper_ent)\n",
    "    max_idx = probs.argmax()\n",
    "    probs[max_idx], probs[class_idx] = probs[class_idx], probs[max_idx]  # swap\n",
    "    return probs"
   ]
  },
  {
   "cell_type": "code",
   "execution_count": 24,
   "metadata": {},
   "outputs": [],
   "source": [
    "def get_prediction(income_bin: str, model_perf: float):\n",
    "    true_idx = income_bin_names.index(income_bin)\n",
    "    if np.random.uniform() <= model_perf:\n",
    "        probs = get_probs_from_target_class(true_idx, 1.0)\n",
    "    else:\n",
    "        probs = get_probs_from_target_class(np.random.choice(range(5)), 1.0)\n",
    "    return probs"
   ]
  },
  {
   "cell_type": "code",
   "execution_count": 25,
   "metadata": {},
   "outputs": [],
   "source": [
    "t = pd.DataFrame({\n",
    "    \"income_bin\": cust_income_bin, \n",
    "    \"model_performance\": model_conf\n",
    "})"
   ]
  },
  {
   "cell_type": "code",
   "execution_count": 26,
   "metadata": {},
   "outputs": [],
   "source": [
    "model_preds = np.stack(t.parallel_apply(\n",
    "    lambda row: get_prediction(row[\"income_bin\"], row[\"model_performance\"])\n",
    ", axis=1).values)"
   ]
  },
  {
   "cell_type": "markdown",
   "metadata": {},
   "source": [
    "#### Construct prediction data"
   ]
  },
  {
   "cell_type": "code",
   "execution_count": 27,
   "metadata": {},
   "outputs": [],
   "source": [
    "preds = pd.DataFrame(model_preds, columns=income_bin_names)\n",
    "preds[\"pred\"] = list(map(lambda x: income_bin_names[x], model_preds.argmax(axis=1)))\n",
    "preds[\"interest_rate\"] = preds[\"pred\"].map(interest_rates)"
   ]
  },
  {
   "cell_type": "code",
   "execution_count": 28,
   "metadata": {},
   "outputs": [
    {
     "data": {
      "text/html": [
       "<div>\n",
       "<style scoped>\n",
       "    .dataframe tbody tr th:only-of-type {\n",
       "        vertical-align: middle;\n",
       "    }\n",
       "\n",
       "    .dataframe tbody tr th {\n",
       "        vertical-align: top;\n",
       "    }\n",
       "\n",
       "    .dataframe thead th {\n",
       "        text-align: right;\n",
       "    }\n",
       "</style>\n",
       "<table border=\"1\" class=\"dataframe\">\n",
       "  <thead>\n",
       "    <tr style=\"text-align: right;\">\n",
       "      <th></th>\n",
       "      <th>&lt;= 8,000</th>\n",
       "      <th>(8,000 -&gt; 15,000]</th>\n",
       "      <th>(15,000 -&gt; 30,000]</th>\n",
       "      <th>(30,000 -&gt; 50,000]</th>\n",
       "      <th>&gt; 50,000</th>\n",
       "      <th>pred</th>\n",
       "      <th>interest_rate</th>\n",
       "    </tr>\n",
       "  </thead>\n",
       "  <tbody>\n",
       "    <tr>\n",
       "      <th>0</th>\n",
       "      <td>0.085277</td>\n",
       "      <td>0.022343</td>\n",
       "      <td>0.843870</td>\n",
       "      <td>0.040445</td>\n",
       "      <td>0.008064</td>\n",
       "      <td>(15,000 -&gt; 30,000]</td>\n",
       "      <td>0.045</td>\n",
       "    </tr>\n",
       "    <tr>\n",
       "      <th>1</th>\n",
       "      <td>0.026138</td>\n",
       "      <td>0.010897</td>\n",
       "      <td>0.829361</td>\n",
       "      <td>0.119993</td>\n",
       "      <td>0.013612</td>\n",
       "      <td>(15,000 -&gt; 30,000]</td>\n",
       "      <td>0.045</td>\n",
       "    </tr>\n",
       "    <tr>\n",
       "      <th>2</th>\n",
       "      <td>0.097622</td>\n",
       "      <td>0.063510</td>\n",
       "      <td>0.832073</td>\n",
       "      <td>0.001629</td>\n",
       "      <td>0.005165</td>\n",
       "      <td>(15,000 -&gt; 30,000]</td>\n",
       "      <td>0.045</td>\n",
       "    </tr>\n",
       "    <tr>\n",
       "      <th>3</th>\n",
       "      <td>0.084842</td>\n",
       "      <td>0.104683</td>\n",
       "      <td>0.803304</td>\n",
       "      <td>0.001027</td>\n",
       "      <td>0.006145</td>\n",
       "      <td>(15,000 -&gt; 30,000]</td>\n",
       "      <td>0.045</td>\n",
       "    </tr>\n",
       "    <tr>\n",
       "      <th>4</th>\n",
       "      <td>0.018286</td>\n",
       "      <td>0.747642</td>\n",
       "      <td>0.006206</td>\n",
       "      <td>0.220118</td>\n",
       "      <td>0.007747</td>\n",
       "      <td>(8,000 -&gt; 15,000]</td>\n",
       "      <td>0.050</td>\n",
       "    </tr>\n",
       "  </tbody>\n",
       "</table>\n",
       "</div>"
      ],
      "text/plain": [
       "   <= 8,000  (8,000 -> 15,000]  (15,000 -> 30,000]  (30,000 -> 50,000]  \\\n",
       "0  0.085277           0.022343            0.843870            0.040445   \n",
       "1  0.026138           0.010897            0.829361            0.119993   \n",
       "2  0.097622           0.063510            0.832073            0.001629   \n",
       "3  0.084842           0.104683            0.803304            0.001027   \n",
       "4  0.018286           0.747642            0.006206            0.220118   \n",
       "\n",
       "   > 50,000                pred  interest_rate  \n",
       "0  0.008064  (15,000 -> 30,000]          0.045  \n",
       "1  0.013612  (15,000 -> 30,000]          0.045  \n",
       "2  0.005165  (15,000 -> 30,000]          0.045  \n",
       "3  0.006145  (15,000 -> 30,000]          0.045  \n",
       "4  0.007747   (8,000 -> 15,000]          0.050  "
      ]
     },
     "execution_count": 28,
     "metadata": {},
     "output_type": "execute_result"
    }
   ],
   "source": [
    "preds.head()"
   ]
  },
  {
   "cell_type": "code",
   "execution_count": 29,
   "metadata": {},
   "outputs": [],
   "source": [
    "from sklearn.metrics import classification_report, confusion_matrix"
   ]
  },
  {
   "cell_type": "code",
   "execution_count": 30,
   "metadata": {},
   "outputs": [
    {
     "data": {
      "text/html": [
       "<div>\n",
       "<style scoped>\n",
       "    .dataframe tbody tr th:only-of-type {\n",
       "        vertical-align: middle;\n",
       "    }\n",
       "\n",
       "    .dataframe tbody tr th {\n",
       "        vertical-align: top;\n",
       "    }\n",
       "\n",
       "    .dataframe thead th {\n",
       "        text-align: right;\n",
       "    }\n",
       "</style>\n",
       "<table border=\"1\" class=\"dataframe\">\n",
       "  <thead>\n",
       "    <tr style=\"text-align: right;\">\n",
       "      <th></th>\n",
       "      <th>&lt;= 8,000</th>\n",
       "      <th>(8,000 -&gt; 15,000]</th>\n",
       "      <th>(15,000 -&gt; 30,000]</th>\n",
       "      <th>(30,000 -&gt; 50,000]</th>\n",
       "      <th>&gt; 50,000</th>\n",
       "    </tr>\n",
       "  </thead>\n",
       "  <tbody>\n",
       "    <tr>\n",
       "      <th>&lt;= 8,000</th>\n",
       "      <td>45</td>\n",
       "      <td>20</td>\n",
       "      <td>34</td>\n",
       "      <td>39</td>\n",
       "      <td>35</td>\n",
       "    </tr>\n",
       "    <tr>\n",
       "      <th>(8,000 -&gt; 15,000]</th>\n",
       "      <td>26</td>\n",
       "      <td>174</td>\n",
       "      <td>32</td>\n",
       "      <td>33</td>\n",
       "      <td>41</td>\n",
       "    </tr>\n",
       "    <tr>\n",
       "      <th>(15,000 -&gt; 30,000]</th>\n",
       "      <td>18</td>\n",
       "      <td>25</td>\n",
       "      <td>204</td>\n",
       "      <td>30</td>\n",
       "      <td>51</td>\n",
       "    </tr>\n",
       "    <tr>\n",
       "      <th>(30,000 -&gt; 50,000]</th>\n",
       "      <td>25</td>\n",
       "      <td>26</td>\n",
       "      <td>26</td>\n",
       "      <td>39</td>\n",
       "      <td>29</td>\n",
       "    </tr>\n",
       "    <tr>\n",
       "      <th>&gt; 50,000</th>\n",
       "      <td>5</td>\n",
       "      <td>6</td>\n",
       "      <td>3</td>\n",
       "      <td>7</td>\n",
       "      <td>27</td>\n",
       "    </tr>\n",
       "  </tbody>\n",
       "</table>\n",
       "</div>"
      ],
      "text/plain": [
       "                    <= 8,000  (8,000 -> 15,000]  (15,000 -> 30,000]  \\\n",
       "<= 8,000                  45                 20                  34   \n",
       "(8,000 -> 15,000]         26                174                  32   \n",
       "(15,000 -> 30,000]        18                 25                 204   \n",
       "(30,000 -> 50,000]        25                 26                  26   \n",
       "> 50,000                   5                  6                   3   \n",
       "\n",
       "                    (30,000 -> 50,000]  > 50,000  \n",
       "<= 8,000                            39        35  \n",
       "(8,000 -> 15,000]                   33        41  \n",
       "(15,000 -> 30,000]                  30        51  \n",
       "(30,000 -> 50,000]                  39        29  \n",
       "> 50,000                             7        27  "
      ]
     },
     "execution_count": 30,
     "metadata": {},
     "output_type": "execute_result"
    }
   ],
   "source": [
    "pd.DataFrame(\n",
    "    confusion_matrix(cust_df[\"income_bin\"], preds[\"pred\"], labels=income_bin_names),\n",
    "    index=income_bin_names,\n",
    "    columns=income_bin_names\n",
    ")"
   ]
  },
  {
   "cell_type": "markdown",
   "metadata": {},
   "source": [
    "Assuminig a borrower with a high income will be considered a lower risk to the lender, and will be offered a lower interest rate. On the other hand, a borrower with a lower income will be considered a higher risk, and will be offered a higher interest rate.\n",
    "\n",
    "Moreover, the loan amount for borrowers will be based on their true income."
   ]
  },
  {
   "cell_type": "code",
   "execution_count": 31,
   "metadata": {},
   "outputs": [],
   "source": [
    "diff = get_expected_profit(cust_df[\"mortgage_amount\"], cust_df[\"interest_rate\"]) - \\\n",
    "get_expected_profit(cust_df[\"mortgage_amount\"], preds[\"interest_rate\"])"
   ]
  },
  {
   "cell_type": "code",
   "execution_count": 32,
   "metadata": {},
   "outputs": [
    {
     "data": {
      "text/plain": [
       "monthly_payment    0.833\n",
       "total_to_pay       0.833\n",
       "expected_profit    0.833\n",
       "dtype: float64"
      ]
     },
     "execution_count": 32,
     "metadata": {},
     "output_type": "execute_result"
    }
   ],
   "source": [
    "(diff >= 0).sum() / diff.shape[0]"
   ]
  },
  {
   "cell_type": "code",
   "execution_count": 33,
   "metadata": {},
   "outputs": [],
   "source": [
    "profit = diff[diff[\"expected_profit\"] >= 0][\"expected_profit\"].sum()\n",
    "opportunity_loss = diff[diff[\"expected_profit\"] < 0][\"expected_profit\"].sum()"
   ]
  },
  {
   "cell_type": "code",
   "execution_count": 34,
   "metadata": {},
   "outputs": [
    {
     "data": {
      "text/plain": [
       "(49364062.140345454, -95179642.62040126, -0.5186409696579857)"
      ]
     },
     "execution_count": 34,
     "metadata": {},
     "output_type": "execute_result"
    }
   ],
   "source": [
    "profit, opportunity_loss, profit / opportunity_loss"
   ]
  },
  {
   "cell_type": "code",
   "execution_count": 35,
   "metadata": {},
   "outputs": [],
   "source": [
    "# print(classification_report(cust_df[\"cust_income_bin\"], preds[\"pred\"], labels=income_bin_names))"
   ]
  },
  {
   "cell_type": "markdown",
   "metadata": {},
   "source": [
    "### Run experiment <a class=\"anchor\" id=\"run-experiment\"></a>"
   ]
  },
  {
   "cell_type": "code",
   "execution_count": 36,
   "metadata": {},
   "outputs": [],
   "source": [
    "def calculate_expected_outcome(cust_df: pd.DataFrame, preds: pd.DataFrame) -> Dict:\n",
    "    default_cust = cust_df[cust_df[\"default\"] == 1]\n",
    "    non_default_cust = cust_df[cust_df[\"default\"] == 0]\n",
    "    \n",
    "    default_loss = default_cust[\"mortgage_amount\"].sum()\n",
    "    \n",
    "    actual_expected_profit = get_expected_profit(\n",
    "        non_default_cust[\"mortgage_amount\"], \n",
    "        non_default_cust[\"interest_rate\"]\n",
    "    )\n",
    "    \n",
    "    model_expected_profit = get_expected_profit(\n",
    "        cust_df[\"mortgage_amount\"], \n",
    "        preds[\"interest_rate\"]\n",
    "    )\n",
    "    \n",
    "    diff = actual_expected_profit - model_expected_profit\n",
    "    \n",
    "    profit = diff[diff[\"expected_profit\"] >= 0][\"expected_profit\"].sum()\n",
    "    opportunity_loss = - diff[diff[\"expected_profit\"] < 0][\"expected_profit\"].sum()\n",
    "\n",
    "    profit_to_opportunity_loss = profit / opportunity_loss\n",
    "    \n",
    "    positive_cust_ratio = ((diff >= 0).sum() / diff.shape[0]).iloc[0]\n",
    "    \n",
    "    return dict(\n",
    "        default_loss=default_loss,\n",
    "        profit=profit,\n",
    "        opportunity_loss=opportunity_loss,\n",
    "        profit_to_opportunity_loss=profit_to_opportunity_loss,\n",
    "        actual_expected_profit=actual_expected_profit[\"expected_profit\"].sum(),\n",
    "        model_expected_profit=model_expected_profit[\"expected_profit\"].sum(),\n",
    "        positive_cust_ratio=positive_cust_ratio\n",
    "    )\n",
    "    \n",
    "\n",
    "def run_simulation(interest_rates: List[float], seed: int) -> Tuple[Dict, pd.DataFrame, pd.DataFrame]:\n",
    "    \n",
    "    # generate customer info\n",
    "    cust_income = generate_income(N_USER, seed, \"lognorm\")\n",
    "    cust_income_bin = pd.cut(cust_income, bins=[-np.inf, 8_000, 15_000, 30_000, 50_000, np.inf], labels=income_bin_names)\n",
    "    cust_income_conf = cust_income_bin.map(model_conf_levels).astype(float)\n",
    "    cust_default = stats.bernoulli(DEFAULT_RATE).rvs(size=N_USER, random_state=seed)\n",
    "    cust_interest_rates = cust_income_bin.map(interest_rates)\n",
    "    \n",
    "    cust_df = pd.DataFrame({\n",
    "        \"income\": cust_income,\n",
    "        \"income_bin\": cust_income_bin,\n",
    "        \"default\": cust_default,\n",
    "        \"interest_rate\": cust_interest_rates,\n",
    "    })\n",
    "    \n",
    "    cust_df[\"mortgage_amount\"] = cust_df.parallel_apply(\n",
    "        lambda row: calculate_maximum_mortgage_amount(row[\"income\"], row[\"interest_rate\"] / 12)\n",
    "    , axis=1)\n",
    "    \n",
    "    # generate model output\n",
    "    model_conf = cust_income_bin.map(model_conf_levels)\n",
    "    \n",
    "    t = pd.DataFrame({\n",
    "        \"income_bin\": cust_income_bin, \n",
    "        \"model_performance\": model_conf\n",
    "    })\n",
    "    \n",
    "    model_preds = np.stack(t.parallel_apply(\n",
    "        lambda row: get_prediction(row[\"income_bin\"], row[\"model_performance\"])\n",
    "    , axis=1).values)\n",
    "    \n",
    "    preds = pd.DataFrame(model_preds, columns=income_bin_names)\n",
    "    preds[\"pred\"] = list(map(lambda x: income_bin_names[x], model_preds.argmax(axis=1)))\n",
    "    preds[\"interest_rate\"] = preds[\"pred\"].map(interest_rates)\n",
    "    \n",
    "    outcome = calculate_expected_outcome(cust_df, preds)\n",
    "    \n",
    "    return outcome, cust_df, preds"
   ]
  },
  {
   "cell_type": "code",
   "execution_count": 37,
   "metadata": {},
   "outputs": [
    {
     "name": "stderr",
     "output_type": "stream",
     "text": [
      "100%|██████████████████████████████████████████████████████████████████████████████| 20/20 [01:28<00:00,  4.43s/it]\n",
      "/var/folders/sc/ms13ry7x46nd59scs4hqmj2r0000gn/T/ipykernel_58500/955691081.py:15: FutureWarning: The frame.append method is deprecated and will be removed from pandas in a future version. Use pandas.concat instead.\n",
      "  tmp = tmp.append(t)\n",
      "100%|██████████████████████████████████████████████████████████████████████████████| 20/20 [01:29<00:00,  4.46s/it]\n",
      "/var/folders/sc/ms13ry7x46nd59scs4hqmj2r0000gn/T/ipykernel_58500/955691081.py:15: FutureWarning: The frame.append method is deprecated and will be removed from pandas in a future version. Use pandas.concat instead.\n",
      "  tmp = tmp.append(t)\n",
      "100%|██████████████████████████████████████████████████████████████████████████████| 20/20 [01:28<00:00,  4.44s/it]\n",
      "/var/folders/sc/ms13ry7x46nd59scs4hqmj2r0000gn/T/ipykernel_58500/955691081.py:15: FutureWarning: The frame.append method is deprecated and will be removed from pandas in a future version. Use pandas.concat instead.\n",
      "  tmp = tmp.append(t)\n",
      "100%|██████████████████████████████████████████████████████████████████████████████| 20/20 [01:30<00:00,  4.50s/it]\n",
      "/var/folders/sc/ms13ry7x46nd59scs4hqmj2r0000gn/T/ipykernel_58500/955691081.py:15: FutureWarning: The frame.append method is deprecated and will be removed from pandas in a future version. Use pandas.concat instead.\n",
      "  tmp = tmp.append(t)\n"
     ]
    }
   ],
   "source": [
    "tmp = pd.DataFrame()\n",
    "\n",
    "for idx, interest_rates_map in enumerate(interest_rate_strategies):\n",
    "    interest_rates = dict(zip(income_bin_names, interest_rates_map))\n",
    "\n",
    "    res = []\n",
    "\n",
    "    for i in tqdm(range(20)):\n",
    "        outcome, _, _ = run_simulation(interest_rates, i)\n",
    "        res.append(outcome)\n",
    "    \n",
    "    t = pd.DataFrame(res)\n",
    "    t[\"interest_rates_idx\"] = idx\n",
    "    \n",
    "    tmp = tmp.append(t)\n",
    "\n",
    "tmp = tmp.reset_index(drop=True)"
   ]
  },
  {
   "cell_type": "code",
   "execution_count": 38,
   "metadata": {},
   "outputs": [
    {
     "data": {
      "text/html": [
       "<div>\n",
       "<style scoped>\n",
       "    .dataframe tbody tr th:only-of-type {\n",
       "        vertical-align: middle;\n",
       "    }\n",
       "\n",
       "    .dataframe tbody tr th {\n",
       "        vertical-align: top;\n",
       "    }\n",
       "\n",
       "    .dataframe thead th {\n",
       "        text-align: right;\n",
       "    }\n",
       "</style>\n",
       "<table border=\"1\" class=\"dataframe\">\n",
       "  <thead>\n",
       "    <tr style=\"text-align: right;\">\n",
       "      <th></th>\n",
       "      <th>default_loss</th>\n",
       "      <th>profit</th>\n",
       "      <th>opportunity_loss</th>\n",
       "      <th>profit_to_opportunity_loss</th>\n",
       "      <th>actual_expected_profit</th>\n",
       "      <th>model_expected_profit</th>\n",
       "      <th>positive_cust_ratio</th>\n",
       "      <th>interest_rates_idx</th>\n",
       "    </tr>\n",
       "  </thead>\n",
       "  <tbody>\n",
       "    <tr>\n",
       "      <th>0</th>\n",
       "      <td>8.500505e+06</td>\n",
       "      <td>4.373879e+07</td>\n",
       "      <td>8.625335e+07</td>\n",
       "      <td>0.507097</td>\n",
       "      <td>1.291229e+09</td>\n",
       "      <td>1.341490e+09</td>\n",
       "      <td>0.827</td>\n",
       "      <td>0</td>\n",
       "    </tr>\n",
       "    <tr>\n",
       "      <th>1</th>\n",
       "      <td>8.929555e+06</td>\n",
       "      <td>4.641952e+07</td>\n",
       "      <td>1.048929e+08</td>\n",
       "      <td>0.442542</td>\n",
       "      <td>1.292415e+09</td>\n",
       "      <td>1.357686e+09</td>\n",
       "      <td>0.819</td>\n",
       "      <td>0</td>\n",
       "    </tr>\n",
       "    <tr>\n",
       "      <th>2</th>\n",
       "      <td>4.781941e+06</td>\n",
       "      <td>4.815752e+07</td>\n",
       "      <td>7.848464e+07</td>\n",
       "      <td>0.613592</td>\n",
       "      <td>1.295736e+09</td>\n",
       "      <td>1.330843e+09</td>\n",
       "      <td>0.829</td>\n",
       "      <td>0</td>\n",
       "    </tr>\n",
       "    <tr>\n",
       "      <th>3</th>\n",
       "      <td>3.957563e+06</td>\n",
       "      <td>4.408131e+07</td>\n",
       "      <td>9.263310e+07</td>\n",
       "      <td>0.475870</td>\n",
       "      <td>1.294448e+09</td>\n",
       "      <td>1.346367e+09</td>\n",
       "      <td>0.810</td>\n",
       "      <td>0</td>\n",
       "    </tr>\n",
       "    <tr>\n",
       "      <th>4</th>\n",
       "      <td>1.174306e+06</td>\n",
       "      <td>4.662380e+07</td>\n",
       "      <td>7.982662e+07</td>\n",
       "      <td>0.584063</td>\n",
       "      <td>1.298658e+09</td>\n",
       "      <td>1.332876e+09</td>\n",
       "      <td>0.818</td>\n",
       "      <td>0</td>\n",
       "    </tr>\n",
       "    <tr>\n",
       "      <th>...</th>\n",
       "      <td>...</td>\n",
       "      <td>...</td>\n",
       "      <td>...</td>\n",
       "      <td>...</td>\n",
       "      <td>...</td>\n",
       "      <td>...</td>\n",
       "      <td>...</td>\n",
       "      <td>...</td>\n",
       "    </tr>\n",
       "    <tr>\n",
       "      <th>75</th>\n",
       "      <td>9.067633e+06</td>\n",
       "      <td>6.750489e+07</td>\n",
       "      <td>8.995550e+07</td>\n",
       "      <td>0.750425</td>\n",
       "      <td>1.202363e+09</td>\n",
       "      <td>1.230848e+09</td>\n",
       "      <td>0.867</td>\n",
       "      <td>3</td>\n",
       "    </tr>\n",
       "    <tr>\n",
       "      <th>76</th>\n",
       "      <td>1.187579e+07</td>\n",
       "      <td>6.472520e+07</td>\n",
       "      <td>8.808441e+07</td>\n",
       "      <td>0.734809</td>\n",
       "      <td>1.199062e+09</td>\n",
       "      <td>1.229997e+09</td>\n",
       "      <td>0.880</td>\n",
       "      <td>3</td>\n",
       "    </tr>\n",
       "    <tr>\n",
       "      <th>77</th>\n",
       "      <td>8.555141e+06</td>\n",
       "      <td>7.136859e+07</td>\n",
       "      <td>8.598118e+07</td>\n",
       "      <td>0.830049</td>\n",
       "      <td>1.205096e+09</td>\n",
       "      <td>1.226347e+09</td>\n",
       "      <td>0.873</td>\n",
       "      <td>3</td>\n",
       "    </tr>\n",
       "    <tr>\n",
       "      <th>78</th>\n",
       "      <td>4.863464e+06</td>\n",
       "      <td>6.865726e+07</td>\n",
       "      <td>8.345632e+07</td>\n",
       "      <td>0.822673</td>\n",
       "      <td>1.199108e+09</td>\n",
       "      <td>1.217765e+09</td>\n",
       "      <td>0.881</td>\n",
       "      <td>3</td>\n",
       "    </tr>\n",
       "    <tr>\n",
       "      <th>79</th>\n",
       "      <td>4.523951e+06</td>\n",
       "      <td>6.777736e+07</td>\n",
       "      <td>8.232485e+07</td>\n",
       "      <td>0.823292</td>\n",
       "      <td>1.208432e+09</td>\n",
       "      <td>1.226412e+09</td>\n",
       "      <td>0.894</td>\n",
       "      <td>3</td>\n",
       "    </tr>\n",
       "  </tbody>\n",
       "</table>\n",
       "<p>80 rows × 8 columns</p>\n",
       "</div>"
      ],
      "text/plain": [
       "    default_loss        profit  opportunity_loss  profit_to_opportunity_loss  \\\n",
       "0   8.500505e+06  4.373879e+07      8.625335e+07                    0.507097   \n",
       "1   8.929555e+06  4.641952e+07      1.048929e+08                    0.442542   \n",
       "2   4.781941e+06  4.815752e+07      7.848464e+07                    0.613592   \n",
       "3   3.957563e+06  4.408131e+07      9.263310e+07                    0.475870   \n",
       "4   1.174306e+06  4.662380e+07      7.982662e+07                    0.584063   \n",
       "..           ...           ...               ...                         ...   \n",
       "75  9.067633e+06  6.750489e+07      8.995550e+07                    0.750425   \n",
       "76  1.187579e+07  6.472520e+07      8.808441e+07                    0.734809   \n",
       "77  8.555141e+06  7.136859e+07      8.598118e+07                    0.830049   \n",
       "78  4.863464e+06  6.865726e+07      8.345632e+07                    0.822673   \n",
       "79  4.523951e+06  6.777736e+07      8.232485e+07                    0.823292   \n",
       "\n",
       "    actual_expected_profit  model_expected_profit  positive_cust_ratio  \\\n",
       "0             1.291229e+09           1.341490e+09                0.827   \n",
       "1             1.292415e+09           1.357686e+09                0.819   \n",
       "2             1.295736e+09           1.330843e+09                0.829   \n",
       "3             1.294448e+09           1.346367e+09                0.810   \n",
       "4             1.298658e+09           1.332876e+09                0.818   \n",
       "..                     ...                    ...                  ...   \n",
       "75            1.202363e+09           1.230848e+09                0.867   \n",
       "76            1.199062e+09           1.229997e+09                0.880   \n",
       "77            1.205096e+09           1.226347e+09                0.873   \n",
       "78            1.199108e+09           1.217765e+09                0.881   \n",
       "79            1.208432e+09           1.226412e+09                0.894   \n",
       "\n",
       "    interest_rates_idx  \n",
       "0                    0  \n",
       "1                    0  \n",
       "2                    0  \n",
       "3                    0  \n",
       "4                    0  \n",
       "..                 ...  \n",
       "75                   3  \n",
       "76                   3  \n",
       "77                   3  \n",
       "78                   3  \n",
       "79                   3  \n",
       "\n",
       "[80 rows x 8 columns]"
      ]
     },
     "execution_count": 38,
     "metadata": {},
     "output_type": "execute_result"
    }
   ],
   "source": [
    "tmp"
   ]
  },
  {
   "cell_type": "code",
   "execution_count": 39,
   "metadata": {},
   "outputs": [
    {
     "data": {
      "text/plain": [
       "<seaborn.axisgrid.FacetGrid at 0x16c985b80>"
      ]
     },
     "execution_count": 39,
     "metadata": {},
     "output_type": "execute_result"
    },
    {
     "data": {
      "image/png": "[encoded data removed]",
      "text/plain": [
       "<Figure size 634.861x500 with 1 Axes>"
      ]
     },
     "metadata": {},
     "output_type": "display_data"
    }
   ],
   "source": [
    "sns.displot(data=tmp, x=\"profit\", y=\"opportunity_loss\", hue=\"interest_rates_idx\", kind=\"kde\")"
   ]
  },
  {
   "cell_type": "code",
   "execution_count": 40,
   "metadata": {},
   "outputs": [
    {
     "data": {
      "image/png": "[encoded data removed]",
      "text/plain": [
       "<Figure size 634.861x500 with 1 Axes>"
      ]
     },
     "metadata": {},
     "output_type": "display_data"
    }
   ],
   "source": [
    "_ = sns.displot(data=tmp, x=\"profit_to_opportunity_loss\", y=\"default_loss\", hue=\"interest_rates_idx\", kind='kde')"
   ]
  },
  {
   "cell_type": "markdown",
   "metadata": {},
   "source": [
    "## References <a class=\"anchor\" id=\"references\"></a>\n",
    "\n",
    "1. [Risk-Based Customer Segmentation within Banking](https://medium.com/ibm-data-ai/risk-based-customer-segmentation-within-banking-6109b1104f20)\n",
    "2. [A Gentle Introduction to Data Science for Credit Risk Modeling](https://mlopshowto.com/an-intro-to-data-science-for-credit-risk-modelling-57935805a911)\n",
    "3. [Proportion Of Loan Balances To Loan Amounts Is Too High](https://www.sensibledollar.com/proportion-of-loan-balances-to-loan-amounts-is-too-high/)\n",
    "4. [เงินเดือน 20,000 มนุษย์เงินเดือนกู้เงินซื้อบ้านได้กี่ล้าน\n",
    "](https://www.sansiri.com/content/view/%E0%B8%84%E0%B8%B3%E0%B9%81%E0%B8%99%E0%B8%B0%E0%B8%99%E0%B8%B3%E0%B8%81%E0%B8%B9%E0%B9%89%E0%B8%9A%E0%B9%89%E0%B8%B2%E0%B8%99-%E0%B9%80%E0%B8%87%E0%B8%B4%E0%B8%99%E0%B9%80%E0%B8%94%E0%B8%B7%E0%B8%AD%E0%B8%99-20,000-%E0%B8%A1%E0%B8%99%E0%B8%B8%E0%B8%A9%E0%B8%A2%E0%B9%8C%E0%B9%80%E0%B8%87%E0%B8%B4%E0%B8%99%E0%B9%80%E0%B8%94%E0%B8%B7%E0%B8%AD%E0%B8%99%E0%B8%81%E0%B8%B9%E0%B9%89%E0%B9%80%E0%B8%87%E0%B8%B4%E0%B8%99%E0%B8%8B%E0%B8%B7%E0%B9%89%E0%B8%AD%E0%B8%9A%E0%B9%89%E0%B8%B2%E0%B8%99%E0%B9%84%E0%B8%94%E0%B9%89%E0%B8%81%E0%B8%B5%E0%B9%88%E0%B8%A5%E0%B9%89%E0%B8%B2%E0%B8%99/th)\n",
    "5. [Monte Carlo Simulation with Python](https://pbpython.com/monte-carlo.html)\n",
    "6. [Personal Loan Statistics for 2022](https://www.fool.com/the-ascent/research/personal-loan-statistics/)\n",
    "7. [Value at risk](https://en.wikipedia.org/wiki/Value_at_risk)\n",
    "8. [เงินเดือนเท่านี้ ไหวไหม? เทียบค่าครองชีพกับเงินเดือนของแต่ละประเทศ](https://www.wongnai.com/articles/cost-of-living?ref=ct)\n",
    "9. [Mortgage Calculator](https://www.bankrate.com/mortgages/mortgage-calculator/)\n",
    "10. [Proxy Income Model - weekly update (06-12-2022)](https://scbcorp.sharepoint.com/:p:/r/teams/DATAXProducts/_layouts/15/Doc.aspx?sourcedoc=%7BE06D5A4E-46B6-4B5A-946F-44E43925C1E4%7D&file=prxy_incm_2022-12-06.pptx&action=edit&mobileredirect=true)\n",
    "11. [Home Loan Calculator](https://loan-calculators.org/home)"
   ]
  },
  {
   "cell_type": "code",
   "execution_count": null,
   "metadata": {},
   "outputs": [],
   "source": []
  }
 ],
 "metadata": {
  "kernelspec": {
   "display_name": "Python 3 (ipykernel)",
   "language": "python",
   "name": "python3"
  },
  "language_info": {
   "codemirror_mode": {
    "name": "ipython",
    "version": 3
   },
   "file_extension": ".py",
   "mimetype": "text/x-python",
   "name": "python",
   "nbconvert_exporter": "python",
   "pygments_lexer": "ipython3",
   "version": "3.8.11"
  }
 },
 "nbformat": 4,
 "nbformat_minor": 4
}
