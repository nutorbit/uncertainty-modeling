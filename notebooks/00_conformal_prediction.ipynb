{
 "cells": [
  {
   "cell_type": "code",
   "execution_count": 1,
   "id": "3247bab3-23a5-4b66-a27c-b65da09c89c4",
   "metadata": {},
   "outputs": [],
   "source": [
    "import scipy\n",
    "import numpy as np\n",
    "import pandas as pd\n",
    "import seaborn as sns\n",
    "import matplotlib.pyplot as plt\n",
    "\n",
    "from typing import List, Union, Callable, Tuple, Any\n",
    "from IPython.core.interactiveshell import InteractiveShell\n",
    "\n",
    "InteractiveShell.ast_node_interactivity = \"all\""
   ]
  },
  {
   "cell_type": "markdown",
   "id": "73652af1-2b35-4d44-a6e3-f610415c47ef",
   "metadata": {},
   "source": [
    "# Background / Motivation\n",
    "\n",
    "Building the model that can effectively decide whether to give a loan or not can help bank to speed up the underwriting process. As the result from [[1]](), with useful information is provided, the model can achieve high performance. However, some information such as income is not accessible at first, and bank normally asks for the proof of income which takes time during the process. As banks, they want to know this before customers provide it to them in order to improve the underwriting process.\n",
    "\n",
    "\n",
    "In practice, building the sophisticated income model is challenging due to lack of usable features, and so on. Alternatively, managaing/mitigating the uncertainty of the model at least helps bank to tradeoff between risk and profit."
   ]
  },
  {
   "cell_type": "code",
   "execution_count": 2,
   "id": "bf468b52-9f61-4909-ad79-17ee2ed5c125",
   "metadata": {},
   "outputs": [
    {
     "data": {
      "text/html": [
       "<div>\n",
       "<style scoped>\n",
       "    .dataframe tbody tr th:only-of-type {\n",
       "        vertical-align: middle;\n",
       "    }\n",
       "\n",
       "    .dataframe tbody tr th {\n",
       "        vertical-align: top;\n",
       "    }\n",
       "\n",
       "    .dataframe thead th {\n",
       "        text-align: right;\n",
       "    }\n",
       "</style>\n",
       "<table border=\"1\" class=\"dataframe\">\n",
       "  <thead>\n",
       "    <tr style=\"text-align: right;\">\n",
       "      <th></th>\n",
       "      <th>Loan_ID</th>\n",
       "      <th>Gender</th>\n",
       "      <th>Married</th>\n",
       "      <th>Dependents</th>\n",
       "      <th>Education</th>\n",
       "      <th>Self_Employed</th>\n",
       "      <th>ApplicantIncome</th>\n",
       "      <th>CoapplicantIncome</th>\n",
       "      <th>LoanAmount</th>\n",
       "      <th>Loan_Amount_Term</th>\n",
       "      <th>Credit_History</th>\n",
       "      <th>Property_Area</th>\n",
       "      <th>Loan_Status</th>\n",
       "    </tr>\n",
       "  </thead>\n",
       "  <tbody>\n",
       "    <tr>\n",
       "      <th>0</th>\n",
       "      <td>LP001002</td>\n",
       "      <td>Male</td>\n",
       "      <td>No</td>\n",
       "      <td>0</td>\n",
       "      <td>Graduate</td>\n",
       "      <td>No</td>\n",
       "      <td>5849</td>\n",
       "      <td>0.0</td>\n",
       "      <td>NaN</td>\n",
       "      <td>360.0</td>\n",
       "      <td>1.0</td>\n",
       "      <td>Urban</td>\n",
       "      <td>Y</td>\n",
       "    </tr>\n",
       "    <tr>\n",
       "      <th>1</th>\n",
       "      <td>LP001003</td>\n",
       "      <td>Male</td>\n",
       "      <td>Yes</td>\n",
       "      <td>1</td>\n",
       "      <td>Graduate</td>\n",
       "      <td>No</td>\n",
       "      <td>4583</td>\n",
       "      <td>1508.0</td>\n",
       "      <td>128.0</td>\n",
       "      <td>360.0</td>\n",
       "      <td>1.0</td>\n",
       "      <td>Rural</td>\n",
       "      <td>N</td>\n",
       "    </tr>\n",
       "    <tr>\n",
       "      <th>2</th>\n",
       "      <td>LP001005</td>\n",
       "      <td>Male</td>\n",
       "      <td>Yes</td>\n",
       "      <td>0</td>\n",
       "      <td>Graduate</td>\n",
       "      <td>Yes</td>\n",
       "      <td>3000</td>\n",
       "      <td>0.0</td>\n",
       "      <td>66.0</td>\n",
       "      <td>360.0</td>\n",
       "      <td>1.0</td>\n",
       "      <td>Urban</td>\n",
       "      <td>Y</td>\n",
       "    </tr>\n",
       "    <tr>\n",
       "      <th>3</th>\n",
       "      <td>LP001006</td>\n",
       "      <td>Male</td>\n",
       "      <td>Yes</td>\n",
       "      <td>0</td>\n",
       "      <td>Not Graduate</td>\n",
       "      <td>No</td>\n",
       "      <td>2583</td>\n",
       "      <td>2358.0</td>\n",
       "      <td>120.0</td>\n",
       "      <td>360.0</td>\n",
       "      <td>1.0</td>\n",
       "      <td>Urban</td>\n",
       "      <td>Y</td>\n",
       "    </tr>\n",
       "    <tr>\n",
       "      <th>4</th>\n",
       "      <td>LP001008</td>\n",
       "      <td>Male</td>\n",
       "      <td>No</td>\n",
       "      <td>0</td>\n",
       "      <td>Graduate</td>\n",
       "      <td>No</td>\n",
       "      <td>6000</td>\n",
       "      <td>0.0</td>\n",
       "      <td>141.0</td>\n",
       "      <td>360.0</td>\n",
       "      <td>1.0</td>\n",
       "      <td>Urban</td>\n",
       "      <td>Y</td>\n",
       "    </tr>\n",
       "  </tbody>\n",
       "</table>\n",
       "</div>"
      ],
      "text/plain": [
       "    Loan_ID Gender Married Dependents     Education Self_Employed  \\\n",
       "0  LP001002   Male      No          0      Graduate            No   \n",
       "1  LP001003   Male     Yes          1      Graduate            No   \n",
       "2  LP001005   Male     Yes          0      Graduate           Yes   \n",
       "3  LP001006   Male     Yes          0  Not Graduate            No   \n",
       "4  LP001008   Male      No          0      Graduate            No   \n",
       "\n",
       "   ApplicantIncome  CoapplicantIncome  LoanAmount  Loan_Amount_Term  \\\n",
       "0             5849                0.0         NaN             360.0   \n",
       "1             4583             1508.0       128.0             360.0   \n",
       "2             3000                0.0        66.0             360.0   \n",
       "3             2583             2358.0       120.0             360.0   \n",
       "4             6000                0.0       141.0             360.0   \n",
       "\n",
       "   Credit_History Property_Area Loan_Status  \n",
       "0             1.0         Urban           Y  \n",
       "1             1.0         Rural           N  \n",
       "2             1.0         Urban           Y  \n",
       "3             1.0         Urban           Y  \n",
       "4             1.0         Urban           Y  "
      ]
     },
     "execution_count": 2,
     "metadata": {},
     "output_type": "execute_result"
    },
    {
     "data": {
      "text/plain": [
       "(614, 13)"
      ]
     },
     "execution_count": 2,
     "metadata": {},
     "output_type": "execute_result"
    }
   ],
   "source": [
    "df = pd.read_csv(\"../data/loan-train.csv\")\n",
    "df.head()\n",
    "df.shape"
   ]
  },
  {
   "cell_type": "code",
   "execution_count": 3,
   "id": "6d26c7dc-f79b-49b6-831d-a12d018de50a",
   "metadata": {},
   "outputs": [],
   "source": [
    "df[\"Loan_Status\"] = (df[\"Loan_Status\"] == \"Y\").astype(int)"
   ]
  },
  {
   "cell_type": "markdown",
   "id": "f0038b49-fd57-4692-9517-18234fc1e73d",
   "metadata": {},
   "source": [
    "## Feature engineering"
   ]
  },
  {
   "cell_type": "markdown",
   "id": "bfa8fda3-2389-47b0-bdda-bfd73dc5df05",
   "metadata": {},
   "source": [
    "**Total income**\n",
    "\n",
    "Applicant income and Coapplicant income can determine the loan amount that customer can take."
   ]
  },
  {
   "cell_type": "code",
   "execution_count": 4,
   "id": "22ebe840-40b2-4d34-9360-99bae61d6cef",
   "metadata": {},
   "outputs": [],
   "source": [
    "df[\"TotalIncome\"] = df[\"ApplicantIncome\"] + df[\"CoapplicantIncome\"]"
   ]
  },
  {
   "cell_type": "markdown",
   "id": "eea78694-7891-45be-a22e-2034c5c7eac6",
   "metadata": {},
   "source": [
    "**Income Bin**\n"
   ]
  },
  {
   "cell_type": "code",
   "execution_count": 5,
   "id": "d1ce9ad0-8805-4b27-8e3e-80f437384d23",
   "metadata": {},
   "outputs": [],
   "source": [
    "df[\"TotalIncomeBin\"] = pd.cut(\n",
    "    df[\"TotalIncome\"], \n",
    "    bins=[-np.inf, 3000, 5000, 9000, 17000, np.inf],\n",
    "    labels=[\"<= 3000\", \"(3000, 5000]\", \"(5000, 9000]\", \"(9000, 17000]\", \"> 17000\"]\n",
    ").astype(str)"
   ]
  },
  {
   "cell_type": "code",
   "execution_count": 6,
   "id": "c3f81230-83a6-4256-95c2-acf45ab8060b",
   "metadata": {},
   "outputs": [
    {
     "data": {
      "image/png": "[encoded data removed]",
      "text/plain": [
       "<Figure size 640x480 with 1 Axes>"
      ]
     },
     "metadata": {},
     "output_type": "display_data"
    }
   ],
   "source": [
    "_ = sns.histplot(df[\"TotalIncomeBin\"])"
   ]
  },
  {
   "cell_type": "markdown",
   "id": "fd11cc84-70b0-4c5b-8cde-a9b846b74ae9",
   "metadata": {},
   "source": [
    "## Baseline loan model\n",
    "\n",
    "Let's build the baseline for loan approval model."
   ]
  },
  {
   "cell_type": "code",
   "execution_count": 6,
   "id": "cb645db5-cd0f-420c-b8dd-dc1b407b5928",
   "metadata": {},
   "outputs": [],
   "source": [
    "from category_encoders.target_encoder import TargetEncoder\n",
    "from sklearn.preprocessing import PowerTransformer, OneHotEncoder\n",
    "\n",
    "from catboost import CatBoostClassifier\n",
    "from xgboost import XGBClassifier\n",
    "from sklearn.ensemble import RandomForestClassifier\n",
    "from sklearn.linear_model import LogisticRegression\n",
    "from lightgbm import LGBMClassifier\n",
    "\n",
    "from sklearn.metrics import accuracy_score, recall_score, precision_score, classification_report, confusion_matrix\n",
    "from sklearn.model_selection import StratifiedKFold, train_test_split"
   ]
  },
  {
   "cell_type": "code",
   "execution_count": 7,
   "id": "cd1020d6-0e12-4eda-b99c-b9361b020bd1",
   "metadata": {},
   "outputs": [],
   "source": [
    "def safe_df(df: Any, cols: List[str] = None) -> pd.DataFrame:\n",
    "    if isinstance(df, scipy.sparse._csr.csr_matrix):\n",
    "        df = df.toarray()\n",
    "    if not isinstance(df, pd.DataFrame):\n",
    "        df = pd.DataFrame(df, columns=cols)\n",
    "    return df.reset_index(drop=True)\n",
    "\n",
    "\n",
    "def encode_categorical_features(df: pd.DataFrame, feature_cols: List[str], target_col: str) -> Tuple[pd.DataFrame, ...]:\n",
    "    if not feature_cols:\n",
    "        return None, None\n",
    "    df_encoded = df.copy()\n",
    "    encoder = TargetEncoder()\n",
    "    df_encoded = encoder.fit_transform(df_encoded[feature_cols], df_encoded[target_col])\n",
    "    return safe_df(df_encoded, feature_cols), encoder\n",
    "\n",
    "## One-hot\n",
    "# def encode_categorical_features(df: pd.DataFrame, feature_cols: List[str], target_col: str = None) -> Tuple[pd.DataFrame, ...]:\n",
    "#     if not feature_cols:\n",
    "#         return None, None\n",
    "#     df_encoded = df.copy()\n",
    "#     encoder = OneHotEncoder()\n",
    "#     df_encoded = encoder.fit_transform(df_encoded[feature_cols])\n",
    "#     return safe_df(df_encoded), encoder\n",
    "\n",
    "\n",
    "def encode_numerical_features(df: pd.DataFrame, feature_cols: List[str]) -> Tuple[pd.DataFrame, ...]:\n",
    "    if not feature_cols:\n",
    "        return None, None\n",
    "    df_encoded = df.copy()\n",
    "    encoder = PowerTransformer()\n",
    "    df_encoded = encoder.fit_transform(df_encoded[feature_cols])\n",
    "    return safe_df(df_encoded, feature_cols), encoder\n",
    "\n",
    "\n",
    "def apply_encoder(df: pd.DataFrame, enc: Union[TargetEncoder, PowerTransformer], feature_cols: List[str]) -> pd.DataFrame:\n",
    "    if not feature_cols:\n",
    "        return None\n",
    "    df_encoded = df.copy()\n",
    "    df_encoded = enc.transform(df_encoded[feature_cols])\n",
    "    return safe_df(df_encoded, cols=feature_cols if df_encoded.shape[1] == len(feature_cols) else None)"
   ]
  },
  {
   "cell_type": "code",
   "execution_count": 8,
   "id": "42ee6957-eb5a-4f8d-b421-e1d614ff12b0",
   "metadata": {},
   "outputs": [],
   "source": [
    "def rollout_result(\n",
    "    model_fn: Callable, \n",
    "    df: pd.DataFrame,\n",
    "    cat_features: List[str],\n",
    "    num_features: List[str],\n",
    "    target: str,\n",
    "    metric_fn: Callable = accuracy_score,\n",
    "    n_splits: int = 5,\n",
    "    seed: int = 123\n",
    ") -> Tuple[float, ...]:\n",
    "    \n",
    "    df_copy = df.copy()\n",
    "    \n",
    "    kf = StratifiedKFold(n_splits=n_splits, shuffle=True, random_state=seed)\n",
    "    scores = []\n",
    "    models = []\n",
    "\n",
    "    for train_idx, test_idx in kf.split(df_copy, df_copy[target]):\n",
    "        train_df, test_df = df_copy.iloc[train_idx].reset_index(drop=True), df_copy.iloc[test_idx].reset_index(drop=True)\n",
    "\n",
    "        # encode training set\n",
    "        train_encoded_cat, cat_encoder = encode_categorical_features(train_df, cat_features, target)\n",
    "        train_encoded_num, num_encoder = encode_numerical_features(train_df, num_features)\n",
    "        train_encoded = pd.concat([train_encoded_cat, train_encoded_num, train_df[[target]]], axis=1)\n",
    "\n",
    "        # train the model\n",
    "        model = model_fn()\n",
    "        _ = model.fit(train_encoded.drop(target, axis=1), train_encoded[target])\n",
    "\n",
    "        # encode testing set\n",
    "        test_encoded_cat = apply_encoder(test_df, cat_encoder, cat_features)\n",
    "        test_encoded_num = apply_encoder(test_df, num_encoder, num_features)\n",
    "        test_encoded = pd.concat([test_encoded_cat, test_encoded_num, test_df[[target]]], axis=1)\n",
    "        \n",
    "        # evaluate\n",
    "        pred = model.predict(test_encoded.drop(target, axis=1))\n",
    "        y_true = test_encoded[[target]]\n",
    "        \n",
    "        scores.append(metric_fn(y_true, pred))\n",
    "        models.append(model)\n",
    "\n",
    "    best_idx = np.argmax(scores)\n",
    "        \n",
    "    return np.mean(scores), models[best_idx]"
   ]
  },
  {
   "cell_type": "code",
   "execution_count": 9,
   "id": "367ad544-62c6-45e3-8e13-c66d7dc65eb8",
   "metadata": {},
   "outputs": [],
   "source": [
    "cat_features = [\"Gender\", \"Married\", \"Dependents\", \"Education\", \"Self_Employed\", \"Property_Area\", \"Credit_History\"]\n",
    "num_features = [\"ApplicantIncome\", \"TotalIncome\", \"LoanAmount\", \"Loan_Amount_Term\"]\n",
    "# num_features = [\"LoanAmount\", \"Loan_Amount_Term\"]\n",
    "target = \"Loan_Status\"\n",
    "\n",
    "df_copy = df.dropna().copy()"
   ]
  },
  {
   "cell_type": "code",
   "execution_count": 10,
   "id": "6759c00f-6d05-4a06-a5ec-d01a212314e4",
   "metadata": {
    "tags": []
   },
   "outputs": [
    {
     "name": "stderr",
     "output_type": "stream",
     "text": [
      "/Users/nutorbit/Library/Caches/pypoetry/virtualenvs/uncertainty-modeling-6RgNMiVj-py3.8/lib/python3.8/site-packages/category_encoders/target_encoder.py:122: FutureWarning: Default parameter min_samples_leaf will change in version 2.6.See https://github.com/scikit-learn-contrib/category_encoders/issues/327\n",
      "  warnings.warn(\"Default parameter min_samples_leaf will change in version 2.6.\"\n",
      "/Users/nutorbit/Library/Caches/pypoetry/virtualenvs/uncertainty-modeling-6RgNMiVj-py3.8/lib/python3.8/site-packages/category_encoders/target_encoder.py:127: FutureWarning: Default parameter smoothing will change in version 2.6.See https://github.com/scikit-learn-contrib/category_encoders/issues/327\n",
      "  warnings.warn(\"Default parameter smoothing will change in version 2.6.\"\n",
      "/Users/nutorbit/Library/Caches/pypoetry/virtualenvs/uncertainty-modeling-6RgNMiVj-py3.8/lib/python3.8/site-packages/category_encoders/target_encoder.py:122: FutureWarning: Default parameter min_samples_leaf will change in version 2.6.See https://github.com/scikit-learn-contrib/category_encoders/issues/327\n",
      "  warnings.warn(\"Default parameter min_samples_leaf will change in version 2.6.\"\n",
      "/Users/nutorbit/Library/Caches/pypoetry/virtualenvs/uncertainty-modeling-6RgNMiVj-py3.8/lib/python3.8/site-packages/category_encoders/target_encoder.py:127: FutureWarning: Default parameter smoothing will change in version 2.6.See https://github.com/scikit-learn-contrib/category_encoders/issues/327\n",
      "  warnings.warn(\"Default parameter smoothing will change in version 2.6.\"\n",
      "/Users/nutorbit/Library/Caches/pypoetry/virtualenvs/uncertainty-modeling-6RgNMiVj-py3.8/lib/python3.8/site-packages/category_encoders/target_encoder.py:122: FutureWarning: Default parameter min_samples_leaf will change in version 2.6.See https://github.com/scikit-learn-contrib/category_encoders/issues/327\n",
      "  warnings.warn(\"Default parameter min_samples_leaf will change in version 2.6.\"\n",
      "/Users/nutorbit/Library/Caches/pypoetry/virtualenvs/uncertainty-modeling-6RgNMiVj-py3.8/lib/python3.8/site-packages/category_encoders/target_encoder.py:127: FutureWarning: Default parameter smoothing will change in version 2.6.See https://github.com/scikit-learn-contrib/category_encoders/issues/327\n",
      "  warnings.warn(\"Default parameter smoothing will change in version 2.6.\"\n",
      "/Users/nutorbit/Library/Caches/pypoetry/virtualenvs/uncertainty-modeling-6RgNMiVj-py3.8/lib/python3.8/site-packages/category_encoders/target_encoder.py:122: FutureWarning: Default parameter min_samples_leaf will change in version 2.6.See https://github.com/scikit-learn-contrib/category_encoders/issues/327\n",
      "  warnings.warn(\"Default parameter min_samples_leaf will change in version 2.6.\"\n",
      "/Users/nutorbit/Library/Caches/pypoetry/virtualenvs/uncertainty-modeling-6RgNMiVj-py3.8/lib/python3.8/site-packages/category_encoders/target_encoder.py:127: FutureWarning: Default parameter smoothing will change in version 2.6.See https://github.com/scikit-learn-contrib/category_encoders/issues/327\n",
      "  warnings.warn(\"Default parameter smoothing will change in version 2.6.\"\n",
      "/Users/nutorbit/Library/Caches/pypoetry/virtualenvs/uncertainty-modeling-6RgNMiVj-py3.8/lib/python3.8/site-packages/category_encoders/target_encoder.py:122: FutureWarning: Default parameter min_samples_leaf will change in version 2.6.See https://github.com/scikit-learn-contrib/category_encoders/issues/327\n",
      "  warnings.warn(\"Default parameter min_samples_leaf will change in version 2.6.\"\n",
      "/Users/nutorbit/Library/Caches/pypoetry/virtualenvs/uncertainty-modeling-6RgNMiVj-py3.8/lib/python3.8/site-packages/category_encoders/target_encoder.py:127: FutureWarning: Default parameter smoothing will change in version 2.6.See https://github.com/scikit-learn-contrib/category_encoders/issues/327\n",
      "  warnings.warn(\"Default parameter smoothing will change in version 2.6.\"\n"
     ]
    }
   ],
   "source": [
    "mean_scores, best_model = rollout_result(\n",
    "    model_fn=lambda: CatBoostClassifier(iterations=1e3, depth=5, verbose=0),\n",
    "    df=df_copy,\n",
    "    cat_features=cat_features,\n",
    "    num_features=num_features,\n",
    "    target=target\n",
    ")"
   ]
  },
  {
   "cell_type": "code",
   "execution_count": 11,
   "id": "78bea7e3-66ac-4b49-a487-21ac8d036b01",
   "metadata": {},
   "outputs": [
    {
     "data": {
      "text/plain": [
       "0.8104166666666668"
      ]
     },
     "execution_count": 11,
     "metadata": {},
     "output_type": "execute_result"
    }
   ],
   "source": [
    "mean_scores"
   ]
  },
  {
   "cell_type": "code",
   "execution_count": 12,
   "id": "0540a0f5-506c-440a-9213-84d2dd347c6a",
   "metadata": {},
   "outputs": [
    {
     "data": {
      "image/png": "[encoded data removed]",
      "text/plain": [
       "<Figure size 640x480 with 1 Axes>"
      ]
     },
     "metadata": {},
     "output_type": "display_data"
    }
   ],
   "source": [
    "idx = np.argsort(best_model.feature_importances_)\n",
    "_ = plt.barh(np.array(best_model.feature_names_)[idx], np.array(best_model.feature_importances_)[idx])"
   ]
  },
  {
   "cell_type": "markdown",
   "id": "511a0e96-b5bb-4275-9f76-581d078b7632",
   "metadata": {},
   "source": [
    "As the result, **ApplicantIncome** is in the top 3 important features. Let's see if we drop all income-related features out."
   ]
  },
  {
   "cell_type": "code",
   "execution_count": 13,
   "id": "c5611736-7e07-4382-8518-6ca898811c23",
   "metadata": {},
   "outputs": [],
   "source": [
    "cat_features = [\"Gender\", \"Married\", \"Dependents\", \"Education\", \"Self_Employed\", \"Property_Area\", \"Credit_History\"]\n",
    "num_features = [\"Loan_Amount_Term\"]\n",
    "target = \"Loan_Status\"\n",
    "\n",
    "df_copy = df.dropna().copy()"
   ]
  },
  {
   "cell_type": "code",
   "execution_count": 14,
   "id": "7992907a-a21e-414c-b4cb-90a5790c4149",
   "metadata": {},
   "outputs": [
    {
     "name": "stderr",
     "output_type": "stream",
     "text": [
      "/Users/nutorbit/Library/Caches/pypoetry/virtualenvs/uncertainty-modeling-6RgNMiVj-py3.8/lib/python3.8/site-packages/category_encoders/target_encoder.py:122: FutureWarning: Default parameter min_samples_leaf will change in version 2.6.See https://github.com/scikit-learn-contrib/category_encoders/issues/327\n",
      "  warnings.warn(\"Default parameter min_samples_leaf will change in version 2.6.\"\n",
      "/Users/nutorbit/Library/Caches/pypoetry/virtualenvs/uncertainty-modeling-6RgNMiVj-py3.8/lib/python3.8/site-packages/category_encoders/target_encoder.py:127: FutureWarning: Default parameter smoothing will change in version 2.6.See https://github.com/scikit-learn-contrib/category_encoders/issues/327\n",
      "  warnings.warn(\"Default parameter smoothing will change in version 2.6.\"\n",
      "/Users/nutorbit/Library/Caches/pypoetry/virtualenvs/uncertainty-modeling-6RgNMiVj-py3.8/lib/python3.8/site-packages/category_encoders/target_encoder.py:122: FutureWarning: Default parameter min_samples_leaf will change in version 2.6.See https://github.com/scikit-learn-contrib/category_encoders/issues/327\n",
      "  warnings.warn(\"Default parameter min_samples_leaf will change in version 2.6.\"\n",
      "/Users/nutorbit/Library/Caches/pypoetry/virtualenvs/uncertainty-modeling-6RgNMiVj-py3.8/lib/python3.8/site-packages/category_encoders/target_encoder.py:127: FutureWarning: Default parameter smoothing will change in version 2.6.See https://github.com/scikit-learn-contrib/category_encoders/issues/327\n",
      "  warnings.warn(\"Default parameter smoothing will change in version 2.6.\"\n",
      "/Users/nutorbit/Library/Caches/pypoetry/virtualenvs/uncertainty-modeling-6RgNMiVj-py3.8/lib/python3.8/site-packages/category_encoders/target_encoder.py:122: FutureWarning: Default parameter min_samples_leaf will change in version 2.6.See https://github.com/scikit-learn-contrib/category_encoders/issues/327\n",
      "  warnings.warn(\"Default parameter min_samples_leaf will change in version 2.6.\"\n",
      "/Users/nutorbit/Library/Caches/pypoetry/virtualenvs/uncertainty-modeling-6RgNMiVj-py3.8/lib/python3.8/site-packages/category_encoders/target_encoder.py:127: FutureWarning: Default parameter smoothing will change in version 2.6.See https://github.com/scikit-learn-contrib/category_encoders/issues/327\n",
      "  warnings.warn(\"Default parameter smoothing will change in version 2.6.\"\n",
      "/Users/nutorbit/Library/Caches/pypoetry/virtualenvs/uncertainty-modeling-6RgNMiVj-py3.8/lib/python3.8/site-packages/category_encoders/target_encoder.py:122: FutureWarning: Default parameter min_samples_leaf will change in version 2.6.See https://github.com/scikit-learn-contrib/category_encoders/issues/327\n",
      "  warnings.warn(\"Default parameter min_samples_leaf will change in version 2.6.\"\n",
      "/Users/nutorbit/Library/Caches/pypoetry/virtualenvs/uncertainty-modeling-6RgNMiVj-py3.8/lib/python3.8/site-packages/category_encoders/target_encoder.py:127: FutureWarning: Default parameter smoothing will change in version 2.6.See https://github.com/scikit-learn-contrib/category_encoders/issues/327\n",
      "  warnings.warn(\"Default parameter smoothing will change in version 2.6.\"\n",
      "/Users/nutorbit/Library/Caches/pypoetry/virtualenvs/uncertainty-modeling-6RgNMiVj-py3.8/lib/python3.8/site-packages/category_encoders/target_encoder.py:122: FutureWarning: Default parameter min_samples_leaf will change in version 2.6.See https://github.com/scikit-learn-contrib/category_encoders/issues/327\n",
      "  warnings.warn(\"Default parameter min_samples_leaf will change in version 2.6.\"\n",
      "/Users/nutorbit/Library/Caches/pypoetry/virtualenvs/uncertainty-modeling-6RgNMiVj-py3.8/lib/python3.8/site-packages/category_encoders/target_encoder.py:127: FutureWarning: Default parameter smoothing will change in version 2.6.See https://github.com/scikit-learn-contrib/category_encoders/issues/327\n",
      "  warnings.warn(\"Default parameter smoothing will change in version 2.6.\"\n"
     ]
    }
   ],
   "source": [
    "mean_scores, best_model = rollout_result(\n",
    "    model_fn=lambda: CatBoostClassifier(iterations=1e3, depth=5, verbose=0),\n",
    "    df=df_copy,\n",
    "    cat_features=cat_features,\n",
    "    num_features=num_features,\n",
    "    target=target\n",
    ")"
   ]
  },
  {
   "cell_type": "code",
   "execution_count": 15,
   "id": "14d519d3-17d8-4322-98ae-661eed89c1a1",
   "metadata": {},
   "outputs": [
    {
     "data": {
      "text/plain": [
       "0.8"
      ]
     },
     "execution_count": 15,
     "metadata": {},
     "output_type": "execute_result"
    }
   ],
   "source": [
    "mean_scores"
   ]
  },
  {
   "cell_type": "code",
   "execution_count": 16,
   "id": "0e3c1eeb-d588-4143-98b4-d497c5254a06",
   "metadata": {},
   "outputs": [
    {
     "data": {
      "image/png": "[encoded data removed]",
      "text/plain": [
       "<Figure size 640x480 with 1 Axes>"
      ]
     },
     "metadata": {},
     "output_type": "display_data"
    }
   ],
   "source": [
    "idx = np.argsort(best_model.feature_importances_)\n",
    "_ = plt.barh(np.array(best_model.feature_names_)[idx], np.array(best_model.feature_importances_)[idx])"
   ]
  },
  {
   "cell_type": "markdown",
   "id": "d4f27147-0a39-415a-aa84-1a2be9a9bb41",
   "metadata": {},
   "source": [
    "## Proxy Income\n",
    "\n"
   ]
  },
  {
   "cell_type": "code",
   "execution_count": 18,
   "id": "cd997cdc-1e51-4053-a260-5f04b2c67beb",
   "metadata": {},
   "outputs": [],
   "source": [
    "mean_scores, best_model = rollout_result(\n",
    "    model_fn=lambda: CatBoostClassifier(iterations=1e3, depth=5, verbose=0),\n",
    "    df=df_copy,\n",
    "    cat_features=[\"Gender\", \"Married\", \"Dependents\", \"Education\", \"Self_Employed\", \"Property_Area\"],\n",
    "    num_features=[],\n",
    "    target=\"TotalIncomeBin\"\n",
    ")"
   ]
  },
  {
   "cell_type": "code",
   "execution_count": 19,
   "id": "9b9e3554-58eb-4464-95c7-f569aa27dd60",
   "metadata": {},
   "outputs": [],
   "source": [
    "encoded, encoder = encode_categorical_features(df_copy, [\"Gender\", \"Married\", \"Dependents\", \"Education\", \"Self_Employed\", \"Property_Area\"], None)"
   ]
  },
  {
   "cell_type": "code",
   "execution_count": 20,
   "id": "1433d352-19fa-4a45-b157-a880678c9fc7",
   "metadata": {},
   "outputs": [
    {
     "name": "stdout",
     "output_type": "stream",
     "text": [
      "               precision    recall  f1-score   support\n",
      "\n",
      "      <= 3000       0.57      0.11      0.18        38\n",
      " (3000, 5000]       0.55      0.58      0.57       173\n",
      " (5000, 9000]       0.52      0.73      0.61       180\n",
      "(9000, 17000]       0.52      0.19      0.27        70\n",
      "      > 17000       0.55      0.32      0.40        19\n",
      "\n",
      "     accuracy                           0.53       480\n",
      "    macro avg       0.54      0.38      0.41       480\n",
      " weighted avg       0.54      0.53      0.50       480\n",
      "\n"
     ]
    }
   ],
   "source": [
    "print(\n",
    "    classification_report(\n",
    "        df_copy[\"TotalIncomeBin\"],\n",
    "        best_model.predict(encoded),\n",
    "        labels=[\"<= 3000\", \"(3000, 5000]\", \"(5000, 9000]\", \"(9000, 17000]\", \"> 17000\"]\n",
    "    )\n",
    ")"
   ]
  },
  {
   "cell_type": "code",
   "execution_count": 21,
   "id": "ab0cbfa5-04da-4700-81d5-4cfb8ed84625",
   "metadata": {},
   "outputs": [
    {
     "data": {
      "text/html": [
       "<div>\n",
       "<style scoped>\n",
       "    .dataframe tbody tr th:only-of-type {\n",
       "        vertical-align: middle;\n",
       "    }\n",
       "\n",
       "    .dataframe tbody tr th {\n",
       "        vertical-align: top;\n",
       "    }\n",
       "\n",
       "    .dataframe thead th {\n",
       "        text-align: right;\n",
       "    }\n",
       "</style>\n",
       "<table border=\"1\" class=\"dataframe\">\n",
       "  <thead>\n",
       "    <tr style=\"text-align: right;\">\n",
       "      <th></th>\n",
       "      <th>&lt;= 3000</th>\n",
       "      <th>(3000, 5000]</th>\n",
       "      <th>(5000, 9000]</th>\n",
       "      <th>(9000, 17000]</th>\n",
       "      <th>&gt; 17000</th>\n",
       "    </tr>\n",
       "  </thead>\n",
       "  <tbody>\n",
       "    <tr>\n",
       "      <th>&lt;= 3000</th>\n",
       "      <td>4</td>\n",
       "      <td>17</td>\n",
       "      <td>16</td>\n",
       "      <td>1</td>\n",
       "      <td>0</td>\n",
       "    </tr>\n",
       "    <tr>\n",
       "      <th>(3000, 5000]</th>\n",
       "      <td>2</td>\n",
       "      <td>101</td>\n",
       "      <td>64</td>\n",
       "      <td>6</td>\n",
       "      <td>0</td>\n",
       "    </tr>\n",
       "    <tr>\n",
       "      <th>(5000, 9000]</th>\n",
       "      <td>1</td>\n",
       "      <td>40</td>\n",
       "      <td>132</td>\n",
       "      <td>4</td>\n",
       "      <td>3</td>\n",
       "    </tr>\n",
       "    <tr>\n",
       "      <th>(9000, 17000]</th>\n",
       "      <td>0</td>\n",
       "      <td>18</td>\n",
       "      <td>37</td>\n",
       "      <td>13</td>\n",
       "      <td>2</td>\n",
       "    </tr>\n",
       "    <tr>\n",
       "      <th>&gt; 17000</th>\n",
       "      <td>0</td>\n",
       "      <td>7</td>\n",
       "      <td>5</td>\n",
       "      <td>1</td>\n",
       "      <td>6</td>\n",
       "    </tr>\n",
       "  </tbody>\n",
       "</table>\n",
       "</div>"
      ],
      "text/plain": [
       "               <= 3000  (3000, 5000]  (5000, 9000]  (9000, 17000]  > 17000\n",
       "<= 3000              4            17            16              1        0\n",
       "(3000, 5000]         2           101            64              6        0\n",
       "(5000, 9000]         1            40           132              4        3\n",
       "(9000, 17000]        0            18            37             13        2\n",
       "> 17000              0             7             5              1        6"
      ]
     },
     "execution_count": 21,
     "metadata": {},
     "output_type": "execute_result"
    }
   ],
   "source": [
    "pd.DataFrame(\n",
    "    confusion_matrix(\n",
    "        df_copy[\"TotalIncomeBin\"],\n",
    "        best_model.predict(encoded),\n",
    "        labels=[\"<= 3000\", \"(3000, 5000]\", \"(5000, 9000]\", \"(9000, 17000]\", \"> 17000\"]\n",
    "    ),\n",
    "    index=[\"<= 3000\", \"(3000, 5000]\", \"(5000, 9000]\", \"(9000, 17000]\", \"> 17000\"],\n",
    "    columns=[\"<= 3000\", \"(3000, 5000]\", \"(5000, 9000]\", \"(9000, 17000]\", \"> 17000\"]\n",
    ")"
   ]
  },
  {
   "cell_type": "markdown",
   "id": "e4fca20d-1f2b-4a9b-bee1-915aef04534a",
   "metadata": {},
   "source": [
    "### Conformal prediction\n",
    "\n",
    "Conformal prediction is a way to generate prediction sets for any model for free without modification needed. This method can construct the prediction set that satisfied the following\n",
    "\n",
    "<!-- Equation -->\n",
    "$$\n",
    "1 - \\alpha \\le \\mathbb{P}(Y_{test} \\in C(X_{test})) \\le 1 - \\alpha + \\frac{1}{n+1}\n",
    "$$\n",
    "\n",
    "where,\n",
    "\n",
    "$\\alpha$ is the error rate\n",
    "\n",
    "$C(X_{test})$ is the prediction set\n",
    "\n",
    "There are 3 steps to perform this method:\n",
    "\n",
    "* Get the score $s$ (Larger scores encode worse agreement between x and y)\n",
    "* Find the quantile of the score $\\hat{q}$\n",
    "* Form the prediction set $C(X_{test}) = \\{y: s(X_{test}, y) \\le \\hat{q}\\}$"
   ]
  },
  {
   "cell_type": "markdown",
   "id": "8b63e177-491d-4320-b80b-d277d110bfd3",
   "metadata": {},
   "source": [
    "**Split the data into 3 sets (train, calibrate, test)**"
   ]
  },
  {
   "cell_type": "code",
   "execution_count": 22,
   "id": "f244f3d1-6c4d-4f6b-a06d-8180840090d5",
   "metadata": {},
   "outputs": [],
   "source": [
    "from imblearn.over_sampling import SMOTE"
   ]
  },
  {
   "cell_type": "code",
   "execution_count": 23,
   "id": "7cedfa7a-7f3b-4119-88bd-9196d8226b9e",
   "metadata": {},
   "outputs": [
    {
     "data": {
      "text/plain": [
       "(5000, 9000]     180\n",
       "(3000, 5000]     173\n",
       "(9000, 17000]     70\n",
       "<= 3000           38\n",
       "> 17000           19\n",
       "Name: TotalIncomeBin, dtype: int64"
      ]
     },
     "execution_count": 23,
     "metadata": {},
     "output_type": "execute_result"
    }
   ],
   "source": [
    "df_copy[\"TotalIncomeBin\"].value_counts()"
   ]
  },
  {
   "cell_type": "code",
   "execution_count": 24,
   "id": "22d779b8-ed6b-4f12-88ec-8c826dde7699",
   "metadata": {},
   "outputs": [],
   "source": [
    "df_encoded, encoder = encode_categorical_features(\n",
    "    df=df_copy, \n",
    "    feature_cols=[\"Gender\", \"Married\", \"Dependents\", \"Education\", \"Self_Employed\", \"Property_Area\"], \n",
    "    target_col=None\n",
    ")\n",
    "\n",
    "df_encoded[\"target\"] = df_copy[\"TotalIncomeBin\"].reset_index(drop=True)\n",
    "\n",
    "# X, y = SMOTE().fit_resample(df_encoded.drop(\"target\", axis=1), df_encoded[\"target\"])"
   ]
  },
  {
   "cell_type": "code",
   "execution_count": 25,
   "id": "bc0ebdea-2d18-4734-8ed1-6c89027eb96c",
   "metadata": {},
   "outputs": [],
   "source": [
    "# df_encoded = X.copy()\n",
    "# df_encoded[\"target\"] = y"
   ]
  },
  {
   "cell_type": "code",
   "execution_count": 26,
   "id": "be03b5d6-6d92-41b8-9767-bec1e6d9d7ea",
   "metadata": {},
   "outputs": [],
   "source": [
    "train, test = train_test_split(df_encoded, test_size=0.2, random_state=123)  # 80, 20\n",
    "train, calibrate = train_test_split(train, test_size=0.3, random_state=123)"
   ]
  },
  {
   "cell_type": "code",
   "execution_count": 27,
   "id": "6aefea5b-afdf-45a2-8ef6-d5c680f6f44d",
   "metadata": {},
   "outputs": [
    {
     "data": {
      "text/plain": [
       "((480, 15), (268, 16), (116, 16), (96, 16))"
      ]
     },
     "execution_count": 27,
     "metadata": {},
     "output_type": "execute_result"
    }
   ],
   "source": [
    "df_copy.shape, train.shape, calibrate.shape, test.shape"
   ]
  },
  {
   "cell_type": "markdown",
   "id": "f9981b0c-542e-4607-aab8-3eb9caa3f68b",
   "metadata": {},
   "source": [
    "**Training the model**"
   ]
  },
  {
   "cell_type": "code",
   "execution_count": 29,
   "id": "8778abd3-5e66-49d0-b244-fcbcfe8a1fd1",
   "metadata": {},
   "outputs": [
    {
     "data": {
      "text/plain": [
       "<catboost.core.CatBoostClassifier at 0x16e83ce50>"
      ]
     },
     "execution_count": 29,
     "metadata": {},
     "output_type": "execute_result"
    }
   ],
   "source": [
    "model = CatBoostClassifier(verbose=0)\n",
    "\n",
    "model.fit(train.drop(\"target\", axis=1), train[\"target\"])"
   ]
  },
  {
   "cell_type": "code",
   "execution_count": 30,
   "id": "89b36f65-c9e3-4e93-933a-bf9cbd5eb35d",
   "metadata": {},
   "outputs": [],
   "source": [
    "calibrate_label_index = calibrate[\"target\"].map(lambda x: list(model.classes_).index(x))"
   ]
  },
  {
   "cell_type": "markdown",
   "id": "b5b28f9d-b3eb-4199-aa25-cfca712ccb83",
   "metadata": {},
   "source": [
    "**Conformal prediction**"
   ]
  },
  {
   "cell_type": "code",
   "execution_count": 32,
   "id": "07a8bc02-141f-4837-81d3-dff8fde1b465",
   "metadata": {},
   "outputs": [],
   "source": [
    "alpha = 0.05\n",
    "n = calibrate.shape[0]\n",
    "\n",
    "scores = 1 - model.predict_proba(calibrate.drop(\"target\", axis=1))[np.arange(n), calibrate_label_index]\n",
    "q_level = np.ceil((n+1) * (1-alpha)) / n\n",
    "qhat = np.quantile(scores, q_level, method=\"higher\")"
   ]
  },
  {
   "cell_type": "code",
   "execution_count": 33,
   "id": "d239f860-cd57-4ec2-8bb2-2107861e2012",
   "metadata": {},
   "outputs": [],
   "source": [
    "prob_pred = model.predict_proba(test.drop(\"target\", axis=1))"
   ]
  },
  {
   "cell_type": "code",
   "execution_count": 34,
   "id": "abb2f3f3-2943-4cf6-92d4-68cff1f4c9dc",
   "metadata": {},
   "outputs": [
    {
     "data": {
      "text/plain": [
       "<AxesSubplot: ylabel='Count'>"
      ]
     },
     "execution_count": 34,
     "metadata": {},
     "output_type": "execute_result"
    },
    {
     "data": {
      "image/png": "[encoded data removed]",
      "text/plain": [
       "<Figure size 640x480 with 1 Axes>"
      ]
     },
     "metadata": {},
     "output_type": "display_data"
    }
   ],
   "source": [
    "sns.histplot(list(map(lambda x: len(model.classes_[x]), prob_pred >= (1-qhat))))"
   ]
  },
  {
   "cell_type": "code",
   "execution_count": 36,
   "id": "9836425a-4909-402d-a588-f8c592c6172b",
   "metadata": {},
   "outputs": [
    {
     "name": "stdout",
     "output_type": "stream",
     "text": [
      "['(3000, 5000]' '(5000, 9000]' '(9000, 17000]' '<= 3000' '> 17000']|(5000, 9000]\n",
      "['(3000, 5000]' '(5000, 9000]' '(9000, 17000]' '<= 3000' '> 17000']|(3000, 5000]\n",
      "['(3000, 5000]' '(5000, 9000]' '(9000, 17000]' '<= 3000' '> 17000']|(3000, 5000]\n",
      "['(3000, 5000]' '(5000, 9000]' '(9000, 17000]' '<= 3000' '> 17000']|(3000, 5000]\n",
      "['(3000, 5000]' '(5000, 9000]' '(9000, 17000]' '<= 3000' '> 17000']|(5000, 9000]\n",
      "['(3000, 5000]' '(5000, 9000]' '(9000, 17000]' '<= 3000' '> 17000']|(3000, 5000]\n",
      "['(3000, 5000]' '(5000, 9000]' '(9000, 17000]' '<= 3000']|<= 3000\n",
      "['(3000, 5000]' '(5000, 9000]' '(9000, 17000]' '<= 3000' '> 17000']|(3000, 5000]\n",
      "['(3000, 5000]' '(5000, 9000]' '(9000, 17000]' '<= 3000']|(5000, 9000]\n",
      "['(3000, 5000]' '(5000, 9000]' '(9000, 17000]' '<= 3000']|(5000, 9000]\n",
      "['(3000, 5000]' '(5000, 9000]' '(9000, 17000]' '<= 3000']|(5000, 9000]\n",
      "['(3000, 5000]' '(5000, 9000]' '(9000, 17000]' '<= 3000']|(3000, 5000]\n",
      "['(3000, 5000]' '(5000, 9000]' '(9000, 17000]' '<= 3000' '> 17000']|(5000, 9000]\n",
      "['(3000, 5000]' '(5000, 9000]' '(9000, 17000]' '<= 3000' '> 17000']|> 17000\n",
      "['(3000, 5000]' '(5000, 9000]' '(9000, 17000]' '<= 3000' '> 17000']|> 17000\n",
      "['(3000, 5000]' '(5000, 9000]' '(9000, 17000]' '<= 3000' '> 17000']|(3000, 5000]\n",
      "['(3000, 5000]' '(5000, 9000]' '(9000, 17000]' '<= 3000']|(5000, 9000]\n",
      "['(3000, 5000]' '(5000, 9000]' '(9000, 17000]' '<= 3000' '> 17000']|(5000, 9000]\n",
      "['(3000, 5000]' '(5000, 9000]' '(9000, 17000]' '> 17000']|(3000, 5000]\n",
      "['(3000, 5000]' '(5000, 9000]' '(9000, 17000]' '<= 3000']|(5000, 9000]\n",
      "['(3000, 5000]' '(5000, 9000]' '(9000, 17000]' '<= 3000' '> 17000']|(3000, 5000]\n",
      "['(3000, 5000]' '(5000, 9000]' '(9000, 17000]' '<= 3000' '> 17000']|<= 3000\n",
      "['(3000, 5000]' '(5000, 9000]' '(9000, 17000]' '<= 3000']|<= 3000\n",
      "['(3000, 5000]' '(5000, 9000]' '(9000, 17000]' '<= 3000' '> 17000']|(5000, 9000]\n",
      "['(3000, 5000]' '(5000, 9000]' '(9000, 17000]' '<= 3000' '> 17000']|(5000, 9000]\n",
      "['(3000, 5000]' '(5000, 9000]' '(9000, 17000]' '<= 3000']|(3000, 5000]\n",
      "['(3000, 5000]' '(5000, 9000]' '(9000, 17000]']|<= 3000\n",
      "['(3000, 5000]' '(5000, 9000]' '(9000, 17000]' '<= 3000']|<= 3000\n",
      "['(3000, 5000]' '(5000, 9000]' '(9000, 17000]' '<= 3000' '> 17000']|(3000, 5000]\n",
      "['(3000, 5000]' '(5000, 9000]' '(9000, 17000]' '<= 3000' '> 17000']|(3000, 5000]\n",
      "['(3000, 5000]' '(5000, 9000]' '(9000, 17000]' '<= 3000' '> 17000']|(5000, 9000]\n",
      "['(3000, 5000]' '(5000, 9000]']|(9000, 17000]\n",
      "['(3000, 5000]' '(5000, 9000]' '(9000, 17000]' '<= 3000' '> 17000']|(3000, 5000]\n",
      "['(3000, 5000]' '(5000, 9000]']|<= 3000\n",
      "['(3000, 5000]' '(5000, 9000]' '(9000, 17000]' '<= 3000' '> 17000']|(3000, 5000]\n",
      "['(3000, 5000]' '(5000, 9000]' '(9000, 17000]' '<= 3000' '> 17000']|(3000, 5000]\n",
      "['(3000, 5000]' '(5000, 9000]' '(9000, 17000]' '<= 3000' '> 17000']|(9000, 17000]\n",
      "['(3000, 5000]' '(5000, 9000]' '(9000, 17000]' '<= 3000' '> 17000']|(5000, 9000]\n",
      "['(3000, 5000]' '(5000, 9000]' '(9000, 17000]' '<= 3000']|(5000, 9000]\n",
      "['(3000, 5000]' '(5000, 9000]' '(9000, 17000]' '> 17000']|> 17000\n",
      "['(3000, 5000]' '(5000, 9000]' '(9000, 17000]' '<= 3000']|(3000, 5000]\n",
      "['(3000, 5000]' '(5000, 9000]' '(9000, 17000]' '<= 3000' '> 17000']|(3000, 5000]\n",
      "['(3000, 5000]' '(5000, 9000]' '(9000, 17000]' '<= 3000' '> 17000']|(3000, 5000]\n",
      "['(3000, 5000]' '(5000, 9000]' '(9000, 17000]' '<= 3000']|(5000, 9000]\n",
      "['(3000, 5000]' '(5000, 9000]' '(9000, 17000]' '<= 3000' '> 17000']|(5000, 9000]\n",
      "['(3000, 5000]' '(5000, 9000]' '(9000, 17000]' '> 17000']|(3000, 5000]\n",
      "['(3000, 5000]' '(5000, 9000]' '(9000, 17000]' '<= 3000' '> 17000']|(9000, 17000]\n",
      "['(3000, 5000]' '(5000, 9000]' '(9000, 17000]' '<= 3000' '> 17000']|(3000, 5000]\n",
      "['(3000, 5000]' '(5000, 9000]' '(9000, 17000]' '<= 3000' '> 17000']|(3000, 5000]\n",
      "['(3000, 5000]' '(5000, 9000]' '(9000, 17000]' '<= 3000' '> 17000']|(3000, 5000]\n",
      "['(3000, 5000]' '(5000, 9000]' '(9000, 17000]' '<= 3000' '> 17000']|(3000, 5000]\n",
      "['(3000, 5000]' '(5000, 9000]' '(9000, 17000]' '<= 3000']|(3000, 5000]\n",
      "['(3000, 5000]' '(5000, 9000]']|(5000, 9000]\n",
      "['(3000, 5000]' '(5000, 9000]' '(9000, 17000]' '<= 3000' '> 17000']|(9000, 17000]\n",
      "['(3000, 5000]' '(5000, 9000]' '(9000, 17000]' '<= 3000' '> 17000']|(3000, 5000]\n",
      "['(3000, 5000]' '(5000, 9000]' '(9000, 17000]' '<= 3000']|(9000, 17000]\n",
      "['(3000, 5000]' '(5000, 9000]' '(9000, 17000]' '<= 3000']|(5000, 9000]\n",
      "['(3000, 5000]' '(5000, 9000]' '(9000, 17000]' '> 17000']|(3000, 5000]\n",
      "['(3000, 5000]' '(5000, 9000]' '(9000, 17000]' '<= 3000' '> 17000']|(5000, 9000]\n",
      "['(3000, 5000]' '(5000, 9000]' '(9000, 17000]' '> 17000']|(5000, 9000]\n",
      "['(3000, 5000]' '(5000, 9000]' '(9000, 17000]' '<= 3000' '> 17000']|(5000, 9000]\n",
      "['(3000, 5000]' '(5000, 9000]' '(9000, 17000]' '<= 3000' '> 17000']|(5000, 9000]\n",
      "['(3000, 5000]' '(5000, 9000]' '(9000, 17000]' '> 17000']|(5000, 9000]\n",
      "['(3000, 5000]' '(5000, 9000]']|(5000, 9000]\n",
      "['(3000, 5000]' '(5000, 9000]']|(5000, 9000]\n",
      "['(3000, 5000]' '(5000, 9000]' '(9000, 17000]' '<= 3000' '> 17000']|(9000, 17000]\n",
      "['(3000, 5000]' '(5000, 9000]' '(9000, 17000]' '> 17000']|(5000, 9000]\n",
      "['(3000, 5000]' '(5000, 9000]' '(9000, 17000]' '<= 3000' '> 17000']|(5000, 9000]\n",
      "['(3000, 5000]' '(5000, 9000]' '(9000, 17000]' '<= 3000']|(5000, 9000]\n",
      "['(3000, 5000]' '(5000, 9000]' '(9000, 17000]' '<= 3000' '> 17000']|(3000, 5000]\n",
      "['(3000, 5000]' '(5000, 9000]' '(9000, 17000]' '<= 3000' '> 17000']|(5000, 9000]\n",
      "['(3000, 5000]' '(5000, 9000]' '(9000, 17000]' '<= 3000' '> 17000']|(3000, 5000]\n",
      "['(3000, 5000]' '(5000, 9000]' '(9000, 17000]' '<= 3000' '> 17000']|(5000, 9000]\n",
      "['(3000, 5000]' '(5000, 9000]' '(9000, 17000]' '<= 3000' '> 17000']|(5000, 9000]\n",
      "['(3000, 5000]' '(5000, 9000]' '(9000, 17000]' '<= 3000' '> 17000']|(3000, 5000]\n",
      "['(3000, 5000]' '(5000, 9000]']|(3000, 5000]\n",
      "['(3000, 5000]' '(5000, 9000]' '(9000, 17000]' '<= 3000' '> 17000']|(9000, 17000]\n",
      "['(3000, 5000]' '(5000, 9000]' '(9000, 17000]' '<= 3000' '> 17000']|(3000, 5000]\n",
      "['(3000, 5000]' '(5000, 9000]' '(9000, 17000]' '<= 3000' '> 17000']|(5000, 9000]\n",
      "['(3000, 5000]' '(5000, 9000]' '(9000, 17000]' '<= 3000']|(3000, 5000]\n",
      "['(3000, 5000]' '(5000, 9000]' '(9000, 17000]' '<= 3000' '> 17000']|(3000, 5000]\n",
      "['(3000, 5000]' '(5000, 9000]' '(9000, 17000]' '<= 3000' '> 17000']|(3000, 5000]\n",
      "['(3000, 5000]' '(5000, 9000]' '(9000, 17000]' '<= 3000']|(5000, 9000]\n",
      "['(3000, 5000]' '(5000, 9000]' '(9000, 17000]' '<= 3000' '> 17000']|(5000, 9000]\n",
      "['(3000, 5000]' '(5000, 9000]' '(9000, 17000]' '<= 3000' '> 17000']|(3000, 5000]\n",
      "['(3000, 5000]' '(5000, 9000]' '(9000, 17000]' '<= 3000']|(3000, 5000]\n",
      "['(3000, 5000]' '(5000, 9000]' '(9000, 17000]' '<= 3000' '> 17000']|(3000, 5000]\n",
      "['(3000, 5000]' '(5000, 9000]' '(9000, 17000]' '<= 3000' '> 17000']|(3000, 5000]\n",
      "['(3000, 5000]' '(5000, 9000]' '(9000, 17000]' '<= 3000']|> 17000\n",
      "['(3000, 5000]' '(5000, 9000]' '(9000, 17000]' '<= 3000' '> 17000']|(3000, 5000]\n",
      "['(3000, 5000]' '(5000, 9000]' '(9000, 17000]' '<= 3000']|(3000, 5000]\n",
      "['(3000, 5000]' '(5000, 9000]' '(9000, 17000]' '<= 3000' '> 17000']|> 17000\n",
      "['(3000, 5000]' '(5000, 9000]' '(9000, 17000]' '<= 3000']|(3000, 5000]\n",
      "['(3000, 5000]' '(5000, 9000]' '(9000, 17000]' '<= 3000' '> 17000']|(5000, 9000]\n",
      "['(3000, 5000]' '(5000, 9000]' '(9000, 17000]' '<= 3000' '> 17000']|> 17000\n",
      "['(3000, 5000]' '(5000, 9000]' '(9000, 17000]' '<= 3000' '> 17000']|(5000, 9000]\n"
     ]
    }
   ],
   "source": [
    "for i, x in enumerate(list(map(lambda x: model.classes_[x], prob_pred >= (1-qhat)))):\n",
    "    print(x, test.iloc[i, -1], sep=\"|\")"
   ]
  },
  {
   "cell_type": "markdown",
   "id": "8d4043f9-c993-48ef-9726-5576f6114449",
   "metadata": {},
   "source": [
    "# References\n",
    "\n",
    "1. [Loan Prediction w/ Various ML Models](https://www.kaggle.com/code/caesarmario/loan-prediction-w-various-ml-models/notebook)\n",
    "2. [A Gentle Introduction to Conformal Prediction and Distribution-Free Uncertainty Quantification](https://arxiv.org/abs/2107.07511)"
   ]
  },
  {
   "cell_type": "code",
   "execution_count": null,
   "id": "3db6a43c-07a1-44f8-8490-16bb9b8eedcf",
   "metadata": {},
   "outputs": [],
   "source": []
  }
 ],
 "metadata": {
  "kernelspec": {
   "display_name": "Python 3 (ipykernel)",
   "language": "python",
   "name": "python3"
  },
  "language_info": {
   "codemirror_mode": {
    "name": "ipython",
    "version": 3
   },
   "file_extension": ".py",
   "mimetype": "text/x-python",
   "name": "python",
   "nbconvert_exporter": "python",
   "pygments_lexer": "ipython3",
   "version": "3.8.11"
  },
  "toc-autonumbering": false
 },
 "nbformat": 4,
 "nbformat_minor": 5
}
