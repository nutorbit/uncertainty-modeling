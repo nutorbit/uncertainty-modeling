{
 "cells": [
  {
   "cell_type": "code",
   "execution_count": 1,
   "id": "3247bab3-23a5-4b66-a27c-b65da09c89c4",
   "metadata": {},
   "outputs": [],
   "source": [
    "import scipy\n",
    "import numpy as np\n",
    "import pandas as pd\n",
    "import seaborn as sns\n",
    "import matplotlib.pyplot as plt\n",
    "\n",
    "from typing import List, Union, Callable, Tuple, Any, Optional\n",
    "from IPython.core.interactiveshell import InteractiveShell\n",
    "\n",
    "InteractiveShell.ast_node_interactivity = \"all\""
   ]
  },
  {
   "cell_type": "markdown",
   "id": "73652af1-2b35-4d44-a6e3-f610415c47ef",
   "metadata": {},
   "source": [
    "# Introduction\n",
    "\n",
    "In many applications of Machine learning, the goal is to classify the input data into different categories or classes – e.g., predicting the cancer, recommending the product, classifying the credit default, etc. But it’s not always that we are interested in knowing the true class, also we want to know the probability of being each class as it helps to control the risk.\n",
    "\n",
    "Thus, this is important to mark that the model’s output should align with the true probability. For instance, if a classifier says there is a 20% chance of rain, then it should rain 20% of the time which is called well-calibrated.\n",
    "\n",
    "However, many Machine learning algorithms usually estimate the actual probability inaccurate, especially modern algorithms such as XGBoost, Random Forest, CatBoost, etc. This leads to predicting the wrong class. The main reason is these algorithms optimize for predicting the true class, not true probability.\n",
    "\n",
    "Consider a bank that wants to manage the risk of default in its portfolio. To achieve this, the bank may build a model for binary classification to classify whether a customer will default or not. However, relying only on the predicted class may not be enough for risk management purposes. Instead, the bank may consider using the predicted probability of default, which comes with the potential loss if the predicted probability is incorrect. This is where probability calibration comes into play.\n",
    "\n",
    "In this noteook, we will focus on building a loan approval model and demonstrate how to use probability calibration techniques to improve the performance of the model's estimates."
   ]
  },
  {
   "cell_type": "markdown",
   "id": "10d2f5d1-33c5-40b3-b0da-bfba86947698",
   "metadata": {},
   "source": [
    "# Loan approval model"
   ]
  },
  {
   "cell_type": "code",
   "execution_count": 2,
   "id": "bf468b52-9f61-4909-ad79-17ee2ed5c125",
   "metadata": {},
   "outputs": [
    {
     "data": {
      "text/html": [
       "<div>\n",
       "<style scoped>\n",
       "    .dataframe tbody tr th:only-of-type {\n",
       "        vertical-align: middle;\n",
       "    }\n",
       "\n",
       "    .dataframe tbody tr th {\n",
       "        vertical-align: top;\n",
       "    }\n",
       "\n",
       "    .dataframe thead th {\n",
       "        text-align: right;\n",
       "    }\n",
       "</style>\n",
       "<table border=\"1\" class=\"dataframe\">\n",
       "  <thead>\n",
       "    <tr style=\"text-align: right;\">\n",
       "      <th></th>\n",
       "      <th>Loan_ID</th>\n",
       "      <th>Gender</th>\n",
       "      <th>Married</th>\n",
       "      <th>Dependents</th>\n",
       "      <th>Education</th>\n",
       "      <th>Self_Employed</th>\n",
       "      <th>ApplicantIncome</th>\n",
       "      <th>CoapplicantIncome</th>\n",
       "      <th>LoanAmount</th>\n",
       "      <th>Loan_Amount_Term</th>\n",
       "      <th>Credit_History</th>\n",
       "      <th>Property_Area</th>\n",
       "      <th>Loan_Status</th>\n",
       "      <th>TotalIncome</th>\n",
       "      <th>TotalIncomeBin</th>\n",
       "      <th>ApplicantIncomeBin</th>\n",
       "      <th>MonthlyPayment</th>\n",
       "      <th>TotalPay</th>\n",
       "      <th>ExpectedProfit</th>\n",
       "    </tr>\n",
       "  </thead>\n",
       "  <tbody>\n",
       "    <tr>\n",
       "      <th>0</th>\n",
       "      <td>LP001002</td>\n",
       "      <td>Male</td>\n",
       "      <td>No</td>\n",
       "      <td>0</td>\n",
       "      <td>Graduate</td>\n",
       "      <td>No</td>\n",
       "      <td>5849</td>\n",
       "      <td>0.0</td>\n",
       "      <td>NaN</td>\n",
       "      <td>360.0</td>\n",
       "      <td>1.0</td>\n",
       "      <td>Urban</td>\n",
       "      <td>1</td>\n",
       "      <td>5849.0</td>\n",
       "      <td>(5000, 9000]</td>\n",
       "      <td>(3500, 6000]</td>\n",
       "      <td>NaN</td>\n",
       "      <td>NaN</td>\n",
       "      <td>NaN</td>\n",
       "    </tr>\n",
       "    <tr>\n",
       "      <th>1</th>\n",
       "      <td>LP001003</td>\n",
       "      <td>Male</td>\n",
       "      <td>Yes</td>\n",
       "      <td>1</td>\n",
       "      <td>Graduate</td>\n",
       "      <td>No</td>\n",
       "      <td>4583</td>\n",
       "      <td>1508.0</td>\n",
       "      <td>128.0</td>\n",
       "      <td>360.0</td>\n",
       "      <td>1.0</td>\n",
       "      <td>Rural</td>\n",
       "      <td>0</td>\n",
       "      <td>6091.0</td>\n",
       "      <td>(5000, 9000]</td>\n",
       "      <td>(3500, 6000]</td>\n",
       "      <td>767.424672</td>\n",
       "      <td>276272.881990</td>\n",
       "      <td>148272.881990</td>\n",
       "    </tr>\n",
       "    <tr>\n",
       "      <th>2</th>\n",
       "      <td>LP001005</td>\n",
       "      <td>Male</td>\n",
       "      <td>Yes</td>\n",
       "      <td>0</td>\n",
       "      <td>Graduate</td>\n",
       "      <td>Yes</td>\n",
       "      <td>3000</td>\n",
       "      <td>0.0</td>\n",
       "      <td>66.0</td>\n",
       "      <td>360.0</td>\n",
       "      <td>1.0</td>\n",
       "      <td>Urban</td>\n",
       "      <td>1</td>\n",
       "      <td>3000.0</td>\n",
       "      <td>&lt;= 3500</td>\n",
       "      <td>(2500, 3500]</td>\n",
       "      <td>395.703347</td>\n",
       "      <td>142453.204776</td>\n",
       "      <td>76453.204776</td>\n",
       "    </tr>\n",
       "    <tr>\n",
       "      <th>3</th>\n",
       "      <td>LP001006</td>\n",
       "      <td>Male</td>\n",
       "      <td>Yes</td>\n",
       "      <td>0</td>\n",
       "      <td>Not Graduate</td>\n",
       "      <td>No</td>\n",
       "      <td>2583</td>\n",
       "      <td>2358.0</td>\n",
       "      <td>120.0</td>\n",
       "      <td>360.0</td>\n",
       "      <td>1.0</td>\n",
       "      <td>Urban</td>\n",
       "      <td>1</td>\n",
       "      <td>4941.0</td>\n",
       "      <td>(3500, 5000]</td>\n",
       "      <td>(2500, 3500]</td>\n",
       "      <td>719.460630</td>\n",
       "      <td>259005.826866</td>\n",
       "      <td>139005.826866</td>\n",
       "    </tr>\n",
       "    <tr>\n",
       "      <th>4</th>\n",
       "      <td>LP001008</td>\n",
       "      <td>Male</td>\n",
       "      <td>No</td>\n",
       "      <td>0</td>\n",
       "      <td>Graduate</td>\n",
       "      <td>No</td>\n",
       "      <td>6000</td>\n",
       "      <td>0.0</td>\n",
       "      <td>141.0</td>\n",
       "      <td>360.0</td>\n",
       "      <td>1.0</td>\n",
       "      <td>Urban</td>\n",
       "      <td>1</td>\n",
       "      <td>6000.0</td>\n",
       "      <td>(5000, 9000]</td>\n",
       "      <td>(3500, 6000]</td>\n",
       "      <td>845.366240</td>\n",
       "      <td>304331.846568</td>\n",
       "      <td>163331.846568</td>\n",
       "    </tr>\n",
       "  </tbody>\n",
       "</table>\n",
       "</div>"
      ],
      "text/plain": [
       "    Loan_ID Gender Married Dependents     Education Self_Employed  \\\n",
       "0  LP001002   Male      No          0      Graduate            No   \n",
       "1  LP001003   Male     Yes          1      Graduate            No   \n",
       "2  LP001005   Male     Yes          0      Graduate           Yes   \n",
       "3  LP001006   Male     Yes          0  Not Graduate            No   \n",
       "4  LP001008   Male      No          0      Graduate            No   \n",
       "\n",
       "   ApplicantIncome  CoapplicantIncome  LoanAmount  Loan_Amount_Term  \\\n",
       "0             5849                0.0         NaN             360.0   \n",
       "1             4583             1508.0       128.0             360.0   \n",
       "2             3000                0.0        66.0             360.0   \n",
       "3             2583             2358.0       120.0             360.0   \n",
       "4             6000                0.0       141.0             360.0   \n",
       "\n",
       "   Credit_History Property_Area  Loan_Status  TotalIncome TotalIncomeBin  \\\n",
       "0             1.0         Urban            1       5849.0   (5000, 9000]   \n",
       "1             1.0         Rural            0       6091.0   (5000, 9000]   \n",
       "2             1.0         Urban            1       3000.0        <= 3500   \n",
       "3             1.0         Urban            1       4941.0   (3500, 5000]   \n",
       "4             1.0         Urban            1       6000.0   (5000, 9000]   \n",
       "\n",
       "  ApplicantIncomeBin  MonthlyPayment       TotalPay  ExpectedProfit  \n",
       "0       (3500, 6000]             NaN            NaN             NaN  \n",
       "1       (3500, 6000]      767.424672  276272.881990   148272.881990  \n",
       "2       (2500, 3500]      395.703347  142453.204776    76453.204776  \n",
       "3       (2500, 3500]      719.460630  259005.826866   139005.826866  \n",
       "4       (3500, 6000]      845.366240  304331.846568   163331.846568  "
      ]
     },
     "execution_count": 2,
     "metadata": {},
     "output_type": "execute_result"
    },
    {
     "data": {
      "text/plain": [
       "(614, 19)"
      ]
     },
     "execution_count": 2,
     "metadata": {},
     "output_type": "execute_result"
    }
   ],
   "source": [
    "df = pd.read_csv(\"../data/00_enriched_data.csv\")\n",
    "df.head()\n",
    "df.shape"
   ]
  },
  {
   "cell_type": "markdown",
   "id": "6d94c67b-d636-4a49-aa04-f6cb7af1c323",
   "metadata": {},
   "source": [
    "We get the data from Kaggle ([Loan Eligible Dataset](https://www.kaggle.com/datasets/vikasukani/loan-eligible-dataset)) which contains 12 columns. This data is about the Loan application (Mortgage) that applied to the bank and bank already provide the true label whether they approved or not.\n",
    "\n",
    "Firstly, let’s see the baseline performance by building a loan approval model."
   ]
  },
  {
   "cell_type": "code",
   "execution_count": 3,
   "id": "cb645db5-cd0f-420c-b8dd-dc1b407b5928",
   "metadata": {},
   "outputs": [],
   "source": [
    "from modeling import encode_categorical_features, encode_categorical_features_v2, encode_all, apply_encoders, rollout_result, encode_numerical_features\n",
    "\n",
    "from catboost import CatBoostClassifier\n",
    "from xgboost import XGBClassifier\n",
    "from sklearn.ensemble import RandomForestClassifier\n",
    "from sklearn.linear_model import LogisticRegression\n",
    "from sklearn.calibration import calibration_curve, CalibrationDisplay, CalibratedClassifierCV\n",
    "\n",
    "from sklearn.metrics import accuracy_score, recall_score, precision_score, classification_report, confusion_matrix, log_loss, roc_auc_score\n",
    "from sklearn.model_selection import train_test_split"
   ]
  },
  {
   "cell_type": "code",
   "execution_count": 4,
   "id": "a2bebce1-d26e-4a1a-990e-077745fe7187",
   "metadata": {},
   "outputs": [],
   "source": [
    "df_copy = df.dropna().copy()"
   ]
  },
  {
   "cell_type": "code",
   "execution_count": 5,
   "id": "c7840123-01bb-4d1a-aaa8-8ac1b54f93bc",
   "metadata": {},
   "outputs": [
    {
     "data": {
      "text/plain": [
       "((384, 19), (96, 19))"
      ]
     },
     "execution_count": 5,
     "metadata": {},
     "output_type": "execute_result"
    }
   ],
   "source": [
    "train, test = train_test_split(df_copy, test_size=0.2, random_state=123)\n",
    "train.shape, test.shape"
   ]
  },
  {
   "cell_type": "markdown",
   "id": "69af53cc-46ad-4560-be64-2cd492416f0c",
   "metadata": {},
   "source": [
    "We build the model using `CatBoostClassifier`, and the following figure shows the features that we are using and the target feature."
   ]
  },
  {
   "cell_type": "code",
   "execution_count": 6,
   "id": "2fdfdf18-0c89-45da-b5f8-f43d2b9f6919",
   "metadata": {},
   "outputs": [],
   "source": [
    "train_encoded, encoder = encode_all(\n",
    "    df=train, \n",
    "    cat_encoder_fn=encode_categorical_features, \n",
    "    num_encoder_fn=encode_numerical_features,\n",
    "    cat_features=[\n",
    "        \"Gender\", \"Married\", \"Dependents\", \"Education\", \n",
    "        \"Self_Employed\", \"Property_Area\", \"Credit_History\"\n",
    "    ],\n",
    "    num_features=[\n",
    "        \"ApplicantIncome\", \"TotalIncome\", \"LoanAmount\", \"Loan_Amount_Term\", \n",
    "        \"MonthlyPayment\",\n",
    "    ],\n",
    "    target=\"Loan_Status\"\n",
    ")"
   ]
  },
  {
   "cell_type": "code",
   "execution_count": 7,
   "id": "93eb1c1c-155c-4db0-a034-e83fc28dd345",
   "metadata": {},
   "outputs": [],
   "source": [
    "model = CatBoostClassifier(iterations=1e3, depth=5, verbose=0)\n",
    "# model = LogisticRegression()\n",
    "_ = model.fit(\n",
    "    train_encoded.drop(\"Loan_Status\", axis=1), \n",
    "    train_encoded[\"Loan_Status\"]\n",
    ")"
   ]
  },
  {
   "cell_type": "code",
   "execution_count": 8,
   "id": "d30af7e1-52f1-4e8b-80ad-a2517c20fa0e",
   "metadata": {},
   "outputs": [],
   "source": [
    "test_encoded = apply_encoders(\n",
    "    df=test,\n",
    "    encoder=encoder,\n",
    "    cat_features=[\n",
    "        \"Gender\", \"Married\", \"Dependents\", \"Education\", \n",
    "        \"Self_Employed\", \"Property_Area\", \"Credit_History\"\n",
    "    ],\n",
    "    num_features=[\n",
    "        \"ApplicantIncome\", \"TotalIncome\", \"LoanAmount\", \"Loan_Amount_Term\", \n",
    "        \"MonthlyPayment\",\n",
    "    ],\n",
    "    target=\"Loan_Status\"\n",
    ")"
   ]
  },
  {
   "cell_type": "code",
   "execution_count": 9,
   "id": "7209f316-5c80-4b9d-9ae1-b2ee86495f9b",
   "metadata": {},
   "outputs": [],
   "source": [
    "test.reset_index(drop=True, inplace=True)\n",
    "\n",
    "test[\"pred\"] = model.predict(test_encoded.drop(\"Loan_Status\", axis=1))\n",
    "test[\"pred_prob\"] = model.predict_proba(test_encoded.drop(\"Loan_Status\", axis=1))[:, 1]"
   ]
  },
  {
   "cell_type": "code",
   "execution_count": 10,
   "id": "1c371620-876f-4cf2-a909-b267c15d839f",
   "metadata": {},
   "outputs": [
    {
     "name": "stdout",
     "output_type": "stream",
     "text": [
      "Acc: 0.8125\n"
     ]
    }
   ],
   "source": [
    "print(\"Acc:\", (test[\"Loan_Status\"] == test[\"pred\"]).mean())"
   ]
  },
  {
   "cell_type": "markdown",
   "id": "72c33581-b5ed-47ad-83c5-99899fc076f9",
   "metadata": {},
   "source": [
    "The model has an accuracy of 81% **when the threshold is set to 0.5 or 50%**."
   ]
  },
  {
   "cell_type": "markdown",
   "id": "6bffd019-6c42-401a-bf98-5224088870c7",
   "metadata": {},
   "source": [
    "## Reliability diagram"
   ]
  },
  {
   "cell_type": "markdown",
   "id": "406dcb6c-8fdb-4d90-9950-d51bbf716d37",
   "metadata": {},
   "source": [
    "Reliability diagram is used to illustrate how the model performs in predicting the probability."
   ]
  },
  {
   "cell_type": "code",
   "execution_count": 11,
   "id": "db511c75-261b-4210-8271-55d1b812fd5c",
   "metadata": {},
   "outputs": [],
   "source": [
    "from utils import plot_reliability_diagram"
   ]
  },
  {
   "cell_type": "code",
   "execution_count": 12,
   "id": "8785a82e-5053-4eab-b176-c0c43eebbc1c",
   "metadata": {},
   "outputs": [
    {
     "data": {
      "text/plain": [
       "0.03548106436132334"
      ]
     },
     "execution_count": 12,
     "metadata": {},
     "output_type": "execute_result"
    },
    {
     "data": {
      "image/png": "[encoded data removed]",
      "text/plain": [
       "<Figure size 1500x500 with 2 Axes>"
      ]
     },
     "metadata": {},
     "output_type": "display_data"
    }
   ],
   "source": [
    "mse = plot_reliability_diagram(test[\"Loan_Status\"], test[\"pred_prob\"])\n",
    "mse"
   ]
  },
  {
   "cell_type": "markdown",
   "id": "319e9c1f-0b4f-4dc3-9ede-bad83561a539",
   "metadata": {},
   "source": [
    "The left figure is a **reliability diagram** which shows the relationship between the model’s predicted probability (x-axis), and the empirical probability (y-axis). The diagonal line represents the perfect calibration. Another figure is the histogram of predicted probability from the model. \n",
    "\n",
    "Miscalibration will be recognizable as a deviation from the diagonal line that represents the perfect calibration."
   ]
  },
  {
   "cell_type": "markdown",
   "id": "494a7258-4f15-463c-a42d-768cb7ecf403",
   "metadata": {},
   "source": [
    "## Log loss"
   ]
  },
  {
   "cell_type": "markdown",
   "id": "4ab67557-91dd-4114-a701-74e66a5a25d4",
   "metadata": {},
   "source": [
    "There is a metric called Log-loss or cross entropy which is used to measure the quality of the predicted probability.\n",
    "\n",
    "$$\n",
    "log\\_loss = -\\frac{1}{N}(\\sum_{pos}\\log(p_i) + \\sum_{neg}\\log(1 - p_i))\n",
    "$$\n",
    "\n",
    "It is difficult to interpret, generally use for comparison. Put it in simple way, the lower is better."
   ]
  },
  {
   "cell_type": "code",
   "execution_count": 13,
   "id": "6b814148-9eba-4742-b34a-40c7af2c0b52",
   "metadata": {},
   "outputs": [
    {
     "name": "stdout",
     "output_type": "stream",
     "text": [
      "log-loss: 0.4777084512171119\n"
     ]
    }
   ],
   "source": [
    "print(\"log-loss:\", log_loss(test[\"Loan_Status\"], test[\"pred_prob\"]))"
   ]
  },
  {
   "cell_type": "markdown",
   "id": "21c6c8f0-44c0-4f59-9268-d8fc0a8610cf",
   "metadata": {},
   "source": [
    "From the result, the current model is not well calibrated as there are some points in the graph deviate from the diagonal line. However, perfect calibration is ideal, it is not always possible to achieve, but it may be acceptable depending on the use case. Anyway, we will show that we can improve this using probability calibration technique."
   ]
  },
  {
   "cell_type": "markdown",
   "id": "ae7d42f0-4a2b-4cbf-8f57-4d3d97bf1063",
   "metadata": {},
   "source": [
    "## Introduction to Probability calibration"
   ]
  },
  {
   "cell_type": "markdown",
   "id": "e9587660-0c75-40a8-aec9-31595690b258",
   "metadata": {},
   "source": [
    "Most probability calibration techniques don’t require any modification for the model. In other word, the calibration can be done out of the box, we can apply this technique to Neural Network, Random Forest, XGBoost, or whatever models in the shelf, as long as we can access to the probability. In order to perform the probability calibration, here are the steps to do:\n",
    "\n",
    "* Train the calibrator using calibration dataset.\n",
    "* When making the prediction (calibrated probability), we need to pass the input through the model to get predicted probability, and then pass it through the calibrator to get the calibrated probability.\n",
    "\n",
    "![](../images/probability_calibration_flow.png)"
   ]
  },
  {
   "cell_type": "markdown",
   "id": "ffc89c3c-b79e-472c-9ca4-0c3360e301d2",
   "metadata": {},
   "source": [
    "In this notebook, we will focus on 2 popular techniques: Platt’s scaling, Isotonic regression."
   ]
  },
  {
   "cell_type": "markdown",
   "id": "226f136b-df42-4cad-bd63-5e313bb83890",
   "metadata": {},
   "source": [
    "### Platt's scaling"
   ]
  },
  {
   "cell_type": "markdown",
   "id": "b57d965b-28b9-4cec-94eb-9ead82a39dba",
   "metadata": {},
   "source": [
    "Platt’s scaling or Logistic regression is a technique to calibrate the probability to align with the true probability. It does this by training a Logistic regression as a calibrator, which can be mathematically represented by the following equation:\n",
    "\n",
    "$$\n",
    "P(Y|s_i) = \\frac{1}{1 + e^{-(w_1 * s_i + w_2)}}\n",
    "$$\n",
    "\n",
    "Where, $s_i$ is the score output for $i^{th}$ sample, $w_1$, $w_2$ are the weights of the logistic regression. \n",
    "\n",
    "By minimizing the following loss function (mean square error):\n",
    "$$\n",
    "\\mathbb{E}[(\\bar{P} - P(Y|s_i))^2]\n",
    "$$\n",
    "\n",
    "Where $\\bar{p}$ is the actual probability distribution."
   ]
  },
  {
   "cell_type": "markdown",
   "id": "b3c3bed5-7138-418e-8126-7d78b3a61ed4",
   "metadata": {},
   "source": [
    "### Isotonic regression"
   ]
  },
  {
   "cell_type": "markdown",
   "id": "83796ceb-bf9f-417a-9e8b-e099d11226a6",
   "metadata": {},
   "source": [
    "Unlike Platt’s scaling, Isotonic regression is a non-parametric model which doesn’t rely on any assumptions about empirical distribution of the probability. This allows it to calibrate the probability more accurate. However, one of the drawbacks is it can be overfitted easily.\n",
    "\n",
    "![](../images/isotonic_regression.png)"
   ]
  },
  {
   "cell_type": "markdown",
   "id": "1f7b8c70-7ef6-4f9a-955b-5c9ac764ba89",
   "metadata": {},
   "source": [
    "## Let's start calibrating the model"
   ]
  },
  {
   "cell_type": "markdown",
   "id": "e1c7d608-7028-4918-9fee-2ac6465ef802",
   "metadata": {},
   "source": [
    "Scikit-learn provides the module to do this for us, `CalibratedClassiferCV`. Where set the argument `method=’sigmoid’` will perform Platt’s scaling, and `method=’isotonic’` will perform Isotonic regression. We will use Isotonic regression as a calibrator."
   ]
  },
  {
   "cell_type": "code",
   "execution_count": 14,
   "id": "98a1f02c-2399-4fab-b750-8e3022762304",
   "metadata": {},
   "outputs": [
    {
     "data": {
      "text/html": [
       "<style>#sk-container-id-1 {color: black;background-color: white;}#sk-container-id-1 pre{padding: 0;}#sk-container-id-1 div.sk-toggleable {background-color: white;}#sk-container-id-1 label.sk-toggleable__label {cursor: pointer;display: block;width: 100%;margin-bottom: 0;padding: 0.3em;box-sizing: border-box;text-align: center;}#sk-container-id-1 label.sk-toggleable__label-arrow:before {content: \"▸\";float: left;margin-right: 0.25em;color: #696969;}#sk-container-id-1 label.sk-toggleable__label-arrow:hover:before {color: black;}#sk-container-id-1 div.sk-estimator:hover label.sk-toggleable__label-arrow:before {color: black;}#sk-container-id-1 div.sk-toggleable__content {max-height: 0;max-width: 0;overflow: hidden;text-align: left;background-color: #f0f8ff;}#sk-container-id-1 div.sk-toggleable__content pre {margin: 0.2em;color: black;border-radius: 0.25em;background-color: #f0f8ff;}#sk-container-id-1 input.sk-toggleable__control:checked~div.sk-toggleable__content {max-height: 200px;max-width: 100%;overflow: auto;}#sk-container-id-1 input.sk-toggleable__control:checked~label.sk-toggleable__label-arrow:before {content: \"▾\";}#sk-container-id-1 div.sk-estimator input.sk-toggleable__control:checked~label.sk-toggleable__label {background-color: #d4ebff;}#sk-container-id-1 div.sk-label input.sk-toggleable__control:checked~label.sk-toggleable__label {background-color: #d4ebff;}#sk-container-id-1 input.sk-hidden--visually {border: 0;clip: rect(1px 1px 1px 1px);clip: rect(1px, 1px, 1px, 1px);height: 1px;margin: -1px;overflow: hidden;padding: 0;position: absolute;width: 1px;}#sk-container-id-1 div.sk-estimator {font-family: monospace;background-color: #f0f8ff;border: 1px dotted black;border-radius: 0.25em;box-sizing: border-box;margin-bottom: 0.5em;}#sk-container-id-1 div.sk-estimator:hover {background-color: #d4ebff;}#sk-container-id-1 div.sk-parallel-item::after {content: \"\";width: 100%;border-bottom: 1px solid gray;flex-grow: 1;}#sk-container-id-1 div.sk-label:hover label.sk-toggleable__label {background-color: #d4ebff;}#sk-container-id-1 div.sk-serial::before {content: \"\";position: absolute;border-left: 1px solid gray;box-sizing: border-box;top: 0;bottom: 0;left: 50%;z-index: 0;}#sk-container-id-1 div.sk-serial {display: flex;flex-direction: column;align-items: center;background-color: white;padding-right: 0.2em;padding-left: 0.2em;position: relative;}#sk-container-id-1 div.sk-item {position: relative;z-index: 1;}#sk-container-id-1 div.sk-parallel {display: flex;align-items: stretch;justify-content: center;background-color: white;position: relative;}#sk-container-id-1 div.sk-item::before, #sk-container-id-1 div.sk-parallel-item::before {content: \"\";position: absolute;border-left: 1px solid gray;box-sizing: border-box;top: 0;bottom: 0;left: 50%;z-index: -1;}#sk-container-id-1 div.sk-parallel-item {display: flex;flex-direction: column;z-index: 1;position: relative;background-color: white;}#sk-container-id-1 div.sk-parallel-item:first-child::after {align-self: flex-end;width: 50%;}#sk-container-id-1 div.sk-parallel-item:last-child::after {align-self: flex-start;width: 50%;}#sk-container-id-1 div.sk-parallel-item:only-child::after {width: 0;}#sk-container-id-1 div.sk-dashed-wrapped {border: 1px dashed gray;margin: 0 0.4em 0.5em 0.4em;box-sizing: border-box;padding-bottom: 0.4em;background-color: white;}#sk-container-id-1 div.sk-label label {font-family: monospace;font-weight: bold;display: inline-block;line-height: 1.2em;}#sk-container-id-1 div.sk-label-container {text-align: center;}#sk-container-id-1 div.sk-container {/* jupyter's `normalize.less` sets `[hidden] { display: none; }` but bootstrap.min.css set `[hidden] { display: none !important; }` so we also need the `!important` here to be able to override the default hidden behavior on the sphinx rendered scikit-learn.org. See: https://github.com/scikit-learn/scikit-learn/issues/21755 */display: inline-block !important;position: relative;}#sk-container-id-1 div.sk-text-repr-fallback {display: none;}</style><div id=\"sk-container-id-1\" class=\"sk-top-container\"><div class=\"sk-text-repr-fallback\"><pre>CalibratedClassifierCV(ensemble=False,\n",
       "                       estimator=&lt;catboost.core.CatBoostClassifier object at 0x16aae93a0&gt;,\n",
       "                       method=&#x27;isotonic&#x27;)</pre><b>In a Jupyter environment, please rerun this cell to show the HTML representation or trust the notebook. <br />On GitHub, the HTML representation is unable to render, please try loading this page with nbviewer.org.</b></div><div class=\"sk-container\" hidden><div class=\"sk-item sk-dashed-wrapped\"><div class=\"sk-label-container\"><div class=\"sk-label sk-toggleable\"><input class=\"sk-toggleable__control sk-hidden--visually\" id=\"sk-estimator-id-1\" type=\"checkbox\" ><label for=\"sk-estimator-id-1\" class=\"sk-toggleable__label sk-toggleable__label-arrow\">CalibratedClassifierCV</label><div class=\"sk-toggleable__content\"><pre>CalibratedClassifierCV(ensemble=False,\n",
       "                       estimator=&lt;catboost.core.CatBoostClassifier object at 0x16aae93a0&gt;,\n",
       "                       method=&#x27;isotonic&#x27;)</pre></div></div></div><div class=\"sk-parallel\"><div class=\"sk-parallel-item\"><div class=\"sk-item\"><div class=\"sk-label-container\"><div class=\"sk-label sk-toggleable\"><input class=\"sk-toggleable__control sk-hidden--visually\" id=\"sk-estimator-id-2\" type=\"checkbox\" ><label for=\"sk-estimator-id-2\" class=\"sk-toggleable__label sk-toggleable__label-arrow\">estimator: CatBoostClassifier</label><div class=\"sk-toggleable__content\"><pre>&lt;catboost.core.CatBoostClassifier object at 0x16aae93a0&gt;</pre></div></div></div><div class=\"sk-serial\"><div class=\"sk-item\"><div class=\"sk-estimator sk-toggleable\"><input class=\"sk-toggleable__control sk-hidden--visually\" id=\"sk-estimator-id-3\" type=\"checkbox\" ><label for=\"sk-estimator-id-3\" class=\"sk-toggleable__label sk-toggleable__label-arrow\">CatBoostClassifier</label><div class=\"sk-toggleable__content\"><pre>&lt;catboost.core.CatBoostClassifier object at 0x16aae93a0&gt;</pre></div></div></div></div></div></div></div></div></div></div>"
      ],
      "text/plain": [
       "CalibratedClassifierCV(ensemble=False,\n",
       "                       estimator=<catboost.core.CatBoostClassifier object at 0x16aae93a0>,\n",
       "                       method='isotonic')"
      ]
     },
     "execution_count": 14,
     "metadata": {},
     "output_type": "execute_result"
    }
   ],
   "source": [
    "calibrated_model = CalibratedClassifierCV(model, method=\"isotonic\", ensemble=False)\n",
    "calibrated_model.fit(\n",
    "    train_encoded.drop(\"Loan_Status\", axis=1), \n",
    "    train_encoded[\"Loan_Status\"]\n",
    ")"
   ]
  },
  {
   "cell_type": "code",
   "execution_count": 15,
   "id": "5eff17d8-5dbd-42ed-94b6-c9f110374e9f",
   "metadata": {},
   "outputs": [
    {
     "data": {
      "text/plain": [
       "0.031143283424327622"
      ]
     },
     "execution_count": 15,
     "metadata": {},
     "output_type": "execute_result"
    },
    {
     "data": {
      "image/png": "[encoded data removed]",
      "text/plain": [
       "<Figure size 1500x500 with 2 Axes>"
      ]
     },
     "metadata": {},
     "output_type": "display_data"
    }
   ],
   "source": [
    "mse = plot_reliability_diagram(test[\"Loan_Status\"], calibrated_model.predict_proba(test_encoded.drop(\"Loan_Status\", axis=1))[:, 1])\n",
    "mse"
   ]
  },
  {
   "cell_type": "markdown",
   "id": "977e1708-2f72-4b65-91da-cc890375a1b3",
   "metadata": {},
   "source": [
    "This reliability diagram looks better than the non-calibrated model."
   ]
  },
  {
   "cell_type": "code",
   "execution_count": 16,
   "id": "630ab5e0-545b-467c-afd9-e29aedef664d",
   "metadata": {},
   "outputs": [],
   "source": [
    "test[\"pred_calibrated\"] = calibrated_model.predict(test_encoded.drop(\"Loan_Status\", axis=1))\n",
    "test[\"pred_calibrated_prob\"] = calibrated_model.predict_proba(test_encoded.drop(\"Loan_Status\", axis=1))[:, 1]"
   ]
  },
  {
   "cell_type": "code",
   "execution_count": 17,
   "id": "b1b1359d-056e-4542-bf6d-f26ad7d36b48",
   "metadata": {},
   "outputs": [
    {
     "name": "stdout",
     "output_type": "stream",
     "text": [
      "Acc: 0.8125\n"
     ]
    }
   ],
   "source": [
    "print(\"Acc:\", (test[\"Loan_Status\"] == test[\"pred_calibrated\"]).mean())"
   ]
  },
  {
   "cell_type": "code",
   "execution_count": 18,
   "id": "d552eccf-80a4-45cc-996e-57c59ad6fa32",
   "metadata": {},
   "outputs": [
    {
     "name": "stdout",
     "output_type": "stream",
     "text": [
      "log-loss: 0.4678476683633052\n"
     ]
    }
   ],
   "source": [
    "print(\"log-loss:\", log_loss(test[\"Loan_Status\"], test[\"pred_calibrated_prob\"]))"
   ]
  },
  {
   "cell_type": "markdown",
   "id": "40d7bd11-a743-4b33-b130-01e25749c92c",
   "metadata": {},
   "source": [
    "It shows that probability calibration helps to improve the model’s ability to predicted actual probability."
   ]
  },
  {
   "cell_type": "markdown",
   "id": "d6d53b0a-026c-41e2-b2f2-0fd5c9eb7132",
   "metadata": {},
   "source": [
    "Let's see the average accuracy at all classification thresholds."
   ]
  },
  {
   "cell_type": "markdown",
   "id": "bc5c67b6-9c06-447d-948b-6501210ca324",
   "metadata": {},
   "source": [
    "**Before calibration**"
   ]
  },
  {
   "cell_type": "code",
   "execution_count": 19,
   "id": "56c1afef-1f75-474c-9076-8d7dec317010",
   "metadata": {},
   "outputs": [
    {
     "data": {
      "text/plain": [
       "0.6854166666666666"
      ]
     },
     "execution_count": 19,
     "metadata": {},
     "output_type": "execute_result"
    }
   ],
   "source": [
    "rs = []\n",
    "for t in np.linspace(0, 1, 10):\n",
    "    pred = test[\"pred_prob\"] >= t\n",
    "    r = (test[\"Loan_Status\"] == pred).mean()\n",
    "    rs.append(r)\n",
    "    \n",
    "np.mean(rs)"
   ]
  },
  {
   "cell_type": "markdown",
   "id": "3f6fd985-2282-4a96-80dc-6c5ec1fb9a92",
   "metadata": {},
   "source": [
    "**After calibration**"
   ]
  },
  {
   "cell_type": "code",
   "execution_count": 20,
   "id": "5b571fef-844b-40ac-a224-c321a906c186",
   "metadata": {},
   "outputs": [
    {
     "data": {
      "text/plain": [
       "0.696875"
      ]
     },
     "execution_count": 20,
     "metadata": {},
     "output_type": "execute_result"
    }
   ],
   "source": [
    "rs = []\n",
    "for t in np.linspace(0, 1, 10):\n",
    "    pred = test[\"pred_calibrated_prob\"] >= t\n",
    "    r = (test[\"Loan_Status\"] == pred).mean()\n",
    "    rs.append(r)\n",
    "    \n",
    "np.mean(rs)"
   ]
  },
  {
   "cell_type": "markdown",
   "id": "8ae2c581-ad85-49e6-a056-ce936b3d5745",
   "metadata": {},
   "source": [
    "This shows that the probability calibration improves the model’s accuracy when using different classification thresholds."
   ]
  },
  {
   "cell_type": "markdown",
   "id": "83aaed31-d470-48f0-9ee9-794b801ff5f9",
   "metadata": {},
   "source": [
    "## Conclusion"
   ]
  },
  {
   "cell_type": "markdown",
   "id": "cc70cd5d-b0e9-4d0a-80dc-159214079629",
   "metadata": {},
   "source": [
    "In summary, probability calibration techniques are used to adjust the predictions of the classifier to better align with the true probability. One thing to note that probability calibration is good when we want to consider using probability, otherwise it will not help you to improve the performance of the model."
   ]
  },
  {
   "cell_type": "markdown",
   "id": "8d4043f9-c993-48ef-9726-5576f6114449",
   "metadata": {},
   "source": [
    "# References\n",
    "\n",
    "1. [Scikit-learn: Probability calibration](https://scikit-learn.org/stable/modules/calibration.html)\n",
    "2. [An introduction to calibration (part II): Platt scaling, isotonic regression, and beta calibration](https://www.abzu.ai/tech-blog/calibration-introduction-part-2/)\n",
    "3. [Why model calibration matters and how to achieve it](https://unofficialgoogledatascience.com/2021/04/why-model-calibration-matters-and-how.html)\n",
    "4. [Isotonic Regression](https://en.wikipedia.org/wiki/Isotonic_regression)\n",
    "5. [Are Model Predictions Probabilities?](https://pair.withgoogle.com/explorables/uncertainty-calibration/)\n",
    "6. [Probability calibration workshop](https://youtu.be/A1NGGV3Z4m4)"
   ]
  },
  {
   "cell_type": "code",
   "execution_count": null,
   "id": "4032abed-5a2a-482d-96d8-464d9bffb02e",
   "metadata": {},
   "outputs": [],
   "source": []
  }
 ],
 "metadata": {
  "kernelspec": {
   "display_name": "Python 3 (ipykernel)",
   "language": "python",
   "name": "python3"
  },
  "language_info": {
   "codemirror_mode": {
    "name": "ipython",
    "version": 3
   },
   "file_extension": ".py",
   "mimetype": "text/x-python",
   "name": "python",
   "nbconvert_exporter": "python",
   "pygments_lexer": "ipython3",
   "version": "3.9.6"
  },
  "toc-autonumbering": false
 },
 "nbformat": 4,
 "nbformat_minor": 5
}
