{
 "cells": [
  {
   "cell_type": "code",
   "execution_count": 1,
   "id": "3247bab3-23a5-4b66-a27c-b65da09c89c4",
   "metadata": {},
   "outputs": [],
   "source": [
    "import scipy\n",
    "import numpy as np\n",
    "import pandas as pd\n",
    "import seaborn as sns\n",
    "import matplotlib.pyplot as plt\n",
    "\n",
    "from typing import List, Union, Callable, Tuple, Any\n",
    "from IPython.core.interactiveshell import InteractiveShell\n",
    "\n",
    "InteractiveShell.ast_node_interactivity = \"all\""
   ]
  },
  {
   "cell_type": "markdown",
   "id": "73652af1-2b35-4d44-a6e3-f610415c47ef",
   "metadata": {},
   "source": [
    "# Motivation\n",
    "\n",
    "Building the model that can effectively decide whether to give a loan or not can help bank to speed up the underwriting process. As the result from [[1]](), with useful information is provided, the model can achieve high performance. However, some information such as income is not accessible at first, and bank normally asks for the proof of income which takes time during the process. As banks, they want to know this before customers provide it to them in order to improve the underwriting process.\n",
    "\n",
    "\n",
    "In practice, building the sophisticated income model is challenging due to lack of usable features, and so on. Alternatively, managaing/mitigating the uncertainty of the model at least helps bank to tradeoff between risk and profit."
   ]
  },
  {
   "cell_type": "code",
   "execution_count": 2,
   "id": "bf468b52-9f61-4909-ad79-17ee2ed5c125",
   "metadata": {},
   "outputs": [
    {
     "data": {
      "text/html": [
       "<div>\n",
       "<style scoped>\n",
       "    .dataframe tbody tr th:only-of-type {\n",
       "        vertical-align: middle;\n",
       "    }\n",
       "\n",
       "    .dataframe tbody tr th {\n",
       "        vertical-align: top;\n",
       "    }\n",
       "\n",
       "    .dataframe thead th {\n",
       "        text-align: right;\n",
       "    }\n",
       "</style>\n",
       "<table border=\"1\" class=\"dataframe\">\n",
       "  <thead>\n",
       "    <tr style=\"text-align: right;\">\n",
       "      <th></th>\n",
       "      <th>Loan_ID</th>\n",
       "      <th>Gender</th>\n",
       "      <th>Married</th>\n",
       "      <th>Dependents</th>\n",
       "      <th>Education</th>\n",
       "      <th>Self_Employed</th>\n",
       "      <th>ApplicantIncome</th>\n",
       "      <th>CoapplicantIncome</th>\n",
       "      <th>LoanAmount</th>\n",
       "      <th>Loan_Amount_Term</th>\n",
       "      <th>Credit_History</th>\n",
       "      <th>Property_Area</th>\n",
       "      <th>Loan_Status</th>\n",
       "    </tr>\n",
       "  </thead>\n",
       "  <tbody>\n",
       "    <tr>\n",
       "      <th>0</th>\n",
       "      <td>LP001002</td>\n",
       "      <td>Male</td>\n",
       "      <td>No</td>\n",
       "      <td>0</td>\n",
       "      <td>Graduate</td>\n",
       "      <td>No</td>\n",
       "      <td>5849</td>\n",
       "      <td>0.0</td>\n",
       "      <td>NaN</td>\n",
       "      <td>360.0</td>\n",
       "      <td>1.0</td>\n",
       "      <td>Urban</td>\n",
       "      <td>Y</td>\n",
       "    </tr>\n",
       "    <tr>\n",
       "      <th>1</th>\n",
       "      <td>LP001003</td>\n",
       "      <td>Male</td>\n",
       "      <td>Yes</td>\n",
       "      <td>1</td>\n",
       "      <td>Graduate</td>\n",
       "      <td>No</td>\n",
       "      <td>4583</td>\n",
       "      <td>1508.0</td>\n",
       "      <td>128.0</td>\n",
       "      <td>360.0</td>\n",
       "      <td>1.0</td>\n",
       "      <td>Rural</td>\n",
       "      <td>N</td>\n",
       "    </tr>\n",
       "    <tr>\n",
       "      <th>2</th>\n",
       "      <td>LP001005</td>\n",
       "      <td>Male</td>\n",
       "      <td>Yes</td>\n",
       "      <td>0</td>\n",
       "      <td>Graduate</td>\n",
       "      <td>Yes</td>\n",
       "      <td>3000</td>\n",
       "      <td>0.0</td>\n",
       "      <td>66.0</td>\n",
       "      <td>360.0</td>\n",
       "      <td>1.0</td>\n",
       "      <td>Urban</td>\n",
       "      <td>Y</td>\n",
       "    </tr>\n",
       "    <tr>\n",
       "      <th>3</th>\n",
       "      <td>LP001006</td>\n",
       "      <td>Male</td>\n",
       "      <td>Yes</td>\n",
       "      <td>0</td>\n",
       "      <td>Not Graduate</td>\n",
       "      <td>No</td>\n",
       "      <td>2583</td>\n",
       "      <td>2358.0</td>\n",
       "      <td>120.0</td>\n",
       "      <td>360.0</td>\n",
       "      <td>1.0</td>\n",
       "      <td>Urban</td>\n",
       "      <td>Y</td>\n",
       "    </tr>\n",
       "    <tr>\n",
       "      <th>4</th>\n",
       "      <td>LP001008</td>\n",
       "      <td>Male</td>\n",
       "      <td>No</td>\n",
       "      <td>0</td>\n",
       "      <td>Graduate</td>\n",
       "      <td>No</td>\n",
       "      <td>6000</td>\n",
       "      <td>0.0</td>\n",
       "      <td>141.0</td>\n",
       "      <td>360.0</td>\n",
       "      <td>1.0</td>\n",
       "      <td>Urban</td>\n",
       "      <td>Y</td>\n",
       "    </tr>\n",
       "  </tbody>\n",
       "</table>\n",
       "</div>"
      ],
      "text/plain": [
       "    Loan_ID Gender Married Dependents     Education Self_Employed  \\\n",
       "0  LP001002   Male      No          0      Graduate            No   \n",
       "1  LP001003   Male     Yes          1      Graduate            No   \n",
       "2  LP001005   Male     Yes          0      Graduate           Yes   \n",
       "3  LP001006   Male     Yes          0  Not Graduate            No   \n",
       "4  LP001008   Male      No          0      Graduate            No   \n",
       "\n",
       "   ApplicantIncome  CoapplicantIncome  LoanAmount  Loan_Amount_Term  \\\n",
       "0             5849                0.0         NaN             360.0   \n",
       "1             4583             1508.0       128.0             360.0   \n",
       "2             3000                0.0        66.0             360.0   \n",
       "3             2583             2358.0       120.0             360.0   \n",
       "4             6000                0.0       141.0             360.0   \n",
       "\n",
       "   Credit_History Property_Area Loan_Status  \n",
       "0             1.0         Urban           Y  \n",
       "1             1.0         Rural           N  \n",
       "2             1.0         Urban           Y  \n",
       "3             1.0         Urban           Y  \n",
       "4             1.0         Urban           Y  "
      ]
     },
     "execution_count": 2,
     "metadata": {},
     "output_type": "execute_result"
    },
    {
     "data": {
      "text/plain": [
       "(614, 13)"
      ]
     },
     "execution_count": 2,
     "metadata": {},
     "output_type": "execute_result"
    }
   ],
   "source": [
    "df = pd.read_csv(\"../data/loan-train.csv\")\n",
    "df.head()\n",
    "df.shape"
   ]
  },
  {
   "cell_type": "code",
   "execution_count": 3,
   "id": "6d26c7dc-f79b-49b6-831d-a12d018de50a",
   "metadata": {},
   "outputs": [],
   "source": [
    "df[\"Loan_Status\"] = (df[\"Loan_Status\"] == \"Y\").astype(int)"
   ]
  },
  {
   "cell_type": "markdown",
   "id": "f0038b49-fd57-4692-9517-18234fc1e73d",
   "metadata": {},
   "source": [
    "## Feature engineering"
   ]
  },
  {
   "cell_type": "markdown",
   "id": "bfa8fda3-2389-47b0-bdda-bfd73dc5df05",
   "metadata": {},
   "source": [
    "**Total income**\n",
    "\n",
    "Applicant income and Coapplicant income can determine the loan amount that customer can take."
   ]
  },
  {
   "cell_type": "code",
   "execution_count": 4,
   "id": "22ebe840-40b2-4d34-9360-99bae61d6cef",
   "metadata": {},
   "outputs": [],
   "source": [
    "df[\"TotalIncome\"] = df[\"ApplicantIncome\"] + df[\"CoapplicantIncome\"]"
   ]
  },
  {
   "cell_type": "markdown",
   "id": "eea78694-7891-45be-a22e-2034c5c7eac6",
   "metadata": {},
   "source": [
    "**Income Bin**"
   ]
  },
  {
   "cell_type": "code",
   "execution_count": 5,
   "id": "d1ce9ad0-8805-4b27-8e3e-80f437384d23",
   "metadata": {},
   "outputs": [],
   "source": [
    "total_income_bin_names = [\"<= 3500\", \"(3500, 5000]\", \"(5000, 9000]\", \"(9000, 17000]\", \"> 17000\"]\n",
    "\n",
    "df[\"TotalIncomeBin\"] = pd.cut(\n",
    "    df[\"TotalIncome\"], \n",
    "    bins=[-np.inf, 3500, 5000, 9000, 17000, np.inf],\n",
    "    labels=total_income_bin_names\n",
    ")  # .astype(str)\n",
    "\n",
    "# _ = sns.histplot(df[\"TotalIncomeBin\"])\n",
    "\n",
    "df[\"TotalIncomeBin\"] = df[\"TotalIncomeBin\"].astype(str)"
   ]
  },
  {
   "cell_type": "code",
   "execution_count": 6,
   "id": "5a70c40d-3640-404e-b021-9608e0db0e5e",
   "metadata": {},
   "outputs": [
    {
     "data": {
      "image/png": "[encoded data removed]",
      "text/plain": [
       "<Figure size 640x480 with 1 Axes>"
      ]
     },
     "metadata": {},
     "output_type": "display_data"
    }
   ],
   "source": [
    "applicant_income_bin_names = [\"<= 2500\", \"(2500, 3500]\", \"(3500, 6000]\", \"(6000, 10000]\", \"> 10000\"]\n",
    "\n",
    "df[\"ApplicantIncomeBin\"] = pd.cut(\n",
    "    df[\"ApplicantIncome\"], \n",
    "    bins=[-np.inf, 2500, 3500, 6000, 10000, np.inf],\n",
    "    labels=applicant_income_bin_names\n",
    ")  # .astype(str)\n",
    "\n",
    "_ = sns.histplot(df[\"ApplicantIncomeBin\"])\n",
    "\n",
    "df[\"ApplicantIncomeBin\"] = df[\"ApplicantIncomeBin\"].astype(str)"
   ]
  },
  {
   "cell_type": "markdown",
   "id": "d9c972a2-cbca-46c6-b829-065d1980ad26",
   "metadata": {},
   "source": [
    "**Monthly payment**[[3]]()\n",
    "\n",
    "If bank approve the loan, what is the minimum monthly payment?\n",
    "\n",
    "$$\n",
    "M = P\\frac{r(1+r)^n}{(1+r)^n - 1}\n",
    "$$\n",
    "\n",
    "Where, \n",
    "\n",
    "$M$ is the monthly payment\n",
    "\n",
    "$P$ is the mortgage amount\n",
    "\n",
    "$r$ is the monthly interest rate\n",
    "\n",
    "$n$ is the number of payment\n",
    "\n",
    "</br>"
   ]
  },
  {
   "cell_type": "code",
   "execution_count": 7,
   "id": "a880a9bd-8590-4c6d-b6fb-fe0910c84b2b",
   "metadata": {},
   "outputs": [],
   "source": [
    "def calculate_mortgage_payment_per_month(p: float, r: float = 0.06/12, n: int = 360) -> float:\n",
    "    \"\"\"\n",
    "    Calcuate the mortgage payment per month\n",
    "    \n",
    "    Args:\n",
    "        p: mortgage amount\n",
    "        r: monthly interest rate (default 6% per year)\n",
    "        n: number of payment (default 360)\n",
    "        \n",
    "    Returns:\n",
    "        monthly per month\n",
    "    \"\"\"\n",
    "    \n",
    "    numerator = r * (1 + r) ** n\n",
    "    denominator = (1 + r) ** n - 1\n",
    "    res = p * numerator / denominator\n",
    "    return res"
   ]
  },
  {
   "cell_type": "code",
   "execution_count": 8,
   "id": "1c879df9-2045-4a11-8f5d-f3de8dd66d51",
   "metadata": {},
   "outputs": [],
   "source": [
    "df[\"MonthlyPayment\"] = list(map(\n",
    "    lambda p: calculate_mortgage_payment_per_month(p * 1_000), df[\"LoanAmount\"]\n",
    "))"
   ]
  },
  {
   "cell_type": "markdown",
   "id": "e689ed48-380d-4235-96e3-295d41a6158f",
   "metadata": {},
   "source": [
    "**Expected profit**"
   ]
  },
  {
   "cell_type": "code",
   "execution_count": 9,
   "id": "52a1095c-9468-4ed5-b310-4e3858900b39",
   "metadata": {},
   "outputs": [],
   "source": [
    "df[\"TotalPay\"] = df[\"MonthlyPayment\"] * 360\n",
    "df[\"ExpectedProfit\"] = df[\"TotalPay\"] - (df[\"LoanAmount\"] * 1_000)"
   ]
  },
  {
   "cell_type": "code",
   "execution_count": 10,
   "id": "0dc8fa71-71be-4952-9a61-7268bdeeb2bb",
   "metadata": {},
   "outputs": [
    {
     "data": {
      "text/html": [
       "<div>\n",
       "<style scoped>\n",
       "    .dataframe tbody tr th:only-of-type {\n",
       "        vertical-align: middle;\n",
       "    }\n",
       "\n",
       "    .dataframe tbody tr th {\n",
       "        vertical-align: top;\n",
       "    }\n",
       "\n",
       "    .dataframe thead th {\n",
       "        text-align: right;\n",
       "    }\n",
       "</style>\n",
       "<table border=\"1\" class=\"dataframe\">\n",
       "  <thead>\n",
       "    <tr style=\"text-align: right;\">\n",
       "      <th></th>\n",
       "      <th>Loan_ID</th>\n",
       "      <th>Gender</th>\n",
       "      <th>Married</th>\n",
       "      <th>Dependents</th>\n",
       "      <th>Education</th>\n",
       "      <th>Self_Employed</th>\n",
       "      <th>ApplicantIncome</th>\n",
       "      <th>CoapplicantIncome</th>\n",
       "      <th>LoanAmount</th>\n",
       "      <th>Loan_Amount_Term</th>\n",
       "      <th>Credit_History</th>\n",
       "      <th>Property_Area</th>\n",
       "      <th>Loan_Status</th>\n",
       "      <th>TotalIncome</th>\n",
       "      <th>TotalIncomeBin</th>\n",
       "      <th>ApplicantIncomeBin</th>\n",
       "      <th>MonthlyPayment</th>\n",
       "      <th>TotalPay</th>\n",
       "      <th>ExpectedProfit</th>\n",
       "    </tr>\n",
       "  </thead>\n",
       "  <tbody>\n",
       "    <tr>\n",
       "      <th>0</th>\n",
       "      <td>LP001002</td>\n",
       "      <td>Male</td>\n",
       "      <td>No</td>\n",
       "      <td>0</td>\n",
       "      <td>Graduate</td>\n",
       "      <td>No</td>\n",
       "      <td>5849</td>\n",
       "      <td>0.0</td>\n",
       "      <td>NaN</td>\n",
       "      <td>360.0</td>\n",
       "      <td>1.0</td>\n",
       "      <td>Urban</td>\n",
       "      <td>1</td>\n",
       "      <td>5849.0</td>\n",
       "      <td>(5000, 9000]</td>\n",
       "      <td>(3500, 6000]</td>\n",
       "      <td>NaN</td>\n",
       "      <td>NaN</td>\n",
       "      <td>NaN</td>\n",
       "    </tr>\n",
       "    <tr>\n",
       "      <th>1</th>\n",
       "      <td>LP001003</td>\n",
       "      <td>Male</td>\n",
       "      <td>Yes</td>\n",
       "      <td>1</td>\n",
       "      <td>Graduate</td>\n",
       "      <td>No</td>\n",
       "      <td>4583</td>\n",
       "      <td>1508.0</td>\n",
       "      <td>128.0</td>\n",
       "      <td>360.0</td>\n",
       "      <td>1.0</td>\n",
       "      <td>Rural</td>\n",
       "      <td>0</td>\n",
       "      <td>6091.0</td>\n",
       "      <td>(5000, 9000]</td>\n",
       "      <td>(3500, 6000]</td>\n",
       "      <td>767.424672</td>\n",
       "      <td>276272.881990</td>\n",
       "      <td>148272.881990</td>\n",
       "    </tr>\n",
       "    <tr>\n",
       "      <th>2</th>\n",
       "      <td>LP001005</td>\n",
       "      <td>Male</td>\n",
       "      <td>Yes</td>\n",
       "      <td>0</td>\n",
       "      <td>Graduate</td>\n",
       "      <td>Yes</td>\n",
       "      <td>3000</td>\n",
       "      <td>0.0</td>\n",
       "      <td>66.0</td>\n",
       "      <td>360.0</td>\n",
       "      <td>1.0</td>\n",
       "      <td>Urban</td>\n",
       "      <td>1</td>\n",
       "      <td>3000.0</td>\n",
       "      <td>&lt;= 3500</td>\n",
       "      <td>(2500, 3500]</td>\n",
       "      <td>395.703347</td>\n",
       "      <td>142453.204776</td>\n",
       "      <td>76453.204776</td>\n",
       "    </tr>\n",
       "    <tr>\n",
       "      <th>3</th>\n",
       "      <td>LP001006</td>\n",
       "      <td>Male</td>\n",
       "      <td>Yes</td>\n",
       "      <td>0</td>\n",
       "      <td>Not Graduate</td>\n",
       "      <td>No</td>\n",
       "      <td>2583</td>\n",
       "      <td>2358.0</td>\n",
       "      <td>120.0</td>\n",
       "      <td>360.0</td>\n",
       "      <td>1.0</td>\n",
       "      <td>Urban</td>\n",
       "      <td>1</td>\n",
       "      <td>4941.0</td>\n",
       "      <td>(3500, 5000]</td>\n",
       "      <td>(2500, 3500]</td>\n",
       "      <td>719.460630</td>\n",
       "      <td>259005.826866</td>\n",
       "      <td>139005.826866</td>\n",
       "    </tr>\n",
       "    <tr>\n",
       "      <th>4</th>\n",
       "      <td>LP001008</td>\n",
       "      <td>Male</td>\n",
       "      <td>No</td>\n",
       "      <td>0</td>\n",
       "      <td>Graduate</td>\n",
       "      <td>No</td>\n",
       "      <td>6000</td>\n",
       "      <td>0.0</td>\n",
       "      <td>141.0</td>\n",
       "      <td>360.0</td>\n",
       "      <td>1.0</td>\n",
       "      <td>Urban</td>\n",
       "      <td>1</td>\n",
       "      <td>6000.0</td>\n",
       "      <td>(5000, 9000]</td>\n",
       "      <td>(3500, 6000]</td>\n",
       "      <td>845.366240</td>\n",
       "      <td>304331.846568</td>\n",
       "      <td>163331.846568</td>\n",
       "    </tr>\n",
       "  </tbody>\n",
       "</table>\n",
       "</div>"
      ],
      "text/plain": [
       "    Loan_ID Gender Married Dependents     Education Self_Employed  \\\n",
       "0  LP001002   Male      No          0      Graduate            No   \n",
       "1  LP001003   Male     Yes          1      Graduate            No   \n",
       "2  LP001005   Male     Yes          0      Graduate           Yes   \n",
       "3  LP001006   Male     Yes          0  Not Graduate            No   \n",
       "4  LP001008   Male      No          0      Graduate            No   \n",
       "\n",
       "   ApplicantIncome  CoapplicantIncome  LoanAmount  Loan_Amount_Term  \\\n",
       "0             5849                0.0         NaN             360.0   \n",
       "1             4583             1508.0       128.0             360.0   \n",
       "2             3000                0.0        66.0             360.0   \n",
       "3             2583             2358.0       120.0             360.0   \n",
       "4             6000                0.0       141.0             360.0   \n",
       "\n",
       "   Credit_History Property_Area  Loan_Status  TotalIncome TotalIncomeBin  \\\n",
       "0             1.0         Urban            1       5849.0   (5000, 9000]   \n",
       "1             1.0         Rural            0       6091.0   (5000, 9000]   \n",
       "2             1.0         Urban            1       3000.0        <= 3500   \n",
       "3             1.0         Urban            1       4941.0   (3500, 5000]   \n",
       "4             1.0         Urban            1       6000.0   (5000, 9000]   \n",
       "\n",
       "  ApplicantIncomeBin  MonthlyPayment       TotalPay  ExpectedProfit  \n",
       "0       (3500, 6000]             NaN            NaN             NaN  \n",
       "1       (3500, 6000]      767.424672  276272.881990   148272.881990  \n",
       "2       (2500, 3500]      395.703347  142453.204776    76453.204776  \n",
       "3       (2500, 3500]      719.460630  259005.826866   139005.826866  \n",
       "4       (3500, 6000]      845.366240  304331.846568   163331.846568  "
      ]
     },
     "execution_count": 10,
     "metadata": {},
     "output_type": "execute_result"
    }
   ],
   "source": [
    "df.head()"
   ]
  },
  {
   "cell_type": "markdown",
   "id": "fd11cc84-70b0-4c5b-8cde-a9b846b74ae9",
   "metadata": {},
   "source": [
    "## Baseline loan model\n",
    "\n",
    "Let's build the baseline for loan approval model."
   ]
  },
  {
   "cell_type": "code",
   "execution_count": 11,
   "id": "cb645db5-cd0f-420c-b8dd-dc1b407b5928",
   "metadata": {},
   "outputs": [],
   "source": [
    "from collections import namedtuple\n",
    "\n",
    "from category_encoders.target_encoder import TargetEncoder\n",
    "from sklearn.preprocessing import PowerTransformer, OneHotEncoder\n",
    "\n",
    "from catboost import CatBoostClassifier\n",
    "from xgboost import XGBClassifier\n",
    "from sklearn.ensemble import RandomForestClassifier\n",
    "from sklearn.linear_model import LogisticRegression\n",
    "from lightgbm import LGBMClassifier\n",
    "\n",
    "from sklearn.metrics import accuracy_score, recall_score, precision_score, classification_report, confusion_matrix\n",
    "from sklearn.model_selection import StratifiedKFold, train_test_split, KFold"
   ]
  },
  {
   "cell_type": "code",
   "execution_count": 12,
   "id": "8e9d984e-99ee-4f33-9476-fa965bd529ea",
   "metadata": {},
   "outputs": [],
   "source": [
    "Encoder = namedtuple(\"Encoder\", \"cat num\")"
   ]
  },
  {
   "cell_type": "code",
   "execution_count": 13,
   "id": "cd1020d6-0e12-4eda-b99c-b9361b020bd1",
   "metadata": {},
   "outputs": [],
   "source": [
    "def safe_df(df: Any, cols: List[str] = None) -> pd.DataFrame:\n",
    "    if isinstance(df, scipy.sparse._csr.csr_matrix):\n",
    "        df = df.toarray()\n",
    "    if not isinstance(df, pd.DataFrame):\n",
    "        df = pd.DataFrame(df, columns=cols)\n",
    "    return df.reset_index(drop=True)\n",
    "\n",
    "\n",
    "def encode_categorical_features(df: pd.DataFrame, feature_cols: List[str], target_col: str) -> Tuple[pd.DataFrame, ...]:\n",
    "    if not feature_cols:\n",
    "        return None, None\n",
    "    df_encoded = df.copy()\n",
    "    encoder = TargetEncoder()\n",
    "    df_encoded = encoder.fit_transform(df_encoded[feature_cols], df_encoded[target_col])\n",
    "    return safe_df(df_encoded, feature_cols), encoder\n",
    "\n",
    "\n",
    "## One-hot\n",
    "def encode_categorical_features_v2(df: pd.DataFrame, feature_cols: List[str], target_col: str = None) -> Tuple[pd.DataFrame, ...]:\n",
    "    if not feature_cols:\n",
    "        return None, None\n",
    "    df_encoded = df.copy()\n",
    "    encoder = OneHotEncoder()\n",
    "    df_encoded = encoder.fit_transform(df_encoded[feature_cols])\n",
    "    return safe_df(df_encoded), encoder\n",
    "\n",
    "\n",
    "def encode_numerical_features(df: pd.DataFrame, feature_cols: List[str]) -> Tuple[pd.DataFrame, ...]:\n",
    "    if not feature_cols:\n",
    "        return None, None\n",
    "    df_encoded = df.copy()\n",
    "    encoder = PowerTransformer()\n",
    "    df_encoded = encoder.fit_transform(df_encoded[feature_cols])\n",
    "    return safe_df(df_encoded, feature_cols), encoder\n",
    "\n",
    "\n",
    "def encode_all(\n",
    "    df: pd.DataFrame,\n",
    "    cat_encoder_fn: Callable,\n",
    "    num_encoder_fn: Callable,\n",
    "    cat_features: List[str],\n",
    "    num_features: List[str],\n",
    "    target: str\n",
    ") -> pd.DataFrame:\n",
    "    df_copy = df.reset_index(drop=True).copy()\n",
    "    \n",
    "    df_encoded_cat, cat_encoder = cat_encoder_fn(df_copy, cat_features, target)\n",
    "    df_encoded_num, num_encoder = num_encoder_fn(df_copy, num_features)\n",
    "    \n",
    "    df_encoded = pd.concat([df_encoded_cat, df_encoded_num, df_copy[[target]]], axis=1)\n",
    "    \n",
    "    return df_encoded, Encoder(cat_encoder, num_encoder)\n",
    "\n",
    "\n",
    "def apply_encoder(df: pd.DataFrame, enc: Union[TargetEncoder, PowerTransformer], feature_cols: List[str]) -> pd.DataFrame:\n",
    "    if not feature_cols:\n",
    "        return None\n",
    "    df_encoded = df.copy()\n",
    "    df_encoded = enc.transform(df_encoded[feature_cols])\n",
    "    return safe_df(df_encoded, cols=feature_cols if df_encoded.shape[1] == len(feature_cols) else None)\n",
    "\n",
    "\n",
    "def apply_encoders(\n",
    "    df: pd.DataFrame, \n",
    "    encoder: Encoder, \n",
    "    cat_features: List[str], \n",
    "    num_features: List[str], \n",
    "    target: str\n",
    ") -> pd.DataFrame:\n",
    "    df_copy = df.reset_index(drop=True).copy()\n",
    "    \n",
    "    df_encoded_cat = apply_encoder(df_copy, encoder.cat, cat_features)\n",
    "    df_encoded_num = apply_encoder(df_copy, encoder.num, num_features)\n",
    "    \n",
    "    df_encoded = pd.concat([df_encoded_cat, df_encoded_num, df_copy[[target]]], axis=1)\n",
    "    \n",
    "    return df_encoded"
   ]
  },
  {
   "cell_type": "code",
   "execution_count": 14,
   "id": "42ee6957-eb5a-4f8d-b421-e1d614ff12b0",
   "metadata": {},
   "outputs": [],
   "source": [
    "def rollout_result(\n",
    "    model_fn: Callable, \n",
    "    df: pd.DataFrame,\n",
    "    cat_features: List[str],\n",
    "    num_features: List[str],\n",
    "    target: str,\n",
    "    metric_fn: Callable = accuracy_score,\n",
    "    use_onehot: bool = False,\n",
    "    n_splits: int = 5,\n",
    "    seed: int = 123\n",
    ") -> Tuple[float, ...]:\n",
    "    \n",
    "    df_copy = df.copy()\n",
    "    \n",
    "    kf = KFold(n_splits=n_splits, shuffle=True, random_state=seed)\n",
    "    scores = []\n",
    "    models = []\n",
    "\n",
    "    for train_idx, test_idx in kf.split(df_copy):\n",
    "        train_df, test_df = df_copy.iloc[train_idx].reset_index(drop=True), df_copy.iloc[test_idx].reset_index(drop=True)\n",
    "\n",
    "        # encode training set\n",
    "        cat_encoder_fn = encode_categorical_features_v2 if use_onehot else encode_categorical_features\n",
    "        num_encoder_fn = encode_numerical_features\n",
    "        train_encoded, encoder = encode_all(train_df, cat_encoder_fn, num_encoder_fn, cat_features, num_features, target)\n",
    "\n",
    "        # train the model\n",
    "        model = model_fn()\n",
    "        _ = model.fit(train_encoded.drop(target, axis=1), train_encoded[target])\n",
    "\n",
    "        # encode testing set\n",
    "        test_encoded = apply_encoders(test_df, encoder, cat_features, num_features, target)\n",
    "        \n",
    "        # evaluate\n",
    "        pred = model.predict(test_encoded.drop(target, axis=1))\n",
    "        y_true = test_encoded[[target]]\n",
    "        \n",
    "        scores.append(metric_fn(y_true, pred))\n",
    "        models.append(model)\n",
    "\n",
    "    best_idx = np.argmax(scores)\n",
    "        \n",
    "    return np.mean(scores), models[best_idx]"
   ]
  },
  {
   "cell_type": "code",
   "execution_count": 15,
   "id": "a2bebce1-d26e-4a1a-990e-077745fe7187",
   "metadata": {},
   "outputs": [],
   "source": [
    "df_copy = df.dropna().copy()"
   ]
  },
  {
   "cell_type": "code",
   "execution_count": 16,
   "id": "6759c00f-6d05-4a06-a5ec-d01a212314e4",
   "metadata": {
    "tags": []
   },
   "outputs": [
    {
     "name": "stderr",
     "output_type": "stream",
     "text": [
      "/Users/nutorbit/Library/Caches/pypoetry/virtualenvs/uncertainty-modeling-6RgNMiVj-py3.8/lib/python3.8/site-packages/category_encoders/target_encoder.py:122: FutureWarning: Default parameter min_samples_leaf will change in version 2.6.See https://github.com/scikit-learn-contrib/category_encoders/issues/327\n",
      "  warnings.warn(\"Default parameter min_samples_leaf will change in version 2.6.\"\n",
      "/Users/nutorbit/Library/Caches/pypoetry/virtualenvs/uncertainty-modeling-6RgNMiVj-py3.8/lib/python3.8/site-packages/category_encoders/target_encoder.py:127: FutureWarning: Default parameter smoothing will change in version 2.6.See https://github.com/scikit-learn-contrib/category_encoders/issues/327\n",
      "  warnings.warn(\"Default parameter smoothing will change in version 2.6.\"\n",
      "/Users/nutorbit/Library/Caches/pypoetry/virtualenvs/uncertainty-modeling-6RgNMiVj-py3.8/lib/python3.8/site-packages/category_encoders/target_encoder.py:122: FutureWarning: Default parameter min_samples_leaf will change in version 2.6.See https://github.com/scikit-learn-contrib/category_encoders/issues/327\n",
      "  warnings.warn(\"Default parameter min_samples_leaf will change in version 2.6.\"\n",
      "/Users/nutorbit/Library/Caches/pypoetry/virtualenvs/uncertainty-modeling-6RgNMiVj-py3.8/lib/python3.8/site-packages/category_encoders/target_encoder.py:127: FutureWarning: Default parameter smoothing will change in version 2.6.See https://github.com/scikit-learn-contrib/category_encoders/issues/327\n",
      "  warnings.warn(\"Default parameter smoothing will change in version 2.6.\"\n",
      "/Users/nutorbit/Library/Caches/pypoetry/virtualenvs/uncertainty-modeling-6RgNMiVj-py3.8/lib/python3.8/site-packages/category_encoders/target_encoder.py:122: FutureWarning: Default parameter min_samples_leaf will change in version 2.6.See https://github.com/scikit-learn-contrib/category_encoders/issues/327\n",
      "  warnings.warn(\"Default parameter min_samples_leaf will change in version 2.6.\"\n",
      "/Users/nutorbit/Library/Caches/pypoetry/virtualenvs/uncertainty-modeling-6RgNMiVj-py3.8/lib/python3.8/site-packages/category_encoders/target_encoder.py:127: FutureWarning: Default parameter smoothing will change in version 2.6.See https://github.com/scikit-learn-contrib/category_encoders/issues/327\n",
      "  warnings.warn(\"Default parameter smoothing will change in version 2.6.\"\n",
      "/Users/nutorbit/Library/Caches/pypoetry/virtualenvs/uncertainty-modeling-6RgNMiVj-py3.8/lib/python3.8/site-packages/category_encoders/target_encoder.py:122: FutureWarning: Default parameter min_samples_leaf will change in version 2.6.See https://github.com/scikit-learn-contrib/category_encoders/issues/327\n",
      "  warnings.warn(\"Default parameter min_samples_leaf will change in version 2.6.\"\n",
      "/Users/nutorbit/Library/Caches/pypoetry/virtualenvs/uncertainty-modeling-6RgNMiVj-py3.8/lib/python3.8/site-packages/category_encoders/target_encoder.py:127: FutureWarning: Default parameter smoothing will change in version 2.6.See https://github.com/scikit-learn-contrib/category_encoders/issues/327\n",
      "  warnings.warn(\"Default parameter smoothing will change in version 2.6.\"\n",
      "/Users/nutorbit/Library/Caches/pypoetry/virtualenvs/uncertainty-modeling-6RgNMiVj-py3.8/lib/python3.8/site-packages/category_encoders/target_encoder.py:122: FutureWarning: Default parameter min_samples_leaf will change in version 2.6.See https://github.com/scikit-learn-contrib/category_encoders/issues/327\n",
      "  warnings.warn(\"Default parameter min_samples_leaf will change in version 2.6.\"\n",
      "/Users/nutorbit/Library/Caches/pypoetry/virtualenvs/uncertainty-modeling-6RgNMiVj-py3.8/lib/python3.8/site-packages/category_encoders/target_encoder.py:127: FutureWarning: Default parameter smoothing will change in version 2.6.See https://github.com/scikit-learn-contrib/category_encoders/issues/327\n",
      "  warnings.warn(\"Default parameter smoothing will change in version 2.6.\"\n"
     ]
    }
   ],
   "source": [
    "mean_scores, best_model = rollout_result(\n",
    "    model_fn=lambda: CatBoostClassifier(iterations=1e3, depth=5, verbose=0),\n",
    "    df=df_copy,\n",
    "    cat_features=[\n",
    "        \"Gender\", \"Married\", \"Dependents\", \"Education\", \n",
    "        \"Self_Employed\", \"Property_Area\", \"Credit_History\"\n",
    "    ],\n",
    "    num_features=[\n",
    "        \"ApplicantIncome\", \"TotalIncome\", \"LoanAmount\", \"Loan_Amount_Term\", \n",
    "        \"MonthlyPayment\",\n",
    "    ],\n",
    "    target=\"Loan_Status\"\n",
    ")"
   ]
  },
  {
   "cell_type": "code",
   "execution_count": 17,
   "id": "78bea7e3-66ac-4b49-a487-21ac8d036b01",
   "metadata": {},
   "outputs": [
    {
     "data": {
      "text/plain": [
       "0.80625"
      ]
     },
     "execution_count": 17,
     "metadata": {},
     "output_type": "execute_result"
    }
   ],
   "source": [
    "mean_scores"
   ]
  },
  {
   "cell_type": "markdown",
   "id": "56a5a914-bab3-4b7f-9b78-fe4eea5d931e",
   "metadata": {},
   "source": [
    "This shows the accuracy of the model is around 80%. However, we don't just want to know how accurate it is but we also want to know the opportunity cost when using this model."
   ]
  },
  {
   "cell_type": "code",
   "execution_count": 18,
   "id": "2fdfdf18-0c89-45da-b5f8-f43d2b9f6919",
   "metadata": {},
   "outputs": [
    {
     "name": "stderr",
     "output_type": "stream",
     "text": [
      "/Users/nutorbit/Library/Caches/pypoetry/virtualenvs/uncertainty-modeling-6RgNMiVj-py3.8/lib/python3.8/site-packages/category_encoders/target_encoder.py:122: FutureWarning: Default parameter min_samples_leaf will change in version 2.6.See https://github.com/scikit-learn-contrib/category_encoders/issues/327\n",
      "  warnings.warn(\"Default parameter min_samples_leaf will change in version 2.6.\"\n",
      "/Users/nutorbit/Library/Caches/pypoetry/virtualenvs/uncertainty-modeling-6RgNMiVj-py3.8/lib/python3.8/site-packages/category_encoders/target_encoder.py:127: FutureWarning: Default parameter smoothing will change in version 2.6.See https://github.com/scikit-learn-contrib/category_encoders/issues/327\n",
      "  warnings.warn(\"Default parameter smoothing will change in version 2.6.\"\n"
     ]
    }
   ],
   "source": [
    "train, test = train_test_split(df_copy, test_size=0.2, random_state=123)\n",
    "\n",
    "train_encoded, encoder = encode_all(\n",
    "    df=train, \n",
    "    cat_encoder_fn=encode_categorical_features, \n",
    "    num_encoder_fn=encode_numerical_features,\n",
    "    cat_features=[\n",
    "        \"Gender\", \"Married\", \"Dependents\", \"Education\", \n",
    "        \"Self_Employed\", \"Property_Area\", \"Credit_History\"\n",
    "    ],\n",
    "    num_features=[\n",
    "        \"ApplicantIncome\", \"TotalIncome\", \"LoanAmount\", \"Loan_Amount_Term\", \n",
    "        \"MonthlyPayment\",\n",
    "    ],\n",
    "    target=\"Loan_Status\"\n",
    ")"
   ]
  },
  {
   "cell_type": "code",
   "execution_count": 19,
   "id": "93eb1c1c-155c-4db0-a034-e83fc28dd345",
   "metadata": {},
   "outputs": [],
   "source": [
    "model = CatBoostClassifier(iterations=1e3, depth=5, verbose=0)\n",
    "_ = model.fit(\n",
    "    train_encoded.drop(\"Loan_Status\", axis=1), \n",
    "    train_encoded[\"Loan_Status\"]\n",
    ")"
   ]
  },
  {
   "cell_type": "code",
   "execution_count": 20,
   "id": "d30af7e1-52f1-4e8b-80ad-a2517c20fa0e",
   "metadata": {},
   "outputs": [],
   "source": [
    "test_encoded = apply_encoders(\n",
    "    df=test,\n",
    "    encoder=encoder,\n",
    "    cat_features=[\n",
    "        \"Gender\", \"Married\", \"Dependents\", \"Education\", \n",
    "        \"Self_Employed\", \"Property_Area\", \"Credit_History\"\n",
    "    ],\n",
    "    num_features=[\n",
    "        \"ApplicantIncome\", \"TotalIncome\", \"LoanAmount\", \"Loan_Amount_Term\", \n",
    "        \"MonthlyPayment\",\n",
    "    ],\n",
    "    target=\"Loan_Status\"\n",
    ")"
   ]
  },
  {
   "cell_type": "code",
   "execution_count": 21,
   "id": "259e3352-9312-4619-9392-f5906eee3953",
   "metadata": {},
   "outputs": [
    {
     "data": {
      "text/html": [
       "<div>\n",
       "<style scoped>\n",
       "    .dataframe tbody tr th:only-of-type {\n",
       "        vertical-align: middle;\n",
       "    }\n",
       "\n",
       "    .dataframe tbody tr th {\n",
       "        vertical-align: top;\n",
       "    }\n",
       "\n",
       "    .dataframe thead th {\n",
       "        text-align: right;\n",
       "    }\n",
       "</style>\n",
       "<table border=\"1\" class=\"dataframe\">\n",
       "  <thead>\n",
       "    <tr style=\"text-align: right;\">\n",
       "      <th></th>\n",
       "      <th>1</th>\n",
       "      <th>0</th>\n",
       "    </tr>\n",
       "  </thead>\n",
       "  <tbody>\n",
       "    <tr>\n",
       "      <th>1</th>\n",
       "      <td>58</td>\n",
       "      <td>2</td>\n",
       "    </tr>\n",
       "    <tr>\n",
       "      <th>0</th>\n",
       "      <td>16</td>\n",
       "      <td>20</td>\n",
       "    </tr>\n",
       "  </tbody>\n",
       "</table>\n",
       "</div>"
      ],
      "text/plain": [
       "    1   0\n",
       "1  58   2\n",
       "0  16  20"
      ]
     },
     "execution_count": 21,
     "metadata": {},
     "output_type": "execute_result"
    }
   ],
   "source": [
    "pd.DataFrame(\n",
    "    confusion_matrix(\n",
    "        test_encoded[\"Loan_Status\"],\n",
    "        model.predict(test_encoded.drop(\"Loan_Status\", axis=1)),\n",
    "        labels=[1, 0]\n",
    "    ),\n",
    "    index=[1, 0],\n",
    "    columns=[1, 0]\n",
    ")"
   ]
  },
  {
   "cell_type": "markdown",
   "id": "d72f4ad5-a906-4129-b0a9-f1ceaff308b7",
   "metadata": {},
   "source": [
    "Above table is a confusion matrix, where $i^{th}$ each row represents the actual loan status and $j^{th}$ column represents the predicted outcome. \n",
    "\n",
    "In the banking context, we don't want False Positive (FP) to be high because this means we give the loan to borrowers who might not be able to payback, which can result in an opportunity loss for the bank.\n",
    "\n",
    "**Opportunity loss = (cost of false positives * number of false positives) + (cost of false negatives * number of false negatives)**\n",
    "\n",
    "#TODO"
   ]
  },
  {
   "cell_type": "code",
   "execution_count": null,
   "id": "c1a6216b-f4b1-417c-ad08-9172a5c809e2",
   "metadata": {},
   "outputs": [],
   "source": []
  },
  {
   "cell_type": "code",
   "execution_count": null,
   "id": "4eb0e2e4-956b-4111-986d-0afb9d8bf583",
   "metadata": {},
   "outputs": [],
   "source": []
  },
  {
   "cell_type": "code",
   "execution_count": 22,
   "id": "0540a0f5-506c-440a-9213-84d2dd347c6a",
   "metadata": {},
   "outputs": [
    {
     "data": {
      "image/png": "[encoded data removed]",
      "text/plain": [
       "<Figure size 640x480 with 1 Axes>"
      ]
     },
     "metadata": {},
     "output_type": "display_data"
    }
   ],
   "source": [
    "idx = np.argsort(best_model.feature_importances_)\n",
    "_ = plt.barh(np.array(best_model.feature_names_)[idx], np.array(best_model.feature_importances_)[idx])"
   ]
  },
  {
   "cell_type": "markdown",
   "id": "511a0e96-b5bb-4275-9f76-581d078b7632",
   "metadata": {},
   "source": [
    "As the result, **ApplicantIncome** is in the top 3 important features. Let's see if we drop all income-related features out."
   ]
  },
  {
   "cell_type": "code",
   "execution_count": 23,
   "id": "7992907a-a21e-414c-b4cb-90a5790c4149",
   "metadata": {},
   "outputs": [
    {
     "name": "stderr",
     "output_type": "stream",
     "text": [
      "/Users/nutorbit/Library/Caches/pypoetry/virtualenvs/uncertainty-modeling-6RgNMiVj-py3.8/lib/python3.8/site-packages/category_encoders/target_encoder.py:122: FutureWarning: Default parameter min_samples_leaf will change in version 2.6.See https://github.com/scikit-learn-contrib/category_encoders/issues/327\n",
      "  warnings.warn(\"Default parameter min_samples_leaf will change in version 2.6.\"\n",
      "/Users/nutorbit/Library/Caches/pypoetry/virtualenvs/uncertainty-modeling-6RgNMiVj-py3.8/lib/python3.8/site-packages/category_encoders/target_encoder.py:127: FutureWarning: Default parameter smoothing will change in version 2.6.See https://github.com/scikit-learn-contrib/category_encoders/issues/327\n",
      "  warnings.warn(\"Default parameter smoothing will change in version 2.6.\"\n",
      "/Users/nutorbit/Library/Caches/pypoetry/virtualenvs/uncertainty-modeling-6RgNMiVj-py3.8/lib/python3.8/site-packages/category_encoders/target_encoder.py:122: FutureWarning: Default parameter min_samples_leaf will change in version 2.6.See https://github.com/scikit-learn-contrib/category_encoders/issues/327\n",
      "  warnings.warn(\"Default parameter min_samples_leaf will change in version 2.6.\"\n",
      "/Users/nutorbit/Library/Caches/pypoetry/virtualenvs/uncertainty-modeling-6RgNMiVj-py3.8/lib/python3.8/site-packages/category_encoders/target_encoder.py:127: FutureWarning: Default parameter smoothing will change in version 2.6.See https://github.com/scikit-learn-contrib/category_encoders/issues/327\n",
      "  warnings.warn(\"Default parameter smoothing will change in version 2.6.\"\n",
      "/Users/nutorbit/Library/Caches/pypoetry/virtualenvs/uncertainty-modeling-6RgNMiVj-py3.8/lib/python3.8/site-packages/category_encoders/target_encoder.py:122: FutureWarning: Default parameter min_samples_leaf will change in version 2.6.See https://github.com/scikit-learn-contrib/category_encoders/issues/327\n",
      "  warnings.warn(\"Default parameter min_samples_leaf will change in version 2.6.\"\n",
      "/Users/nutorbit/Library/Caches/pypoetry/virtualenvs/uncertainty-modeling-6RgNMiVj-py3.8/lib/python3.8/site-packages/category_encoders/target_encoder.py:127: FutureWarning: Default parameter smoothing will change in version 2.6.See https://github.com/scikit-learn-contrib/category_encoders/issues/327\n",
      "  warnings.warn(\"Default parameter smoothing will change in version 2.6.\"\n",
      "/Users/nutorbit/Library/Caches/pypoetry/virtualenvs/uncertainty-modeling-6RgNMiVj-py3.8/lib/python3.8/site-packages/category_encoders/target_encoder.py:122: FutureWarning: Default parameter min_samples_leaf will change in version 2.6.See https://github.com/scikit-learn-contrib/category_encoders/issues/327\n",
      "  warnings.warn(\"Default parameter min_samples_leaf will change in version 2.6.\"\n",
      "/Users/nutorbit/Library/Caches/pypoetry/virtualenvs/uncertainty-modeling-6RgNMiVj-py3.8/lib/python3.8/site-packages/category_encoders/target_encoder.py:127: FutureWarning: Default parameter smoothing will change in version 2.6.See https://github.com/scikit-learn-contrib/category_encoders/issues/327\n",
      "  warnings.warn(\"Default parameter smoothing will change in version 2.6.\"\n",
      "/Users/nutorbit/Library/Caches/pypoetry/virtualenvs/uncertainty-modeling-6RgNMiVj-py3.8/lib/python3.8/site-packages/category_encoders/target_encoder.py:122: FutureWarning: Default parameter min_samples_leaf will change in version 2.6.See https://github.com/scikit-learn-contrib/category_encoders/issues/327\n",
      "  warnings.warn(\"Default parameter min_samples_leaf will change in version 2.6.\"\n",
      "/Users/nutorbit/Library/Caches/pypoetry/virtualenvs/uncertainty-modeling-6RgNMiVj-py3.8/lib/python3.8/site-packages/category_encoders/target_encoder.py:127: FutureWarning: Default parameter smoothing will change in version 2.6.See https://github.com/scikit-learn-contrib/category_encoders/issues/327\n",
      "  warnings.warn(\"Default parameter smoothing will change in version 2.6.\"\n"
     ]
    }
   ],
   "source": [
    "mean_scores, best_model = rollout_result(\n",
    "    model_fn=lambda: CatBoostClassifier(iterations=1e3, depth=5, verbose=0),\n",
    "    df=df_copy,\n",
    "    cat_features=[\n",
    "        \"Gender\", \"Married\", \"Dependents\", \"Education\", \n",
    "        \"Self_Employed\", \"Property_Area\", \"Credit_History\"\n",
    "    ],\n",
    "    num_features=[],\n",
    "    target=\"Loan_Status\"\n",
    ")"
   ]
  },
  {
   "cell_type": "code",
   "execution_count": 24,
   "id": "14d519d3-17d8-4322-98ae-661eed89c1a1",
   "metadata": {},
   "outputs": [
    {
     "data": {
      "text/plain": [
       "0.7770833333333333"
      ]
     },
     "execution_count": 24,
     "metadata": {},
     "output_type": "execute_result"
    }
   ],
   "source": [
    "mean_scores"
   ]
  },
  {
   "cell_type": "code",
   "execution_count": 25,
   "id": "0e3c1eeb-d588-4143-98b4-d497c5254a06",
   "metadata": {},
   "outputs": [
    {
     "data": {
      "image/png": "[encoded data removed]",
      "text/plain": [
       "<Figure size 640x480 with 1 Axes>"
      ]
     },
     "metadata": {},
     "output_type": "display_data"
    }
   ],
   "source": [
    "idx = np.argsort(best_model.feature_importances_)\n",
    "_ = plt.barh(np.array(best_model.feature_names_)[idx], np.array(best_model.feature_importances_)[idx])"
   ]
  },
  {
   "cell_type": "markdown",
   "id": "00dd4a07-b70f-452d-9775-9f2bfe03cbae",
   "metadata": {},
   "source": [
    "Obviously, removing the income-related features affects the performance of the model. "
   ]
  },
  {
   "cell_type": "markdown",
   "id": "d4f27147-0a39-415a-aa84-1a2be9a9bb41",
   "metadata": {},
   "source": [
    "## Proxy Income"
   ]
  },
  {
   "cell_type": "markdown",
   "id": "1dfb41c5-650d-4468-afdb-f9cd2a30de95",
   "metadata": {},
   "source": [
    "### Quantile regression"
   ]
  },
  {
   "cell_type": "code",
   "execution_count": 26,
   "id": "4d2d071d-8444-442b-9525-99b4a80ccd16",
   "metadata": {},
   "outputs": [],
   "source": [
    "from sklearn.linear_model import QuantileRegressor\n",
    "from sklearn.metrics import mean_squared_error\n",
    "\n",
    "\n",
    "class QuantileRegression:\n",
    "    def __init__(self, q: List[float] = [0.05, 0.5, 0.95]):\n",
    "        self.q_levels = q\n",
    "        self.models = {}\n",
    "        \n",
    "    def fit(self, X, y):\n",
    "        for q in self.q_levels:\n",
    "            self.models[q] = QuantileRegressor(quantile=q)\n",
    "            self.models[q].fit(X, y)\n",
    "\n",
    "    def predict(self, X, median=True) -> np.ndarray:\n",
    "        preds = []\n",
    "        for q in self.q_levels:\n",
    "            pred = self.models[q].predict(X)\n",
    "            preds.append(pred.reshape((-1, 1)))\n",
    "        preds = np.concatenate(preds, axis=1)\n",
    "        return preds[:, 1] if median else preds"
   ]
  },
  {
   "cell_type": "code",
   "execution_count": 27,
   "id": "cc4e8e57-ac4d-4d36-b9ea-f49878eeffd4",
   "metadata": {},
   "outputs": [
    {
     "name": "stderr",
     "output_type": "stream",
     "text": [
      "/Users/nutorbit/Library/Caches/pypoetry/virtualenvs/uncertainty-modeling-6RgNMiVj-py3.8/lib/python3.8/site-packages/category_encoders/target_encoder.py:122: FutureWarning: Default parameter min_samples_leaf will change in version 2.6.See https://github.com/scikit-learn-contrib/category_encoders/issues/327\n",
      "  warnings.warn(\"Default parameter min_samples_leaf will change in version 2.6.\"\n",
      "/Users/nutorbit/Library/Caches/pypoetry/virtualenvs/uncertainty-modeling-6RgNMiVj-py3.8/lib/python3.8/site-packages/category_encoders/target_encoder.py:127: FutureWarning: Default parameter smoothing will change in version 2.6.See https://github.com/scikit-learn-contrib/category_encoders/issues/327\n",
      "  warnings.warn(\"Default parameter smoothing will change in version 2.6.\"\n"
     ]
    }
   ],
   "source": [
    "train, test = train_test_split(df_copy, test_size=0.2, random_state=123)    \n",
    "\n",
    "train_encoded, encoder = encode_categorical_features(\n",
    "    train, \n",
    "    [\"Gender\", \"Married\", \"Dependents\", \"Education\", \"Self_Employed\", \"Property_Area\"], \n",
    "    \"ApplicantIncome\"\n",
    ")\n",
    "\n",
    "train_encoded[\"target\"] = train[\"ApplicantIncome\"].reset_index(drop=True)"
   ]
  },
  {
   "cell_type": "code",
   "execution_count": 28,
   "id": "ed9f3c2a-0000-4f29-a746-32a7b229d129",
   "metadata": {},
   "outputs": [
    {
     "name": "stderr",
     "output_type": "stream",
     "text": [
      "/Users/nutorbit/Library/Caches/pypoetry/virtualenvs/uncertainty-modeling-6RgNMiVj-py3.8/lib/python3.8/site-packages/sklearn/linear_model/_quantile.py:186: FutureWarning: The default solver will change from 'interior-point' to 'highs' in version 1.4. Set `solver='highs'` or to the desired solver to silence this warning.\n",
      "  warnings.warn(\n",
      "/Users/nutorbit/Library/Caches/pypoetry/virtualenvs/uncertainty-modeling-6RgNMiVj-py3.8/lib/python3.8/site-packages/sklearn/linear_model/_quantile.py:186: FutureWarning: The default solver will change from 'interior-point' to 'highs' in version 1.4. Set `solver='highs'` or to the desired solver to silence this warning.\n",
      "  warnings.warn(\n",
      "/Users/nutorbit/Library/Caches/pypoetry/virtualenvs/uncertainty-modeling-6RgNMiVj-py3.8/lib/python3.8/site-packages/sklearn/linear_model/_quantile.py:295: ConvergenceWarning: Linear programming for QuantileRegressor did not succeed.\n",
      "Status is 4: Numerical difficulties encountered.\n",
      "Result message of linprog:\n",
      "The solution does not satisfy the constraints within the required tolerance of 3.16E-04, yet no errors were raised and there is no certificate of infeasibility or unboundedness. Check whether the slack and constraint residuals are acceptable; if not, consider enabling presolve, adjusting the tolerance option(s), and/or using a different method. Please consider submitting a bug report.\n",
      "  warnings.warn(\n",
      "/Users/nutorbit/Library/Caches/pypoetry/virtualenvs/uncertainty-modeling-6RgNMiVj-py3.8/lib/python3.8/site-packages/sklearn/linear_model/_quantile.py:186: FutureWarning: The default solver will change from 'interior-point' to 'highs' in version 1.4. Set `solver='highs'` or to the desired solver to silence this warning.\n",
      "  warnings.warn(\n"
     ]
    }
   ],
   "source": [
    "model = QuantileRegression()\n",
    "model.fit(\n",
    "    train_encoded.drop(\"target\", axis=1), \n",
    "    train_encoded[\"target\"]\n",
    ")"
   ]
  },
  {
   "cell_type": "code",
   "execution_count": 29,
   "id": "c396fa55-553d-4390-a86b-a3e93b6e2328",
   "metadata": {},
   "outputs": [],
   "source": [
    "test_encoded = apply_encoder(test, encoder, [\"Gender\", \"Married\", \"Dependents\", \"Education\", \"Self_Employed\", \"Property_Area\"])\n",
    "\n",
    "test_encoded[\"target\"] = test[\"ApplicantIncome\"].reset_index(drop=True)"
   ]
  },
  {
   "cell_type": "code",
   "execution_count": 30,
   "id": "3e175230-b0c9-4ba1-aa90-43841ae906b8",
   "metadata": {},
   "outputs": [],
   "source": [
    "pred = model.predict(test_encoded.drop(\"target\", axis=1), False)"
   ]
  },
  {
   "cell_type": "code",
   "execution_count": 31,
   "id": "0a48b6a9-f686-497a-ac7c-3c92acaf48d3",
   "metadata": {},
   "outputs": [
    {
     "data": {
      "image/png": "[encoded data removed]",
      "text/plain": [
       "<Figure size 640x480 with 1 Axes>"
      ]
     },
     "metadata": {},
     "output_type": "display_data"
    }
   ],
   "source": [
    "_ = plt.plot(test_encoded[\"target\"], label=\"actual\")\n",
    "_ = plt.plot(pred[:, 0], label=\"lower bound\")\n",
    "_ = plt.plot(pred[:, 1], label=\"prediction\")\n",
    "_ = plt.plot(pred[:, 2], label=\"upper bound\")\n",
    "_ = plt.legend()"
   ]
  },
  {
   "cell_type": "markdown",
   "id": "e4fca20d-1f2b-4a9b-bee1-915aef04534a",
   "metadata": {},
   "source": [
    "### Conformal prediction\n",
    "\n",
    "Conformal prediction [[2]]() is a way to generate prediction sets for any model for free without modification needed. This method can construct the prediction set that satisfies the following\n",
    "\n",
    "<!-- Equation -->\n",
    "$$\n",
    "1 - \\alpha \\le \\mathbb{P}(Y_{test} \\in C(X_{test})) \\le 1 - \\alpha + \\frac{1}{n+1}\n",
    "$$\n",
    "\n",
    "where,\n",
    "\n",
    "$\\alpha$ is the error rate\n",
    "\n",
    "$C(X_{test})$ is the prediction set\n",
    "\n",
    "There are 3 steps to perform this method:\n",
    "\n",
    "* Get the score $s$ (Larger scores encode worse agreement between x and y)\n",
    "* Find the quantile of the score $\\hat{q}$\n",
    "* Form the prediction set $C(X_{test}) = \\{y: s(X_{test}, y) \\le \\hat{q}\\}$"
   ]
  },
  {
   "cell_type": "code",
   "execution_count": 32,
   "id": "cd997cdc-1e51-4053-a260-5f04b2c67beb",
   "metadata": {},
   "outputs": [],
   "source": [
    "mean_scores, best_model = rollout_result(\n",
    "    model_fn=lambda: CatBoostClassifier(iterations=1e3, depth=5, verbose=0),\n",
    "    df=df_copy,\n",
    "    cat_features=[\"Gender\", \"Married\", \"Dependents\", \"Education\", \"Self_Employed\", \"Property_Area\"],\n",
    "    num_features=[],\n",
    "    target=\"ApplicantIncomeBin\",\n",
    "    use_onehot=True\n",
    ")"
   ]
  },
  {
   "cell_type": "code",
   "execution_count": 33,
   "id": "55ea96c9-a62c-4a51-8524-1d8f795909ea",
   "metadata": {},
   "outputs": [
    {
     "data": {
      "text/plain": [
       "0.3041666666666667"
      ]
     },
     "execution_count": 33,
     "metadata": {},
     "output_type": "execute_result"
    }
   ],
   "source": [
    "mean_scores"
   ]
  },
  {
   "cell_type": "code",
   "execution_count": 34,
   "id": "9b9e3554-58eb-4464-95c7-f569aa27dd60",
   "metadata": {},
   "outputs": [],
   "source": [
    "train, test = train_test_split(df_copy, test_size=0.2, random_state=123)\n",
    "\n",
    "train_encoded, encoder = encode_categorical_features_v2(\n",
    "    train, \n",
    "    [\"Gender\", \"Married\", \"Dependents\", \"Education\", \"Self_Employed\", \"Property_Area\"]\n",
    ")\n",
    "\n",
    "train_encoded[\"target\"] = train[\"ApplicantIncomeBin\"].reset_index(drop=True)"
   ]
  },
  {
   "cell_type": "code",
   "execution_count": 35,
   "id": "e167eb03-c32b-4f32-86d1-b587fab7d31b",
   "metadata": {},
   "outputs": [
    {
     "data": {
      "text/plain": [
       "<catboost.core.CatBoostClassifier at 0x16e265fd0>"
      ]
     },
     "execution_count": 35,
     "metadata": {},
     "output_type": "execute_result"
    }
   ],
   "source": [
    "model = CatBoostClassifier(iterations=1e3, depth=5, verbose=0)\n",
    "model.fit(\n",
    "    train_encoded.drop(\"target\", axis=1), \n",
    "    train_encoded[\"target\"]\n",
    ")"
   ]
  },
  {
   "cell_type": "code",
   "execution_count": 36,
   "id": "1ede4ff6-50e6-4daf-9d54-01d4a96ca6c1",
   "metadata": {},
   "outputs": [],
   "source": [
    "test_encoded = apply_encoder(test, encoder, [\"Gender\", \"Married\", \"Dependents\", \"Education\", \"Self_Employed\", \"Property_Area\"])\n",
    "\n",
    "test_encoded[\"target\"] = test[\"ApplicantIncomeBin\"].reset_index(drop=True)"
   ]
  },
  {
   "cell_type": "code",
   "execution_count": 37,
   "id": "1433d352-19fa-4a45-b157-a880678c9fc7",
   "metadata": {},
   "outputs": [
    {
     "name": "stdout",
     "output_type": "stream",
     "text": [
      "               precision    recall  f1-score   support\n",
      "\n",
      "      <= 2500       0.14      0.07      0.10        14\n",
      " (2500, 3500]       0.16      0.28      0.20        18\n",
      " (3500, 6000]       0.37      0.37      0.37        41\n",
      "(6000, 10000]       0.08      0.08      0.08        13\n",
      "      > 10000       0.25      0.10      0.14        10\n",
      "\n",
      "     accuracy                           0.24        96\n",
      "    macro avg       0.20      0.18      0.18        96\n",
      " weighted avg       0.24      0.24      0.23        96\n",
      "\n"
     ]
    }
   ],
   "source": [
    "print(\n",
    "    classification_report(\n",
    "        test_encoded[\"target\"],\n",
    "        model.predict(test_encoded.drop(\"target\", axis=1)),\n",
    "        labels=applicant_income_bin_names\n",
    "    )\n",
    ")"
   ]
  },
  {
   "cell_type": "code",
   "execution_count": 38,
   "id": "ab0cbfa5-04da-4700-81d5-4cfb8ed84625",
   "metadata": {},
   "outputs": [
    {
     "data": {
      "text/html": [
       "<div>\n",
       "<style scoped>\n",
       "    .dataframe tbody tr th:only-of-type {\n",
       "        vertical-align: middle;\n",
       "    }\n",
       "\n",
       "    .dataframe tbody tr th {\n",
       "        vertical-align: top;\n",
       "    }\n",
       "\n",
       "    .dataframe thead th {\n",
       "        text-align: right;\n",
       "    }\n",
       "</style>\n",
       "<table border=\"1\" class=\"dataframe\">\n",
       "  <thead>\n",
       "    <tr style=\"text-align: right;\">\n",
       "      <th></th>\n",
       "      <th>&lt;= 2500</th>\n",
       "      <th>(2500, 3500]</th>\n",
       "      <th>(3500, 6000]</th>\n",
       "      <th>(6000, 10000]</th>\n",
       "      <th>&gt; 10000</th>\n",
       "    </tr>\n",
       "  </thead>\n",
       "  <tbody>\n",
       "    <tr>\n",
       "      <th>&lt;= 2500</th>\n",
       "      <td>1</td>\n",
       "      <td>5</td>\n",
       "      <td>5</td>\n",
       "      <td>3</td>\n",
       "      <td>0</td>\n",
       "    </tr>\n",
       "    <tr>\n",
       "      <th>(2500, 3500]</th>\n",
       "      <td>3</td>\n",
       "      <td>5</td>\n",
       "      <td>9</td>\n",
       "      <td>1</td>\n",
       "      <td>0</td>\n",
       "    </tr>\n",
       "    <tr>\n",
       "      <th>(3500, 6000]</th>\n",
       "      <td>3</td>\n",
       "      <td>15</td>\n",
       "      <td>15</td>\n",
       "      <td>6</td>\n",
       "      <td>2</td>\n",
       "    </tr>\n",
       "    <tr>\n",
       "      <th>(6000, 10000]</th>\n",
       "      <td>0</td>\n",
       "      <td>2</td>\n",
       "      <td>9</td>\n",
       "      <td>1</td>\n",
       "      <td>1</td>\n",
       "    </tr>\n",
       "    <tr>\n",
       "      <th>&gt; 10000</th>\n",
       "      <td>0</td>\n",
       "      <td>5</td>\n",
       "      <td>3</td>\n",
       "      <td>1</td>\n",
       "      <td>1</td>\n",
       "    </tr>\n",
       "  </tbody>\n",
       "</table>\n",
       "</div>"
      ],
      "text/plain": [
       "               <= 2500  (2500, 3500]  (3500, 6000]  (6000, 10000]  > 10000\n",
       "<= 2500              1             5             5              3        0\n",
       "(2500, 3500]         3             5             9              1        0\n",
       "(3500, 6000]         3            15            15              6        2\n",
       "(6000, 10000]        0             2             9              1        1\n",
       "> 10000              0             5             3              1        1"
      ]
     },
     "execution_count": 38,
     "metadata": {},
     "output_type": "execute_result"
    }
   ],
   "source": [
    "pd.DataFrame(\n",
    "    confusion_matrix(\n",
    "        test_encoded[\"target\"],\n",
    "        model.predict(test_encoded.drop(\"target\", axis=1)),\n",
    "        labels=applicant_income_bin_names\n",
    "    ),\n",
    "    index=applicant_income_bin_names,\n",
    "    columns=applicant_income_bin_names\n",
    ")"
   ]
  },
  {
   "cell_type": "markdown",
   "id": "7ba25660-4694-4c63-a6a3-58cdf3728074",
   "metadata": {},
   "source": [
    "Each $i^{th}$ row represents the true label while each $j^{th}$ column represents the prediction.\n",
    "\n",
    "From this confusion matrix, we can interpret the result in terms of overprediction and underprediction. Where, the overprediction for class $i^{th}$ will be any $j^{th} > i^{th}$. Inversely, underprediction for class $i^{th}$ will be any $j^{th} < i^{th}$.\n",
    "\n",
    "Bank will take lower risk for underprediction as we estimate their income less than what actually is. However, we lost the opportunity to gain more profit."
   ]
  },
  {
   "cell_type": "markdown",
   "id": "8b63e177-491d-4320-b80b-d277d110bfd3",
   "metadata": {},
   "source": [
    "**Split the data into 3 sets (train, calibrate, test)**"
   ]
  },
  {
   "cell_type": "code",
   "execution_count": 39,
   "id": "f244f3d1-6c4d-4f6b-a06d-8180840090d5",
   "metadata": {},
   "outputs": [],
   "source": [
    "from imblearn.over_sampling import SMOTE"
   ]
  },
  {
   "cell_type": "code",
   "execution_count": 40,
   "id": "7cedfa7a-7f3b-4119-88bd-9196d8226b9e",
   "metadata": {},
   "outputs": [
    {
     "data": {
      "text/plain": [
       "(3500, 6000]     164\n",
       "(2500, 3500]     121\n",
       "<= 2500           83\n",
       "(6000, 10000]     71\n",
       "> 10000           41\n",
       "Name: ApplicantIncomeBin, dtype: int64"
      ]
     },
     "execution_count": 40,
     "metadata": {},
     "output_type": "execute_result"
    }
   ],
   "source": [
    "df_copy[\"ApplicantIncomeBin\"].value_counts()"
   ]
  },
  {
   "cell_type": "code",
   "execution_count": 41,
   "id": "22d779b8-ed6b-4f12-88ec-8c826dde7699",
   "metadata": {},
   "outputs": [],
   "source": [
    "df_encoded, encoder = encode_categorical_features_v2(\n",
    "    df=df_copy, \n",
    "    feature_cols=[\"Gender\", \"Married\", \"Dependents\", \"Education\", \"Self_Employed\", \"Property_Area\"], \n",
    "    target_col=None\n",
    ")\n",
    "\n",
    "df_encoded[\"target\"] = df_copy[\"ApplicantIncomeBin\"].reset_index(drop=True)\n",
    "\n",
    "# X, y = SMOTE().fit_resample(df_encoded.drop(\"target\", axis=1), df_encoded[\"target\"])"
   ]
  },
  {
   "cell_type": "code",
   "execution_count": 42,
   "id": "bc0ebdea-2d18-4734-8ed1-6c89027eb96c",
   "metadata": {},
   "outputs": [],
   "source": [
    "# df_encoded = X.copy()\n",
    "# df_encoded[\"target\"] = y"
   ]
  },
  {
   "cell_type": "code",
   "execution_count": 43,
   "id": "be03b5d6-6d92-41b8-9767-bec1e6d9d7ea",
   "metadata": {},
   "outputs": [],
   "source": [
    "train, test = train_test_split(df_encoded, test_size=0.2, random_state=123)  # 80, 20\n",
    "train, calibrate = train_test_split(train, test_size=0.3, random_state=123)"
   ]
  },
  {
   "cell_type": "code",
   "execution_count": 44,
   "id": "6aefea5b-afdf-45a2-8ef6-d5c680f6f44d",
   "metadata": {},
   "outputs": [
    {
     "data": {
      "text/plain": [
       "((480, 19), (268, 16), (116, 16), (96, 16))"
      ]
     },
     "execution_count": 44,
     "metadata": {},
     "output_type": "execute_result"
    }
   ],
   "source": [
    "df_copy.shape, train.shape, calibrate.shape, test.shape"
   ]
  },
  {
   "cell_type": "markdown",
   "id": "f9981b0c-542e-4607-aab8-3eb9caa3f68b",
   "metadata": {},
   "source": [
    "**Training the model**"
   ]
  },
  {
   "cell_type": "code",
   "execution_count": 45,
   "id": "8778abd3-5e66-49d0-b244-fcbcfe8a1fd1",
   "metadata": {},
   "outputs": [
    {
     "data": {
      "text/plain": [
       "<catboost.core.CatBoostClassifier at 0x280acc700>"
      ]
     },
     "execution_count": 45,
     "metadata": {},
     "output_type": "execute_result"
    }
   ],
   "source": [
    "model = CatBoostClassifier(verbose=0)\n",
    "\n",
    "model.fit(train.drop(\"target\", axis=1), train[\"target\"])"
   ]
  },
  {
   "cell_type": "code",
   "execution_count": 46,
   "id": "89b36f65-c9e3-4e93-933a-bf9cbd5eb35d",
   "metadata": {},
   "outputs": [],
   "source": [
    "calibrate_label_index = calibrate[\"target\"].map(lambda x: list(model.classes_).index(x))"
   ]
  },
  {
   "cell_type": "markdown",
   "id": "b5b28f9d-b3eb-4199-aa25-cfca712ccb83",
   "metadata": {},
   "source": [
    "**Conformal prediction**"
   ]
  },
  {
   "cell_type": "code",
   "execution_count": 47,
   "id": "07a8bc02-141f-4837-81d3-dff8fde1b465",
   "metadata": {},
   "outputs": [],
   "source": [
    "alpha = 0.1\n",
    "n = calibrate.shape[0]\n",
    "\n",
    "scores = 1 - model.predict_proba(calibrate.drop(\"target\", axis=1))[np.arange(n), calibrate_label_index]\n",
    "q_level = np.ceil((n+1) * (1-alpha)) / n\n",
    "qhat = np.quantile(scores, q_level, method=\"higher\")"
   ]
  },
  {
   "cell_type": "code",
   "execution_count": 48,
   "id": "d239f860-cd57-4ec2-8bb2-2107861e2012",
   "metadata": {},
   "outputs": [],
   "source": [
    "prob_pred = model.predict_proba(test.drop(\"target\", axis=1))"
   ]
  },
  {
   "cell_type": "code",
   "execution_count": 49,
   "id": "abb2f3f3-2943-4cf6-92d4-68cff1f4c9dc",
   "metadata": {},
   "outputs": [
    {
     "data": {
      "text/plain": [
       "<AxesSubplot: ylabel='Count'>"
      ]
     },
     "execution_count": 49,
     "metadata": {},
     "output_type": "execute_result"
    },
    {
     "data": {
      "image/png": "[encoded data removed]",
      "text/plain": [
       "<Figure size 640x480 with 1 Axes>"
      ]
     },
     "metadata": {},
     "output_type": "display_data"
    }
   ],
   "source": [
    "sns.histplot(list(map(lambda x: len(model.classes_[x]), prob_pred >= (1-qhat))))"
   ]
  },
  {
   "cell_type": "code",
   "execution_count": 50,
   "id": "a993c523-f8af-4203-9da9-ac31c382935e",
   "metadata": {},
   "outputs": [],
   "source": [
    "from pprint import pprint"
   ]
  },
  {
   "cell_type": "code",
   "execution_count": 51,
   "id": "9836425a-4909-402d-a588-f8c592c6172b",
   "metadata": {},
   "outputs": [
    {
     "name": "stdout",
     "output_type": "stream",
     "text": [
      "['(2500, 3500]' '(6000, 10000]' '<= 2500' '> 10000']|(3500, 6000]\n",
      "['(2500, 3500]' '(3500, 6000]' '(6000, 10000]' '> 10000']|(3500, 6000]\n",
      "['(2500, 3500]' '(3500, 6000]' '(6000, 10000]' '<= 2500']|<= 2500\n",
      "['(2500, 3500]' '(3500, 6000]' '(6000, 10000]' '<= 2500']|<= 2500\n",
      "['(2500, 3500]' '(3500, 6000]' '(6000, 10000]' '<= 2500' '> 10000']|(6000, 10000]\n",
      "['(2500, 3500]' '(3500, 6000]' '(6000, 10000]' '> 10000']|<= 2500\n",
      "['(2500, 3500]' '(3500, 6000]' '(6000, 10000]']|<= 2500\n",
      "['(2500, 3500]' '(3500, 6000]' '(6000, 10000]' '<= 2500' '> 10000']|<= 2500\n",
      "['(2500, 3500]' '(3500, 6000]' '(6000, 10000]' '<= 2500' '> 10000']|(3500, 6000]\n",
      "['(2500, 3500]' '(3500, 6000]' '(6000, 10000]']|(3500, 6000]\n",
      "['(2500, 3500]' '(3500, 6000]' '(6000, 10000]' '<= 2500' '> 10000']|(3500, 6000]\n",
      "['(2500, 3500]' '(3500, 6000]' '(6000, 10000]']|(3500, 6000]\n",
      "['(2500, 3500]' '(3500, 6000]' '(6000, 10000]' '<= 2500' '> 10000']|(6000, 10000]\n",
      "['(2500, 3500]' '(3500, 6000]' '(6000, 10000]' '<= 2500' '> 10000']|> 10000\n",
      "['(2500, 3500]' '(3500, 6000]' '(6000, 10000]' '<= 2500' '> 10000']|> 10000\n",
      "['(2500, 3500]' '(3500, 6000]' '(6000, 10000]' '<= 2500']|(3500, 6000]\n",
      "['(2500, 3500]' '(3500, 6000]' '(6000, 10000]' '<= 2500' '> 10000']|(3500, 6000]\n",
      "['(2500, 3500]' '(3500, 6000]' '(6000, 10000]' '<= 2500' '> 10000']|(6000, 10000]\n",
      "['(2500, 3500]' '(3500, 6000]' '(6000, 10000]' '<= 2500' '> 10000']|(2500, 3500]\n",
      "['(2500, 3500]' '(3500, 6000]' '(6000, 10000]' '<= 2500']|(2500, 3500]\n",
      "['(2500, 3500]' '(3500, 6000]' '(6000, 10000]' '<= 2500' '> 10000']|(2500, 3500]\n",
      "['(2500, 3500]' '(3500, 6000]' '<= 2500' '> 10000']|<= 2500\n",
      "['(2500, 3500]' '(3500, 6000]' '(6000, 10000]' '<= 2500' '> 10000']|<= 2500\n",
      "['(2500, 3500]' '(3500, 6000]' '(6000, 10000]' '<= 2500' '> 10000']|(3500, 6000]\n",
      "['(2500, 3500]' '(3500, 6000]' '<= 2500']|(6000, 10000]\n",
      "['(2500, 3500]' '(3500, 6000]' '(6000, 10000]']|(2500, 3500]\n",
      "['(2500, 3500]' '(3500, 6000]']|<= 2500\n",
      "['(2500, 3500]' '(3500, 6000]' '(6000, 10000]' '<= 2500']|<= 2500\n",
      "['(2500, 3500]' '(3500, 6000]' '(6000, 10000]' '<= 2500' '> 10000']|(3500, 6000]\n",
      "['(2500, 3500]' '(3500, 6000]' '(6000, 10000]' '> 10000']|(3500, 6000]\n",
      "['(2500, 3500]' '(3500, 6000]' '(6000, 10000]' '<= 2500' '> 10000']|(3500, 6000]\n",
      "['(3500, 6000]' '(6000, 10000]']|(6000, 10000]\n",
      "['(2500, 3500]' '(3500, 6000]' '(6000, 10000]' '<= 2500']|(3500, 6000]\n",
      "['(3500, 6000]' '(6000, 10000]']|(2500, 3500]\n",
      "['(2500, 3500]' '(3500, 6000]' '(6000, 10000]' '<= 2500']|(2500, 3500]\n",
      "['(2500, 3500]' '(3500, 6000]' '(6000, 10000]' '<= 2500']|(2500, 3500]\n",
      "['(2500, 3500]' '(3500, 6000]' '(6000, 10000]' '> 10000']|(3500, 6000]\n",
      "['(2500, 3500]' '(3500, 6000]' '<= 2500' '> 10000']|(3500, 6000]\n",
      "['(2500, 3500]' '(3500, 6000]' '(6000, 10000]' '<= 2500']|(3500, 6000]\n",
      "['(2500, 3500]' '(3500, 6000]' '(6000, 10000]' '<= 2500' '> 10000']|> 10000\n",
      "['(2500, 3500]' '(3500, 6000]' '(6000, 10000]' '<= 2500']|(3500, 6000]\n",
      "['(2500, 3500]' '(3500, 6000]' '<= 2500']|<= 2500\n",
      "['(2500, 3500]' '(3500, 6000]' '(6000, 10000]' '<= 2500' '> 10000']|<= 2500\n",
      "['(2500, 3500]' '(3500, 6000]' '(6000, 10000]' '<= 2500' '> 10000']|(6000, 10000]\n",
      "['(2500, 3500]' '(3500, 6000]' '(6000, 10000]' '<= 2500' '> 10000']|(6000, 10000]\n",
      "['(2500, 3500]' '(3500, 6000]' '(6000, 10000]' '<= 2500' '> 10000']|(2500, 3500]\n",
      "['(2500, 3500]' '(3500, 6000]' '(6000, 10000]' '> 10000']|(6000, 10000]\n",
      "['(2500, 3500]' '(3500, 6000]' '(6000, 10000]' '<= 2500' '> 10000']|(3500, 6000]\n",
      "['(2500, 3500]' '(3500, 6000]' '(6000, 10000]' '<= 2500' '> 10000']|(3500, 6000]\n",
      "['(2500, 3500]' '(3500, 6000]' '(6000, 10000]' '<= 2500' '> 10000']|(2500, 3500]\n",
      "['(2500, 3500]' '(3500, 6000]' '(6000, 10000]' '<= 2500']|(3500, 6000]\n",
      "['(2500, 3500]' '(3500, 6000]' '<= 2500']|(3500, 6000]\n",
      "['(3500, 6000]' '(6000, 10000]']|(3500, 6000]\n",
      "['(2500, 3500]' '(3500, 6000]' '(6000, 10000]' '<= 2500' '> 10000']|> 10000\n",
      "['(2500, 3500]' '(3500, 6000]' '(6000, 10000]' '<= 2500' '> 10000']|(2500, 3500]\n",
      "['(2500, 3500]' '(3500, 6000]' '(6000, 10000]' '<= 2500']|> 10000\n",
      "['(2500, 3500]' '(3500, 6000]' '(6000, 10000]' '<= 2500']|(3500, 6000]\n",
      "['(2500, 3500]' '(3500, 6000]' '(6000, 10000]' '> 10000']|(2500, 3500]\n",
      "['(2500, 3500]' '(3500, 6000]' '(6000, 10000]' '> 10000']|(3500, 6000]\n",
      "['(2500, 3500]' '(3500, 6000]' '(6000, 10000]' '> 10000']|(3500, 6000]\n",
      "['(2500, 3500]' '(3500, 6000]' '(6000, 10000]' '<= 2500' '> 10000']|(2500, 3500]\n",
      "['(2500, 3500]' '(3500, 6000]' '(6000, 10000]' '<= 2500' '> 10000']|(6000, 10000]\n",
      "['(2500, 3500]' '(3500, 6000]' '(6000, 10000]' '<= 2500' '> 10000']|(6000, 10000]\n",
      "['(3500, 6000]' '(6000, 10000]']|(6000, 10000]\n",
      "['(3500, 6000]' '(6000, 10000]']|(3500, 6000]\n",
      "['(2500, 3500]' '(3500, 6000]' '<= 2500' '> 10000']|> 10000\n",
      "['(2500, 3500]' '(3500, 6000]' '(6000, 10000]' '> 10000']|(6000, 10000]\n",
      "['(2500, 3500]' '(3500, 6000]' '(6000, 10000]' '<= 2500' '> 10000']|(3500, 6000]\n",
      "['(2500, 3500]' '(3500, 6000]' '(6000, 10000]' '<= 2500']|(3500, 6000]\n",
      "['(2500, 3500]' '(3500, 6000]' '(6000, 10000]' '<= 2500' '> 10000']|(3500, 6000]\n",
      "['(2500, 3500]' '(3500, 6000]']|(3500, 6000]\n",
      "['(2500, 3500]' '(3500, 6000]']|(3500, 6000]\n",
      "['(2500, 3500]' '(3500, 6000]' '(6000, 10000]' '<= 2500' '> 10000']|(2500, 3500]\n",
      "['(2500, 3500]' '(3500, 6000]' '(6000, 10000]' '<= 2500' '> 10000']|(3500, 6000]\n",
      "['(2500, 3500]' '(3500, 6000]' '<= 2500' '> 10000']|(3500, 6000]\n",
      "['(3500, 6000]' '(6000, 10000]']|(2500, 3500]\n",
      "['(2500, 3500]' '(3500, 6000]' '(6000, 10000]' '<= 2500' '> 10000']|> 10000\n",
      "['(2500, 3500]' '(3500, 6000]' '(6000, 10000]' '<= 2500' '> 10000']|<= 2500\n",
      "['(2500, 3500]' '(3500, 6000]' '(6000, 10000]' '<= 2500' '> 10000']|(3500, 6000]\n",
      "['(2500, 3500]' '(3500, 6000]' '(6000, 10000]' '<= 2500']|<= 2500\n",
      "['(2500, 3500]' '(3500, 6000]' '(6000, 10000]' '<= 2500']|(2500, 3500]\n",
      "['(2500, 3500]' '(3500, 6000]' '(6000, 10000]' '<= 2500' '> 10000']|(2500, 3500]\n",
      "['(2500, 3500]' '(3500, 6000]' '(6000, 10000]' '<= 2500']|(3500, 6000]\n",
      "['(2500, 3500]' '(3500, 6000]' '(6000, 10000]' '<= 2500' '> 10000']|(6000, 10000]\n",
      "['(2500, 3500]' '(3500, 6000]' '(6000, 10000]' '<= 2500']|(3500, 6000]\n",
      "['(2500, 3500]' '(3500, 6000]' '(6000, 10000]' '<= 2500' '> 10000']|(2500, 3500]\n",
      "['(2500, 3500]' '(3500, 6000]' '(6000, 10000]' '<= 2500' '> 10000']|(3500, 6000]\n",
      "['(2500, 3500]' '(3500, 6000]' '(6000, 10000]' '<= 2500' '> 10000']|(2500, 3500]\n",
      "['(2500, 3500]' '(3500, 6000]' '(6000, 10000]' '<= 2500']|> 10000\n",
      "['(2500, 3500]' '(3500, 6000]' '<= 2500']|<= 2500\n",
      "['(2500, 3500]' '(3500, 6000]' '(6000, 10000]' '<= 2500' '> 10000']|(3500, 6000]\n",
      "['(2500, 3500]' '(3500, 6000]' '(6000, 10000]' '<= 2500' '> 10000']|> 10000\n",
      "['(2500, 3500]' '(3500, 6000]' '(6000, 10000]']|(3500, 6000]\n",
      "['(2500, 3500]' '(3500, 6000]' '<= 2500' '> 10000']|(3500, 6000]\n",
      "['(2500, 3500]' '(3500, 6000]' '(6000, 10000]' '<= 2500' '> 10000']|> 10000\n",
      "['(2500, 3500]' '(3500, 6000]' '<= 2500']|(3500, 6000]\n"
     ]
    }
   ],
   "source": [
    "res = []\n",
    "\n",
    "for i, x in enumerate(list(map(lambda x: model.classes_[x], prob_pred >= (1-qhat)))):\n",
    "    print(x, test.iloc[i, -1], sep=\"|\")\n",
    "    res.append(\n",
    "        test.iloc[i, -1] in x\n",
    "    )"
   ]
  },
  {
   "cell_type": "code",
   "execution_count": 52,
   "id": "4cf2320b-bc8d-485c-9765-d1e394b79094",
   "metadata": {},
   "outputs": [
    {
     "data": {
      "text/plain": [
       "0.90625"
      ]
     },
     "execution_count": 52,
     "metadata": {},
     "output_type": "execute_result"
    }
   ],
   "source": [
    "np.mean(res)"
   ]
  },
  {
   "cell_type": "markdown",
   "id": "8d4043f9-c993-48ef-9726-5576f6114449",
   "metadata": {},
   "source": [
    "# References\n",
    "\n",
    "1. [Loan Prediction w/ Various ML Models](https://www.kaggle.com/code/caesarmario/loan-prediction-w-various-ml-models/notebook)\n",
    "2. [A Gentle Introduction to Conformal Prediction and Distribution-Free Uncertainty Quantification](https://arxiv.org/abs/2107.07511)\n",
    "3. [Mortgage Calculator](https://www.bankrate.com/mortgages/mortgage-calculator/)"
   ]
  },
  {
   "cell_type": "code",
   "execution_count": null,
   "id": "3db6a43c-07a1-44f8-8490-16bb9b8eedcf",
   "metadata": {},
   "outputs": [],
   "source": []
  }
 ],
 "metadata": {
  "kernelspec": {
   "display_name": "Python 3 (ipykernel)",
   "language": "python",
   "name": "python3"
  },
  "language_info": {
   "codemirror_mode": {
    "name": "ipython",
    "version": 3
   },
   "file_extension": ".py",
   "mimetype": "text/x-python",
   "name": "python",
   "nbconvert_exporter": "python",
   "pygments_lexer": "ipython3",
   "version": "3.8.11"
  },
  "toc-autonumbering": false
 },
 "nbformat": 4,
 "nbformat_minor": 5
}
